{
 "cells": [
  {
   "cell_type": "markdown",
   "id": "30544ebe",
   "metadata": {},
   "source": [
    "# Keseluruhan Code"
   ]
  },
  {
   "cell_type": "markdown",
   "id": "094c7d04",
   "metadata": {},
   "source": [
    "# Import Library"
   ]
  },
  {
   "cell_type": "code",
   "execution_count": 1,
   "id": "a121b66d",
   "metadata": {},
   "outputs": [],
   "source": [
    "import pandas as pd\n",
    "import numpy as np\n",
    "#Import Library untuk Tokenisasi\n",
    "import string \n",
    "import re #regex library\n",
    "\n",
    "# import word_tokenize & FreqDist dari NLTK\n",
    "from nltk.tokenize import word_tokenize \n",
    "from nltk.probability import FreqDist\n",
    "from nltk.corpus import stopwords\n",
    "\n",
    "from sklearn.feature_extraction.text import CountVectorizer\n",
    "from sklearn.feature_extraction.text import TfidfVectorizer\n",
    "\n",
    "import matplotlib.pyplot as plt\n",
    "import seaborn as sns\n",
    "\n",
    "from sklearn.cluster import KMeans"
   ]
  },
  {
   "cell_type": "markdown",
   "id": "49555b1f",
   "metadata": {},
   "source": [
    "# Read Data PTA"
   ]
  },
  {
   "cell_type": "code",
   "execution_count": 2,
   "id": "433f983a",
   "metadata": {},
   "outputs": [],
   "source": [
    "dataPTA = pd.read_csv('pta-manajemen.csv')"
   ]
  },
  {
   "cell_type": "code",
   "execution_count": 3,
   "id": "85618ab0",
   "metadata": {
    "scrolled": true
   },
   "outputs": [
    {
     "data": {
      "text/html": [
       "<div>\n",
       "<style scoped>\n",
       "    .dataframe tbody tr th:only-of-type {\n",
       "        vertical-align: middle;\n",
       "    }\n",
       "\n",
       "    .dataframe tbody tr th {\n",
       "        vertical-align: top;\n",
       "    }\n",
       "\n",
       "    .dataframe thead th {\n",
       "        text-align: right;\n",
       "    }\n",
       "</style>\n",
       "<table border=\"1\" class=\"dataframe\">\n",
       "  <thead>\n",
       "    <tr style=\"text-align: right;\">\n",
       "      <th></th>\n",
       "      <th>Judul</th>\n",
       "      <th>Penulis</th>\n",
       "      <th>Dosen 1</th>\n",
       "      <th>Dosen 2</th>\n",
       "      <th>Abstrak</th>\n",
       "    </tr>\n",
       "  </thead>\n",
       "  <tbody>\n",
       "    <tr>\n",
       "      <th>0</th>\n",
       "      <td>ANALISIS TINGKAT RISIKO KREDIT \\r\\nPADA PD. BP...</td>\n",
       "      <td>Penulis : Iwan Kurniawan Gomes</td>\n",
       "      <td>Dosen Pembimbing I : Drs. Ec. Makhmud Zulkifli...</td>\n",
       "      <td>Dosen Pembimbing II :Echsan Gani, S.E., M.SI</td>\n",
       "      <td>Hasil dari penelitian ini dari perhitungan Cre...</td>\n",
       "    </tr>\n",
       "    <tr>\n",
       "      <th>1</th>\n",
       "      <td>PENGARUH DIMENSI KUALITAS PELAYANAN TERHADAP K...</td>\n",
       "      <td>Penulis : Toni Budianto</td>\n",
       "      <td>Dosen Pembimbing I : Bambang Setiyo Pambudi, S...</td>\n",
       "      <td>Dosen Pembimbing II :Fathor AS, S.E., MM.</td>\n",
       "      <td>ABSTRAK\\r\\n\\r\\nTujuan penelitian ini adalah un...</td>\n",
       "    </tr>\n",
       "    <tr>\n",
       "      <th>2</th>\n",
       "      <td>PENGARUH TIPE KEPEMIMPINAN TERHADAP PRESTASI K...</td>\n",
       "      <td>Penulis : Dharma Abidin Syah</td>\n",
       "      <td>Dosen Pembimbing I : Drs. Ec. Mudji Kuswinarno...</td>\n",
       "      <td>Dosen Pembimbing II :Faidal SE, MM</td>\n",
       "      <td>ABSTRAK\\r\\n\\tDharma Abidin Syah,Kesimpulan: (1...</td>\n",
       "    </tr>\n",
       "    <tr>\n",
       "      <th>3</th>\n",
       "      <td>PENGARUH KOMPETENSI DOSEN TERHADAP KINERJA DOS...</td>\n",
       "      <td>Penulis : Aththaariq</td>\n",
       "      <td>Dosen Pembimbing I : Dr.RM Moch Wispandono,.S....</td>\n",
       "      <td>Dosen Pembimbing II :Dr. Muhammad Alkirom Wild...</td>\n",
       "      <td>Abstrak\\r\\n\\r\\nAththaariq, Pengaruh Kompetensi...</td>\n",
       "    </tr>\n",
       "    <tr>\n",
       "      <th>4</th>\n",
       "      <td>Pengaruh Iklan di televisi terhadap keputusan ...</td>\n",
       "      <td>Penulis : Muhammad Sholeh</td>\n",
       "      <td>Dosen Pembimbing I : Bambang Setiyo Pambudi, S...</td>\n",
       "      <td>Dosen Pembimbing II :Suyono, S.E.,M.S.M</td>\n",
       "      <td>Muhammad Sholeh, Pengaruh Iklan Di Televisi Te...</td>\n",
       "    </tr>\n",
       "    <tr>\n",
       "      <th>5</th>\n",
       "      <td>PENGARUH PERILAKU KONSUMEN TERHADAP KEPUTUSAN ...</td>\n",
       "      <td>Penulis : Haryono Arifin</td>\n",
       "      <td>Dosen Pembimbing I : Dr. Ir Nurita Andriani, MM</td>\n",
       "      <td>Dosen Pembimbing II :Nirma Kurriwati, S.P., M.Si</td>\n",
       "      <td>ABSTRAK\\r\\nHaryono Arifin, Pengaruh Perilaku K...</td>\n",
       "    </tr>\n",
       "    <tr>\n",
       "      <th>6</th>\n",
       "      <td>PENGARUH SELF EFFICACY TERHADAP PRESTASI AKADE...</td>\n",
       "      <td>Penulis : ISTIB SYAROH</td>\n",
       "      <td>Dosen Pembimbing I : Dr. Dra. Hj. Iriani Ismai...</td>\n",
       "      <td>Dosen Pembimbing II :Drs. Ec. Mudji Kuswinarno...</td>\n",
       "      <td>Tujuan dari penelitian ini adalah untuk menget...</td>\n",
       "    </tr>\n",
       "    <tr>\n",
       "      <th>7</th>\n",
       "      <td>PENGARUH RELATIONSHIP MARKETING TERHADAP LOYAL...</td>\n",
       "      <td>Penulis : ARYA SUBAYU</td>\n",
       "      <td>Dosen Pembimbing I : Dr.H.Pribanus Wantara.,Dr...</td>\n",
       "      <td>Dosen Pembimbing II :Hadi Purnomo, SE, MM</td>\n",
       "      <td>Tujuan penelitian ini adalah untuk mengetahui ...</td>\n",
       "    </tr>\n",
       "    <tr>\n",
       "      <th>8</th>\n",
       "      <td>ANALISIS FAKTOR-FAKTOR YANG MENENTUKAN PREFERE...</td>\n",
       "      <td>Penulis : ulfiyatun Mutohharoh</td>\n",
       "      <td>Dosen Pembimbing I : Drs. Mohamad Tambrin, MM.</td>\n",
       "      <td>Dosen Pembimbing II :Yustina Chrismardani, S.S...</td>\n",
       "      <td>Ulfiyatun Mutohharoh, “Analisis Faktor-faktor ...</td>\n",
       "    </tr>\n",
       "    <tr>\n",
       "      <th>9</th>\n",
       "      <td>ANALISA KUALITAS PELAYANAN JASA UNTUK MENGUKUR...</td>\n",
       "      <td>Penulis : Farid Ardyansyah</td>\n",
       "      <td>Dosen Pembimbing I : Dr. H. Pribanus Wantara, ...</td>\n",
       "      <td>Dosen Pembimbing II :Hadi Purnomo, SE., MM</td>\n",
       "      <td>ABSTRAK\\r\\nTujuan penelitian ini adalah untuk ...</td>\n",
       "    </tr>\n",
       "  </tbody>\n",
       "</table>\n",
       "</div>"
      ],
      "text/plain": [
       "                                               Judul  \\\n",
       "0  ANALISIS TINGKAT RISIKO KREDIT \\r\\nPADA PD. BP...   \n",
       "1  PENGARUH DIMENSI KUALITAS PELAYANAN TERHADAP K...   \n",
       "2  PENGARUH TIPE KEPEMIMPINAN TERHADAP PRESTASI K...   \n",
       "3  PENGARUH KOMPETENSI DOSEN TERHADAP KINERJA DOS...   \n",
       "4  Pengaruh Iklan di televisi terhadap keputusan ...   \n",
       "5  PENGARUH PERILAKU KONSUMEN TERHADAP KEPUTUSAN ...   \n",
       "6  PENGARUH SELF EFFICACY TERHADAP PRESTASI AKADE...   \n",
       "7  PENGARUH RELATIONSHIP MARKETING TERHADAP LOYAL...   \n",
       "8  ANALISIS FAKTOR-FAKTOR YANG MENENTUKAN PREFERE...   \n",
       "9  ANALISA KUALITAS PELAYANAN JASA UNTUK MENGUKUR...   \n",
       "\n",
       "                          Penulis  \\\n",
       "0  Penulis : Iwan Kurniawan Gomes   \n",
       "1         Penulis : Toni Budianto   \n",
       "2    Penulis : Dharma Abidin Syah   \n",
       "3            Penulis : Aththaariq   \n",
       "4       Penulis : Muhammad Sholeh   \n",
       "5        Penulis : Haryono Arifin   \n",
       "6          Penulis : ISTIB SYAROH   \n",
       "7           Penulis : ARYA SUBAYU   \n",
       "8  Penulis : ulfiyatun Mutohharoh   \n",
       "9      Penulis : Farid Ardyansyah   \n",
       "\n",
       "                                             Dosen 1  \\\n",
       "0  Dosen Pembimbing I : Drs. Ec. Makhmud Zulkifli...   \n",
       "1  Dosen Pembimbing I : Bambang Setiyo Pambudi, S...   \n",
       "2  Dosen Pembimbing I : Drs. Ec. Mudji Kuswinarno...   \n",
       "3  Dosen Pembimbing I : Dr.RM Moch Wispandono,.S....   \n",
       "4  Dosen Pembimbing I : Bambang Setiyo Pambudi, S...   \n",
       "5    Dosen Pembimbing I : Dr. Ir Nurita Andriani, MM   \n",
       "6  Dosen Pembimbing I : Dr. Dra. Hj. Iriani Ismai...   \n",
       "7  Dosen Pembimbing I : Dr.H.Pribanus Wantara.,Dr...   \n",
       "8     Dosen Pembimbing I : Drs. Mohamad Tambrin, MM.   \n",
       "9  Dosen Pembimbing I : Dr. H. Pribanus Wantara, ...   \n",
       "\n",
       "                                             Dosen 2  \\\n",
       "0       Dosen Pembimbing II :Echsan Gani, S.E., M.SI   \n",
       "1          Dosen Pembimbing II :Fathor AS, S.E., MM.   \n",
       "2                 Dosen Pembimbing II :Faidal SE, MM   \n",
       "3  Dosen Pembimbing II :Dr. Muhammad Alkirom Wild...   \n",
       "4            Dosen Pembimbing II :Suyono, S.E.,M.S.M   \n",
       "5   Dosen Pembimbing II :Nirma Kurriwati, S.P., M.Si   \n",
       "6  Dosen Pembimbing II :Drs. Ec. Mudji Kuswinarno...   \n",
       "7          Dosen Pembimbing II :Hadi Purnomo, SE, MM   \n",
       "8  Dosen Pembimbing II :Yustina Chrismardani, S.S...   \n",
       "9         Dosen Pembimbing II :Hadi Purnomo, SE., MM   \n",
       "\n",
       "                                             Abstrak  \n",
       "0  Hasil dari penelitian ini dari perhitungan Cre...  \n",
       "1  ABSTRAK\\r\\n\\r\\nTujuan penelitian ini adalah un...  \n",
       "2  ABSTRAK\\r\\n\\tDharma Abidin Syah,Kesimpulan: (1...  \n",
       "3  Abstrak\\r\\n\\r\\nAththaariq, Pengaruh Kompetensi...  \n",
       "4  Muhammad Sholeh, Pengaruh Iklan Di Televisi Te...  \n",
       "5  ABSTRAK\\r\\nHaryono Arifin, Pengaruh Perilaku K...  \n",
       "6  Tujuan dari penelitian ini adalah untuk menget...  \n",
       "7  Tujuan penelitian ini adalah untuk mengetahui ...  \n",
       "8  Ulfiyatun Mutohharoh, “Analisis Faktor-faktor ...  \n",
       "9  ABSTRAK\\r\\nTujuan penelitian ini adalah untuk ...  "
      ]
     },
     "execution_count": 3,
     "metadata": {},
     "output_type": "execute_result"
    }
   ],
   "source": [
    "dataPTA.head(10)"
   ]
  },
  {
   "cell_type": "markdown",
   "id": "23d5ccaa",
   "metadata": {},
   "source": [
    "# Case Folding"
   ]
  },
  {
   "cell_type": "code",
   "execution_count": 4,
   "id": "34dc14d3",
   "metadata": {
    "scrolled": true
   },
   "outputs": [
    {
     "name": "stdout",
     "output_type": "stream",
     "text": [
      "Case Folding Result : \n",
      "\n",
      "0    hasil dari penelitian ini dari perhitungan cre...\n",
      "1    abstrak\\r\\n\\r\\ntujuan penelitian ini adalah un...\n",
      "2    abstrak\\r\\n\\tdharma abidin syah,kesimpulan: (1...\n",
      "3    abstrak\\r\\n\\r\\naththaariq, pengaruh kompetensi...\n",
      "4    muhammad sholeh, pengaruh iklan di televisi te...\n",
      "Name: Abstrak, dtype: object\n",
      "\n",
      "\n",
      "\n",
      "\n"
     ]
    }
   ],
   "source": [
    "\n",
    "# gunakan fungsi Series.str.lower() pada Pandas\n",
    "dataPTA['Abstrak'] = dataPTA['Abstrak'].str.lower()\n",
    "\n",
    "print('Case Folding Result : \\n')\n",
    "\n",
    "#cek hasil case fold\n",
    "print(dataPTA['Abstrak'].head(5))\n",
    "print('\\n\\n\\n')"
   ]
  },
  {
   "cell_type": "markdown",
   "id": "332d9326",
   "metadata": {},
   "source": [
    "# Removal"
   ]
  },
  {
   "cell_type": "code",
   "execution_count": 5,
   "id": "7c240b30",
   "metadata": {},
   "outputs": [
    {
     "name": "stdout",
     "output_type": "stream",
     "text": [
      "Tokenizing Result : \n",
      "\n",
      "0    [hasil, dari, penelitian, ini, dari, perhitung...\n",
      "1    [abstrak, tujuan, penelitian, ini, adalah, unt...\n",
      "2    [abstrak, dharma, abidin, syahkesimpulan, terd...\n",
      "3    [abstrak, aththaariq, pengaruh, kompetensi, do...\n",
      "4    [muhammad, sholeh, pengaruh, iklan, di, televi...\n",
      "Name: abstrak_token, dtype: object\n"
     ]
    }
   ],
   "source": [
    "#Import Library untuk Tokenisasi\n",
    "import string \n",
    "import re #regex library\n",
    "\n",
    "# import word_tokenize & FreqDist dari NLTK\n",
    "from nltk.tokenize import word_tokenize \n",
    "from nltk.probability import FreqDist\n",
    "\n",
    "def remove_PTA_special(text):\n",
    "    # menghapus tab, new line, dan back slice\n",
    "    text = text.replace('\\\\t',\" \").replace('\\\\n',\" \").replace('\\\\u',\" \").replace('\\\\',\"\")\n",
    "    # menghapus non ASCII (emoticon, chinese word, .etc)\n",
    "    text = text.encode('ascii', 'replace').decode('ascii')\n",
    "    # menghapus mention, link, hashtag\n",
    "    text = ' '.join(re.sub(\"([@#][A-Za-z0-9]+)|(\\w+:\\/\\/\\S+)\",\" \", text).split())\n",
    "    # menghapus incomplete URL\n",
    "    return text.replace(\"http://\", \" \").replace(\"https://\", \" \")\n",
    "                \n",
    "dataPTA['Abstrak'] = dataPTA['Abstrak'].apply(remove_PTA_special)\n",
    "\n",
    "#menghapus nomor\n",
    "def remove_number(text):\n",
    "    return  re.sub(r\"\\d+\", \"\", text)\n",
    "\n",
    "dataPTA['Abstrak'] = dataPTA['Abstrak'].apply(remove_number)\n",
    "\n",
    "#menghapus punctuation\n",
    "def remove_punctuation(text):\n",
    "    return text.translate(str.maketrans(\"\",\"\",string.punctuation))\n",
    "\n",
    "dataPTA['Abstrak'] = dataPTA['Abstrak'].apply(remove_punctuation)\n",
    "\n",
    "#menghapus spasi leading & trailing\n",
    "def remove_whitespace_LT(text):\n",
    "    return text.strip()\n",
    "\n",
    "dataPTA['Abstrak'] = dataPTA['Abstrak'].apply(remove_whitespace_LT)\n",
    "\n",
    "#menghapus spasi tunggal dan ganda\n",
    "def remove_whitespace_multiple(text):\n",
    "    return re.sub('\\s+',' ',text)\n",
    "\n",
    "dataPTA['Abstrak'] = dataPTA['Abstrak'].apply(remove_whitespace_multiple)\n",
    "\n",
    "# menghapus kata 1 abjad\n",
    "def remove_singl_char(text):\n",
    "    return re.sub(r\"\\b[a-zA-Z]\\b\", \"\", text)\n",
    "\n",
    "dataPTA['Abstrak'] = dataPTA['Abstrak'].apply(remove_singl_char)\n",
    "\n",
    "# Tokenisasi\n",
    "def word_tokenize_wrapper(text):\n",
    "    return word_tokenize(text)\n",
    "\n",
    "dataPTA['abstrak_token'] = dataPTA['Abstrak'].apply(word_tokenize_wrapper)\n",
    "\n",
    "print('Tokenizing Result : \\n') \n",
    "print(dataPTA['abstrak_token'].head())"
   ]
  },
  {
   "cell_type": "markdown",
   "id": "fa6ae080",
   "metadata": {},
   "source": [
    "# STOPWORD "
   ]
  },
  {
   "cell_type": "code",
   "execution_count": 6,
   "id": "36de7fc5",
   "metadata": {},
   "outputs": [
    {
     "name": "stdout",
     "output_type": "stream",
     "text": [
      "0     [hasil, penelitian, perhitungan, credit, risk,...\n",
      "1     [abstrak, tujuan, penelitian, mengidentifikasi...\n",
      "2     [abstrak, dharma, abidin, syahkesimpulan, peng...\n",
      "3     [abstrak, aththaariq, pengaruh, kompetensi, do...\n",
      "4     [muhammad, sholeh, pengaruh, iklan, televisi, ...\n",
      "5     [abstrak, haryono, arifin, pengaruh, perilaku,...\n",
      "6     [tujuan, penelitian, pengaruh, variabel, self,...\n",
      "7     [tujuan, penelitian, pengaruh, variabel, relat...\n",
      "8     [ulfiyatun, mutohharoh, analisis, faktorfaktor...\n",
      "9     [abstrak, tujuan, penelitian, menganalisis, at...\n",
      "10    [devi, kurniawati, pengaruh, earning, share, n...\n",
      "11    [abstrak, tujuan, penelitian, harga, kualitas,...\n",
      "12    [abstrak, penelitian, bertujuan, pengaruh, fak...\n",
      "13    [tujuan, penlitian, variabel, iklan, berdasark...\n",
      "14    [tujuan, penelitian, pengaruh, variabel, brand...\n",
      "15    [farid, pengaruh, periklanan, media, televisi,...\n",
      "16    [tujuan, penelitian, kualitas, pelayanan, keha...\n",
      "17    [tujuan, penelitian, pengaruh, sikap, parsial,...\n",
      "18    [abstrak, pengaruh, kecerdasan, emosional, pre...\n",
      "19    [tujuan, penelitian, pengaruh, rasio, profitab...\n",
      "Name: abstrak_stop, dtype: object\n"
     ]
    }
   ],
   "source": [
    "from nltk.corpus import stopwords\n",
    "\n",
    "list_stopwords = stopwords.words('indonesian')\n",
    "\n",
    "# Mengubah List ke dictionary\n",
    "list_stopwords = set(list_stopwords)\n",
    "\n",
    "\n",
    "#remove stopword pada list token\n",
    "def stopwords_removal(words):\n",
    "    return [word for word in words if word not in list_stopwords]\n",
    "\n",
    "#aStopwording\n",
    "dataPTA['abstrak_stop'] = dataPTA['abstrak_token'].apply(stopwords_removal) \n",
    "\n",
    "\n",
    "print(dataPTA['abstrak_stop'].head(20))"
   ]
  },
  {
   "cell_type": "code",
   "execution_count": 7,
   "id": "c9547f60",
   "metadata": {
    "scrolled": false
   },
   "outputs": [
    {
     "data": {
      "text/html": [
       "<div>\n",
       "<style scoped>\n",
       "    .dataframe tbody tr th:only-of-type {\n",
       "        vertical-align: middle;\n",
       "    }\n",
       "\n",
       "    .dataframe tbody tr th {\n",
       "        vertical-align: top;\n",
       "    }\n",
       "\n",
       "    .dataframe thead th {\n",
       "        text-align: right;\n",
       "    }\n",
       "</style>\n",
       "<table border=\"1\" class=\"dataframe\">\n",
       "  <thead>\n",
       "    <tr style=\"text-align: right;\">\n",
       "      <th></th>\n",
       "      <th>Judul</th>\n",
       "      <th>Penulis</th>\n",
       "      <th>Dosen 1</th>\n",
       "      <th>Dosen 2</th>\n",
       "      <th>Abstrak</th>\n",
       "      <th>abstrak_token</th>\n",
       "      <th>abstrak_stop</th>\n",
       "    </tr>\n",
       "  </thead>\n",
       "  <tbody>\n",
       "    <tr>\n",
       "      <th>0</th>\n",
       "      <td>ANALISIS TINGKAT RISIKO KREDIT \\r\\nPADA PD. BP...</td>\n",
       "      <td>Penulis : Iwan Kurniawan Gomes</td>\n",
       "      <td>Dosen Pembimbing I : Drs. Ec. Makhmud Zulkifli...</td>\n",
       "      <td>Dosen Pembimbing II :Echsan Gani, S.E., M.SI</td>\n",
       "      <td>hasil dari penelitian ini dari perhitungan cre...</td>\n",
       "      <td>[hasil, dari, penelitian, ini, dari, perhitung...</td>\n",
       "      <td>[hasil, penelitian, perhitungan, credit, risk,...</td>\n",
       "    </tr>\n",
       "    <tr>\n",
       "      <th>1</th>\n",
       "      <td>PENGARUH DIMENSI KUALITAS PELAYANAN TERHADAP K...</td>\n",
       "      <td>Penulis : Toni Budianto</td>\n",
       "      <td>Dosen Pembimbing I : Bambang Setiyo Pambudi, S...</td>\n",
       "      <td>Dosen Pembimbing II :Fathor AS, S.E., MM.</td>\n",
       "      <td>abstrak tujuan penelitian ini adalah untuk men...</td>\n",
       "      <td>[abstrak, tujuan, penelitian, ini, adalah, unt...</td>\n",
       "      <td>[abstrak, tujuan, penelitian, mengidentifikasi...</td>\n",
       "    </tr>\n",
       "    <tr>\n",
       "      <th>2</th>\n",
       "      <td>PENGARUH TIPE KEPEMIMPINAN TERHADAP PRESTASI K...</td>\n",
       "      <td>Penulis : Dharma Abidin Syah</td>\n",
       "      <td>Dosen Pembimbing I : Drs. Ec. Mudji Kuswinarno...</td>\n",
       "      <td>Dosen Pembimbing II :Faidal SE, MM</td>\n",
       "      <td>abstrak dharma abidin syahkesimpulan terdapat ...</td>\n",
       "      <td>[abstrak, dharma, abidin, syahkesimpulan, terd...</td>\n",
       "      <td>[abstrak, dharma, abidin, syahkesimpulan, peng...</td>\n",
       "    </tr>\n",
       "    <tr>\n",
       "      <th>3</th>\n",
       "      <td>PENGARUH KOMPETENSI DOSEN TERHADAP KINERJA DOS...</td>\n",
       "      <td>Penulis : Aththaariq</td>\n",
       "      <td>Dosen Pembimbing I : Dr.RM Moch Wispandono,.S....</td>\n",
       "      <td>Dosen Pembimbing II :Dr. Muhammad Alkirom Wild...</td>\n",
       "      <td>abstrak aththaariq pengaruh kompetensi dosen t...</td>\n",
       "      <td>[abstrak, aththaariq, pengaruh, kompetensi, do...</td>\n",
       "      <td>[abstrak, aththaariq, pengaruh, kompetensi, do...</td>\n",
       "    </tr>\n",
       "    <tr>\n",
       "      <th>4</th>\n",
       "      <td>Pengaruh Iklan di televisi terhadap keputusan ...</td>\n",
       "      <td>Penulis : Muhammad Sholeh</td>\n",
       "      <td>Dosen Pembimbing I : Bambang Setiyo Pambudi, S...</td>\n",
       "      <td>Dosen Pembimbing II :Suyono, S.E.,M.S.M</td>\n",
       "      <td>muhammad sholeh pengaruh iklan di televisi ter...</td>\n",
       "      <td>[muhammad, sholeh, pengaruh, iklan, di, televi...</td>\n",
       "      <td>[muhammad, sholeh, pengaruh, iklan, televisi, ...</td>\n",
       "    </tr>\n",
       "  </tbody>\n",
       "</table>\n",
       "</div>"
      ],
      "text/plain": [
       "                                               Judul  \\\n",
       "0  ANALISIS TINGKAT RISIKO KREDIT \\r\\nPADA PD. BP...   \n",
       "1  PENGARUH DIMENSI KUALITAS PELAYANAN TERHADAP K...   \n",
       "2  PENGARUH TIPE KEPEMIMPINAN TERHADAP PRESTASI K...   \n",
       "3  PENGARUH KOMPETENSI DOSEN TERHADAP KINERJA DOS...   \n",
       "4  Pengaruh Iklan di televisi terhadap keputusan ...   \n",
       "\n",
       "                          Penulis  \\\n",
       "0  Penulis : Iwan Kurniawan Gomes   \n",
       "1         Penulis : Toni Budianto   \n",
       "2    Penulis : Dharma Abidin Syah   \n",
       "3            Penulis : Aththaariq   \n",
       "4       Penulis : Muhammad Sholeh   \n",
       "\n",
       "                                             Dosen 1  \\\n",
       "0  Dosen Pembimbing I : Drs. Ec. Makhmud Zulkifli...   \n",
       "1  Dosen Pembimbing I : Bambang Setiyo Pambudi, S...   \n",
       "2  Dosen Pembimbing I : Drs. Ec. Mudji Kuswinarno...   \n",
       "3  Dosen Pembimbing I : Dr.RM Moch Wispandono,.S....   \n",
       "4  Dosen Pembimbing I : Bambang Setiyo Pambudi, S...   \n",
       "\n",
       "                                             Dosen 2  \\\n",
       "0       Dosen Pembimbing II :Echsan Gani, S.E., M.SI   \n",
       "1          Dosen Pembimbing II :Fathor AS, S.E., MM.   \n",
       "2                 Dosen Pembimbing II :Faidal SE, MM   \n",
       "3  Dosen Pembimbing II :Dr. Muhammad Alkirom Wild...   \n",
       "4            Dosen Pembimbing II :Suyono, S.E.,M.S.M   \n",
       "\n",
       "                                             Abstrak  \\\n",
       "0  hasil dari penelitian ini dari perhitungan cre...   \n",
       "1  abstrak tujuan penelitian ini adalah untuk men...   \n",
       "2  abstrak dharma abidin syahkesimpulan terdapat ...   \n",
       "3  abstrak aththaariq pengaruh kompetensi dosen t...   \n",
       "4  muhammad sholeh pengaruh iklan di televisi ter...   \n",
       "\n",
       "                                       abstrak_token  \\\n",
       "0  [hasil, dari, penelitian, ini, dari, perhitung...   \n",
       "1  [abstrak, tujuan, penelitian, ini, adalah, unt...   \n",
       "2  [abstrak, dharma, abidin, syahkesimpulan, terd...   \n",
       "3  [abstrak, aththaariq, pengaruh, kompetensi, do...   \n",
       "4  [muhammad, sholeh, pengaruh, iklan, di, televi...   \n",
       "\n",
       "                                        abstrak_stop  \n",
       "0  [hasil, penelitian, perhitungan, credit, risk,...  \n",
       "1  [abstrak, tujuan, penelitian, mengidentifikasi...  \n",
       "2  [abstrak, dharma, abidin, syahkesimpulan, peng...  \n",
       "3  [abstrak, aththaariq, pengaruh, kompetensi, do...  \n",
       "4  [muhammad, sholeh, pengaruh, iklan, televisi, ...  "
      ]
     },
     "execution_count": 7,
     "metadata": {},
     "output_type": "execute_result"
    }
   ],
   "source": [
    "dataPTA.head()"
   ]
  },
  {
   "cell_type": "markdown",
   "id": "d83c2bf7",
   "metadata": {},
   "source": [
    "# stemming"
   ]
  },
  {
   "cell_type": "code",
   "execution_count": 8,
   "id": "68957410",
   "metadata": {},
   "outputs": [
    {
     "name": "stdout",
     "output_type": "stream",
     "text": [
      "1210\n",
      "------------------------\n",
      "hasil : hasil\n",
      "penelitian : teliti\n",
      "perhitungan : hitung\n"
     ]
    },
    {
     "name": "stdout",
     "output_type": "stream",
     "text": [
      "credit : credit\n",
      "risk : risk\n"
     ]
    },
    {
     "name": "stdout",
     "output_type": "stream",
     "text": [
      "ratio : ratio\n",
      "menunjukan : tunjuk\n",
      "npl : npl\n",
      "pd : pd\n",
      "bpr : bpr\n",
      "bank : bank\n",
      "daerah : daerah\n"
     ]
    },
    {
     "name": "stdout",
     "output_type": "stream",
     "text": [
      "lamongan : lamongan\n",
      "mengalami : alami\n",
      "penurunan : turun\n",
      "tingkat : tingkat\n",
      "resiko : resiko\n",
      "kesimpulan : simpul\n"
     ]
    },
    {
     "name": "stdout",
     "output_type": "stream",
     "text": [
      "dikatagorikan : dikatagorikan\n",
      "berdasarkan : dasar\n",
      "ketentuan : tentu\n",
      "indonesia : indonesia\n",
      "syarat : syarat\n",
      "maksimal : maksimal\n",
      "kunci : kunci\n",
      "non : non\n"
     ]
    },
    {
     "name": "stdout",
     "output_type": "stream",
     "text": [
      "performing : performing\n",
      "loan : loan\n",
      "abstrak : abstrak\n",
      "tujuan : tuju\n",
      "mengidentifikasi : identifikasi\n"
     ]
    },
    {
     "name": "stdout",
     "output_type": "stream",
     "text": [
      "variabelvariabel : variabelvariabel\n",
      "mempengaruhi : pengaruh\n",
      "kepuasan : puas\n",
      "konsumen : konsumen\n",
      "simultan : simultan\n",
      "parsial : parsial\n",
      "metode : metode\n",
      "kuantitatif : kuantitatif\n",
      "populasi : populasi\n",
      "depot : depot\n"
     ]
    },
    {
     "name": "stdout",
     "output_type": "stream",
     "text": [
      "barokah : barokah\n",
      "prambon : prambon\n",
      "pelayanan : layan\n",
      "sampel : sampel\n",
      "responden : responden\n",
      "teknik : teknik\n"
     ]
    },
    {
     "name": "stdout",
     "output_type": "stream",
     "text": [
      "accidental : accidental\n",
      "sampling : sampling\n",
      "analisis : analisis\n",
      "regresi : regresi\n",
      "linier : linier\n",
      "berganda : ganda\n",
      "variabel : variabel\n",
      "independen : independen\n",
      "bukti : bukti\n",
      "fisik : fisik\n"
     ]
    },
    {
     "name": "stdout",
     "output_type": "stream",
     "text": [
      "kehandalan : kehandalan\n",
      "jaminan : jamin\n",
      "berpengaruh : pengaruh\n",
      "signifikan : signifikan\n",
      "daya : daya\n",
      "tanggap : tanggap\n",
      "empati : empati\n",
      "dependen : dependen\n",
      "pengaruh : pengaruh\n",
      "kualitas : kualitas\n",
      "dharma : dharma\n",
      "abidin : abidin\n"
     ]
    },
    {
     "name": "stdout",
     "output_type": "stream",
     "text": [
      "syahkesimpulan : syahkesimpulan\n",
      "tipe : tipe\n",
      "kepemimpinan : pimpin\n"
     ]
    },
    {
     "name": "stdout",
     "output_type": "stream",
     "text": [
      "autoritarian : autoritarian\n",
      "laissezfaire : laissezfaire\n",
      "demokratis : demokratis\n",
      "prestasi : prestasi\n",
      "kerja : kerja\n",
      "pegawai : pegawai\n",
      "kantor : kantor\n",
      "kecamatan : camat\n"
     ]
    },
    {
     "name": "stdout",
     "output_type": "stream",
     "text": [
      "pangarengan : pangarengan\n",
      "kabupaten : kabupaten\n",
      "sampang : sampang\n",
      "uji : uji\n",
      "anova : anova\n",
      "nilai : nilai\n"
     ]
    },
    {
     "name": "stdout",
     "output_type": "stream",
     "text": [
      "fhitung : fhitung\n",
      "ftabel : ftabel\n",
      "kontribusi : kontribusi\n"
     ]
    },
    {
     "name": "stdout",
     "output_type": "stream",
     "text": [
      "autoritariansecara : autoritariansecara\n",
      "pegawaidikantor : pegawaidikantor\n",
      "hitung : hitung\n",
      "tabel : tabel\n",
      "laissezfairesecara : laissezfairesecara\n",
      "koefisien : koefisien\n",
      "determinasi : determinasi\n",
      "bebas : bebas\n",
      "lainya : lai\n",
      "dominan : dominan\n",
      "dikantor : kantor\n"
     ]
    },
    {
     "name": "stdout",
     "output_type": "stream",
     "text": [
      "aththaariq : aththaariq\n",
      "kompetensi : kompetensi\n",
      "dosen : dosen\n",
      "kinerja : kerja\n",
      "universitas : universitas\n",
      "trunojoyo : trunojoyo\n",
      "madura : madura\n",
      "dibawah : bawah\n",
      "bimbingan : bimbing\n"
     ]
    },
    {
     "name": "stdout",
     "output_type": "stream",
     "text": [
      "drrm : drrm\n",
      "moch : moch\n",
      "wispandonosems : wispandonosems\n",
      "dr : dr\n",
      "muhammad : muhammad\n",
      "alkirom : alkirom\n"
     ]
    },
    {
     "name": "stdout",
     "output_type": "stream",
     "text": [
      "wildansemsi : wildansemsi\n",
      "bertujuan : tuju\n",
      "menganalisis : analis\n",
      "pedagogik : pedagogik\n",
      "profesional : profesional\n",
      "sosial : sosial\n",
      "kepribadian : pribadi\n",
      "terikat : ikat\n",
      "data : data\n",
      "primer : primer\n",
      "diperoleh : oleh\n"
     ]
    },
    {
     "name": "stdout",
     "output_type": "stream",
     "text": [
      "penyebaran : sebar\n",
      "kuesioner : kuesioner\n",
      "tersertifikasi : sertifikasi\n",
      "aktif : aktif\n",
      "pengambilan : ambil\n",
      "judgmental : judgmental\n",
      "disimpulkan : simpul\n"
     ]
    },
    {
     "name": "stdout",
     "output_type": "stream",
     "text": [
      "koefisiensi : koefisiensi\n",
      "dipengaruhi : pengaruh\n",
      "perubahan : ubah\n",
      "diteliti : teliti\n",
      "sisanya : sisa\n",
      "memiliki : milik\n",
      "signifikansi : signifikansi\n",
      "beta : beta\n"
     ]
    },
    {
     "name": "stdout",
     "output_type": "stream",
     "text": [
      "kepribadiandan : kepribadiandan\n",
      "sholeh : sholeh\n",
      "iklan : iklan\n",
      "televisi : televisi\n",
      "keputusan : putus\n",
      "memakai : pakai\n",
      "kartu : kartu\n",
      "seluler : seluler\n",
      "xl : xl\n",
      "geger : geger\n",
      "bambang : bambang\n",
      "setiyo : setiyo\n"
     ]
    },
    {
     "name": "stdout",
     "output_type": "stream",
     "text": [
      "pambudi : pambudi\n",
      "mm : mm\n",
      "suyono : suyono\n",
      "msm : msm\n",
      "masyarakat : masyarakat\n",
      "bangkalan : bangkal\n",
      "terkumpul : kumpul\n",
      "alat : alat\n",
      "bantu : bantu\n"
     ]
    },
    {
     "name": "stdout",
     "output_type": "stream",
     "text": [
      "software : software\n",
      "spss : spss\n",
      "pengujian : uji\n",
      "hipotesis : hipotesis\n",
      "isi : isi\n",
      "pesan : pesan\n",
      "struktur : struktur\n",
      "format : format\n",
      "sumber : sumber\n"
     ]
    },
    {
     "name": "stdout",
     "output_type": "stream",
     "text": [
      "keywords : keywords\n",
      "haryono : haryono\n",
      "arifin : arifin\n",
      "perilaku : perilaku\n",
      "pembelian : beli\n",
      "produk : produk\n",
      "honda : honda\n",
      "merek : merek\n",
      "vario : vario\n",
      "studi : studi\n"
     ]
    },
    {
     "name": "stdout",
     "output_type": "stream",
     "text": [
      "dealler : dealler\n",
      "surya : surya\n",
      "agung : agung\n",
      "motor : motor\n",
      "dealer : dealer\n",
      "manakah : mana\n",
      "kebudayaan : budaya\n",
      "pribadi : pribadi\n",
      "psikologis : psikologis\n",
      "pendekatan : dekat\n",
      "pengamatan : amat\n",
      "langsung : langsung\n"
     ]
    },
    {
     "name": "stdout",
     "output_type": "stream",
     "text": [
      "dianalisa : dianalisa\n",
      "dijadikan : jadi\n",
      "dianalisis : analis\n",
      "versi : versi\n",
      "self : self\n",
      "efficacy : efficacy\n"
     ]
    },
    {
     "name": "stdout",
     "output_type": "stream",
     "text": [
      "magnitude : magnitude\n",
      "generality : generality\n",
      "strength : strength\n",
      "akademik : akademik\n",
      "mahasiswa : mahasiswa\n",
      "berprestasi : prestasi\n",
      "dimana : mana\n",
      "diambil : ambil\n"
     ]
    },
    {
     "name": "stdout",
     "output_type": "stream",
     "text": [
      "mengikuti : ikut\n",
      "mawapres : mawapres\n",
      "orang : orang\n",
      "diterima : terima\n",
      "temuan : temu\n"
     ]
    },
    {
     "name": "stdout",
     "output_type": "stream",
     "text": [
      "teridiri : teridiri\n",
      "faktor : faktor\n",
      "relationship : relationship\n",
      "marketing : marketing\n",
      "keuntungan : untung\n",
      "komitmen : komitmen\n",
      "komunikasi : komunikasi\n",
      "kebenaran : benar\n",
      "loyalitas : loyalitas\n",
      "nasabah : nasabah\n"
     ]
    },
    {
     "name": "stdout",
     "output_type": "stream",
     "text": [
      "adira : adira\n",
      "finance : finance\n",
      "wilayah : wilayah\n",
      "surabaya : surabaya\n",
      "barat : barat\n",
      "negatif : negatif\n"
     ]
    },
    {
     "name": "stdout",
     "output_type": "stream",
     "text": [
      "ulfiyatun : ulfiyatun\n",
      "mutohharoh : mutohharoh\n",
      "faktorfaktor : faktorfaktor\n",
      "menentukan : tentu\n",
      "preferensi : preferensi\n",
      "belanja : belanja\n",
      "online : online\n"
     ]
    },
    {
     "name": "stdout",
     "output_type": "stream",
     "text": [
      "fashion : fashion\n",
      "mahasiwa : mahasiwa\n",
      "fakultas : fakultas\n",
      "ekonomi : ekonomi\n"
     ]
    },
    {
     "name": "stdout",
     "output_type": "stream",
     "text": [
      "journal : journal\n",
      "of : of\n",
      "economics : economics\n",
      "program : program\n",
      "manajemen : manajemen\n",
      "drs : drs\n"
     ]
    },
    {
     "name": "stdout",
     "output_type": "stream",
     "text": [
      "mohamad : mohamad\n",
      "tambrin : tambrin\n"
     ]
    },
    {
     "name": "stdout",
     "output_type": "stream",
     "text": [
      "yustina : yustina\n",
      "crismardani : crismardani\n",
      "ssi : ssi\n"
     ]
    },
    {
     "name": "stdout",
     "output_type": "stream",
     "text": [
      "internet : internet\n",
      "sistem : sistem\n",
      "informasi : informasi\n",
      "global : global\n",
      "berbasis : bas\n",
      "komputer : komputer\n",
      "perlahanlahan : perlahanlahan\n"
     ]
    },
    {
     "name": "stdout",
     "output_type": "stream",
     "text": [
      "menggeser : geser\n",
      "budaya : budaya\n",
      "konvensional : konvensional\n",
      "praktis : praktis\n",
      "modern : modern\n",
      "berbelanja : belanja\n",
      "dirilis : rilis\n",
      "detikcom : detikcom\n",
      "dibeli : beli\n",
      "dipertimbangkan : timbang\n"
     ]
    },
    {
     "name": "stdout",
     "output_type": "stream",
     "text": [
      "menetukan : menetukan\n",
      "berketergantungan : gantung\n",
      "interdependent : interdependent\n",
      "variable : variable"
     ]
    },
    {
     "name": "stdout",
     "output_type": "stream",
     "text": [
      "\n",
      "jenis : jenis\n",
      "deskriptif : deskriptif\n",
      "statistic : statistic\n"
     ]
    },
    {
     "name": "stdout",
     "output_type": "stream",
     "text": [
      "konfirmatori : konfirmatori\n",
      "didapatkan : dapat\n",
      "kmo : kmo\n",
      "item : item\n",
      "menghasilkan : hasil\n",
      "rendah : rendah\n",
      "klasifikasi : klasifikasi\n",
      "miserablenilai : miserablenilai\n",
      "statistik : statistik\n",
      "ukuran : ukur\n"
     ]
    },
    {
     "name": "stdout",
     "output_type": "stream",
     "text": [
      "kecukuperatan : kecukuperatan\n",
      "hubungan : hubung\n",
      "layak : layak\n",
      "harga : harga\n",
      "alternatif : alternatif\n",
      "atribut : atribut\n",
      "kepentingan : penting\n",
      "pengguna : guna\n",
      "sepeda : sepeda\n",
      "jembatan : jembatan\n",
      "suramadu : suramadu\n",
      "diagram : diagram\n"
     ]
    },
    {
     "name": "stdout",
     "output_type": "stream",
     "text": [
      "kartesius : kartesius\n",
      "importance : importance\n",
      "performance : performance\n",
      "enam : enam\n",
      "fokus : fokus\n",
      "utama : utama\n",
      "ketidak : tidak\n",
      "puasan : puas\n",
      "lampu : lampu\n",
      "penerangan : terang\n",
      "terpasang : pasang\n",
      "menyala : nyala\n",
      "malam : malam\n",
      "petugas : tugas\n",
      "jasa : jasa\n",
      "marga : marga\n"
     ]
    },
    {
     "name": "stdout",
     "output_type": "stream",
     "text": [
      "berpenampilan : tampil\n",
      "rapi : rapi\n",
      "kondisi : kondisi\n",
      "jalan : jalan\n",
      "mulus : mulus\n",
      "berlubang : lubang\n",
      "tiket : tiket\n",
      "teliti : teliti\n",
      "uang : uang\n",
      "kembalian : kembali\n",
      "pt : pt\n",
      "asuransi : asuransi\n",
      "kecelakaan : celaka\n",
      "patroli : patroli\n",
      "sungguhsungguh : sungguhsungguh\n",
      "memperhatikan : perhati\n"
     ]
    },
    {
     "name": "stdout",
     "output_type": "stream",
     "text": [
      "mogokban : mogokban\n",
      "bocordll : bocordll\n"
     ]
    },
    {
     "name": "stdout",
     "output_type": "stream",
     "text": [
      "devi : devi\n",
      "kurniawati : kurniawati\n"
     ]
    },
    {
     "name": "stdout",
     "output_type": "stream",
     "text": [
      "earning : earning\n",
      "share : share\n",
      "net : net\n",
      "profit : profit\n",
      "margin : margin\n",
      "debt : debt\n",
      "to : to\n"
     ]
    },
    {
     "name": "stdout",
     "output_type": "stream",
     "text": [
      "asset : asset\n",
      "return : return\n",
      "on : on\n",
      "equity : equity\n",
      "saham : saham\n"
     ]
    },
    {
     "name": "stdout",
     "output_type": "stream",
     "text": [
      "perusahaan : usaha\n",
      "otomotif : otomotif\n",
      "komponennya : komponen\n",
      "terdaftar : daftar\n",
      "bei : bei\n",
      "periode : periode\n",
      "gatot : gatot\n",
      "heru : heru\n",
      "prajoto : prajoto\n"
     ]
    },
    {
     "name": "stdout",
     "output_type": "stream",
     "text": [
      "prasetyo : prasetyo\n",
      "nugroho : nugroho\n",
      "spi : spi\n",
      "purposive : purposive\n",
      "instrumen : instrumen\n",
      "asumsi : asumsi\n",
      "klasik : klasik\n"
     ]
    },
    {
     "name": "stdout",
     "output_type": "stream",
     "text": [
      "menguji : uji\n",
      "square : square\n",
      "besarnya : besar\n",
      "positif : positif\n",
      "deterjen : deterjen\n"
     ]
    },
    {
     "name": "stdout",
     "output_type": "stream",
     "text": [
      "rinso : rinso\n",
      "anti : anti\n",
      "noda : noda\n",
      "adjusted : adjusted\n",
      "berdomisili : domisili\n",
      "desa : desa\n",
      "telang : telang\n",
      "stres : stres\n"
     ]
    },
    {
     "name": "stdout",
     "output_type": "stream",
     "text": [
      "terhdap : terhdap\n",
      "disiplin : disiplin\n",
      "stressor : stressor\n",
      "lingkungan : lingkung\n",
      "individu : individu\n",
      "kelompok : kelompok\n",
      "organisasi : organisasi\n"
     ]
    },
    {
     "name": "stdout",
     "output_type": "stream",
     "text": [
      "katakunci : katakunci\n",
      "penlitian : penlitian\n",
      "konsep : konsep\n"
     ]
    },
    {
     "name": "stdout",
     "output_type": "stream",
     "text": [
      "aida : aida\n",
      "helm : helm\n",
      "ink : ink\n",
      "kota : kota\n",
      "berusaha : usaha\n",
      "pengumpulan : kumpul\n",
      "kepustakaan : pustaka\n",
      "skala : skala\n",
      "likert : likert\n",
      "mengukur : ukur\n",
      "validitas : validitas\n",
      "reliabilitas : reliabilitas\n"
     ]
    },
    {
     "name": "stdout",
     "output_type": "stream",
     "text": [
      "attention : attention\n",
      "interest : interest\n",
      "desire : desire\n"
     ]
    },
    {
     "name": "stdout",
     "output_type": "stream",
     "text": [
      "action : action\n",
      "brand : brand\n",
      "image : image\n",
      "citra : citra\n"
     ]
    },
    {
     "name": "stdout",
     "output_type": "stream",
     "text": [
      "flashdisk : flashdisk\n",
      "toshiba : toshiba\n",
      "berlandaskan : landas\n",
      "filsafat : filsafat\n",
      "positivisme : positivisme\n",
      "ditetapkan : tetap\n",
      "utm : utm\n"
     ]
    },
    {
     "name": "stdout",
     "output_type": "stream",
     "text": [
      "corporate : corporate\n",
      "user : user\n"
     ]
    },
    {
     "name": "stdout",
     "output_type": "stream",
     "text": [
      "product : product\n",
      "and : and\n",
      "consumer : consumer\n",
      "purchasing : purchasing\n"
     ]
    },
    {
     "name": "stdout",
     "output_type": "stream",
     "text": [
      "decisions : decisions\n",
      "farid : farid\n",
      "periklanan : iklan\n",
      "media : media\n"
     ]
    },
    {
     "name": "stdout",
     "output_type": "stream",
     "text": [
      "shampo : shampo\n",
      "pantene : pantene\n",
      "dungkek : dungkek\n"
     ]
    },
    {
     "name": "stdout",
     "output_type": "stream",
     "text": [
      "sumenep : sumenep\n",
      "softwere : softwere\n"
     ]
    },
    {
     "name": "stdout",
     "output_type": "stream",
     "text": [
      "vareabel : vareabel\n",
      "shampoo : shampoo\n",
      "rakyat : rakyat\n",
      "persero : persero\n",
      "tbk : tbk\n",
      "cabang : cabang\n",
      "diajukan : aju\n",
      "disusun : susun\n"
     ]
    },
    {
     "name": "stdout",
     "output_type": "stream",
     "text": [
      "pelanggan : langgan\n",
      "bri : bri\n",
      "menggunaka : menggunaka\n",
      "systematic : systematic\n"
     ]
    },
    {
     "name": "stdout",
     "output_type": "stream",
     "text": [
      "random : random\n",
      "objek : objek\n",
      "pemilik : milik\n",
      "debit : debit\n",
      "britama : britama\n",
      "man : man\n"
     ]
    },
    {
     "name": "stdout",
     "output_type": "stream",
     "text": [
      "steel : steel\n",
      "bertempat : tempat\n",
      "tinggal : tinggal\n",
      "bersamasama : bersamasama\n",
      "meningkatkan : tingkat\n",
      "aspek : aspek\n",
      "menumbuhkan : tumbuh\n",
      "percaya : percaya\n",
      "hati : hati\n",
      "setia : setia\n",
      "service : service\n"
     ]
    },
    {
     "name": "stdout",
     "output_type": "stream",
     "text": [
      "quality : quality\n",
      "customer : customer\n",
      "satisfaction : satisfaction\n",
      "sikap : sikap\n",
      "pasta : pasta\n"
     ]
    },
    {
     "name": "stdout",
     "output_type": "stream",
     "text": [
      "gigi : gigi\n",
      "pepsodent : pepsodent\n",
      "norma : norma\n",
      "subyektif : subyektif\n",
      "wawancara : wawancara\n",
      "kuci : kuci\n"
     ]
    },
    {
     "name": "stdout",
     "output_type": "stream",
     "text": [
      "subyekti : subyekti\n",
      "kecerdasan : cerdas\n",
      "emosional : emosional\n",
      "burneh : burneh\n",
      "tanah : tanah\n",
      "merah : merah\n"
     ]
    },
    {
     "name": "stdout",
     "output_type": "stream",
     "text": [
      "galis : galis\n",
      "blega : blega\n"
     ]
    },
    {
     "name": "stdout",
     "output_type": "stream",
     "text": [
      "memilki : memilki\n",
      "memahami : paham\n",
      "menciptakan : cipta\n",
      "suasana : suasana\n",
      "nyaman : nyaman\n",
      "diharapkan : harap\n",
      "peningkatan : tingkat\n",
      "kerjanya : kerja\n",
      "meneliti : teliti\n"
     ]
    },
    {
     "name": "stdout",
     "output_type": "stream",
     "text": [
      "intrapersonal : intrapersonal\n",
      "interpersonal : interpersonal\n",
      "membuktikan : bukti\n",
      "linear : linear\n",
      "bantuan : bantu\n"
     ]
    },
    {
     "name": "stdout",
     "output_type": "stream",
     "text": [
      "kuncikecerdasan : kuncikecerdasan\n",
      "rasio : rasio\n",
      "profitabilitas : profitabilitas\n",
      "industry : industry\n",
      "makanan : makan\n",
      "minuman : minum\n",
      "masingmasing : masingmasing\n",
      "npm : npm\n",
      "roa : roa\n"
     ]
    },
    {
     "name": "stdout",
     "output_type": "stream",
     "text": [
      "investment : investment\n",
      "roi : roi\n",
      "roe : roe\n",
      "eps : eps\n",
      "dividend : dividend\n",
      "payout : payout\n",
      "dpr : dpr\n",
      "industri : industri\n",
      "bursa : bursa\n",
      "efek : efek\n",
      "persial : sial\n",
      "retun : retun\n",
      "dilaksanakan : laksana\n"
     ]
    },
    {
     "name": "stdout",
     "output_type": "stream",
     "text": [
      "menyebarkan : sebar\n"
     ]
    },
    {
     "name": "stdout",
     "output_type": "stream",
     "text": [
      "klasiksedangkan : klasiksedangkan\n",
      "keunggulan : unggul\n",
      "asosiasi : asosiasi\n",
      "kekuatan : kuat\n",
      "keunikan : uni\n",
      "minat : minat\n",
      "beli : beli\n",
      "jamu : jamu\n",
      "tolak : tolak\n",
      "angin : angin\n",
      "sido : sido\n",
      "muncul : muncul\n",
      "pasar : pasar\n",
      "manyar : manyar\n",
      "respondenteknik : respondenteknik\n"
     ]
    },
    {
     "name": "stdout",
     "output_type": "stream",
     "text": [
      "respondenuntuk : respondenuntuk\n",
      "bauran : baur\n",
      "pemasaran : pasar\n",
      "distribusi : distribusi\n",
      "promosi : promosi\n",
      "petis : petis\n",
      "ikan : ikan\n",
      "tuna : tuna\n",
      "hdiya : hdiya\n",
      "kelurahan : lurah\n"
     ]
    },
    {
     "name": "stdout",
     "output_type": "stream",
     "text": [
      "banyuanyar : banyuanyar\n",
      "kosumen : kosumen\n"
     ]
    },
    {
     "name": "stdout",
     "output_type": "stream",
     "text": [
      "meguji : meguji\n",
      "berdasar : dasar\n",
      "model : model\n",
      "sistematis : sistematis\n",
      "ditribusi : ditribusi\n",
      "unsur : unsur\n"
     ]
    },
    {
     "name": "stdout",
     "output_type": "stream",
     "text": [
      "pengirim : kirim\n",
      "komunikator : komunikator\n",
      "penerima : terima\n",
      "komunikan : komunikan\n",
      "umpan : umpan\n",
      "produktifitas : produktifitas\n",
      "negeri : negeri\n",
      "sipil : sipil\n",
      "dinas : dinas\n",
      "pendidikian : kian\n",
      "pendidikan : didik\n",
      "proporsional : proporsional\n"
     ]
    },
    {
     "name": "stdout",
     "output_type": "stream",
     "text": [
      "membagikan : bagi\n",
      "riset : riset\n",
      "perpustakaan : pustaka\n",
      "pengolahan : olah\n",
      "perangkat : perangkat\n",
      "lunak : lunak\n",
      "reabilitas : reabilitas\n",
      "menerangkan : terang\n",
      "dimasukkan : masuk\n",
      "varibel : varibel\n"
     ]
    },
    {
     "name": "stdout",
     "output_type": "stream",
     "text": [
      "kominkator : kominkator\n",
      "sigifikan : sigifikan\n",
      "peranan : peran\n",
      "upaya : upaya\n",
      "produktivitas : produktivitas\n"
     ]
    },
    {
     "name": "stdout",
     "output_type": "stream",
     "text": [
      "penyedap : sedap\n",
      "masako : masako\n",
      "populasinya : populasi\n",
      "ibuibu : ibuibu\n"
     ]
    },
    {
     "name": "stdout",
     "output_type": "stream",
     "text": [
      "robatal : robatal\n",
      "membeli : beli\n",
      "mengkonsumsi : konsumsi\n",
      "kemasan : kemas\n",
      "pelabelan : label\n",
      "layanan : layan\n",
      "pelengkap : lengkap\n",
      "simpulan : simpul\n",
      "terikatnya : ikat\n",
      "susu : susu\n",
      "cair : cair\n",
      "indomilk : indomilk\n",
      "swalayan : swalayan\n",
      "tom : tom\n"
     ]
    },
    {
     "name": "stdout",
     "output_type": "stream",
     "text": [
      "jerry : jerry\n",
      "mix : mix\n",
      "rokok : rokok\n",
      "mild : mild\n",
      "socah : socah"
     ]
    },
    {
     "name": "stdout",
     "output_type": "stream",
     "text": [
      "\n",
      "segi : segi\n",
      "menjalani : jalan\n",
      "pekerjaan : kerja\n",
      "mencampur : campur\n",
      "adukkan : aduk\n",
      "permasalahan : masalah\n",
      "dirumah : rumah\n",
      "rumah : rumah\n",
      "tangga : tangga\n",
      "membawa : bawa\n",
      "kedalam : dalam\n",
      "keluarga : keluarga\n",
      "sulit : sulit\n",
      "penuh : penuh\n",
      "beban : beban\n",
      "berat : berat\n",
      "berdampak : dampak\n",
      "pekerjaannya : kerja\n",
      "tugas : tugas\n",
      "dilakukannya : laku\n",
      "pelatihan : latih\n",
      "jangka : jangka\n",
      "lembur : lembur\n",
      "konflik : konflik\n",
      "peran : peran\n",
      "ganda : ganda\n"
     ]
    },
    {
     "name": "stdout",
     "output_type": "stream",
     "text": [
      "pekerjaankeluarga : pekerjaankeluarga\n",
      "keluargapekerjaan : keluargapekerjaan\n",
      "perawat : awat\n",
      "wanita : wanita\n",
      "rs : rs\n",
      "syamrabu : syamrabu\n"
     ]
    },
    {
     "name": "stdout",
     "output_type": "stream",
     "text": [
      "purpossive : purpossive\n",
      "kinerjanya : kerja\n",
      "salah : salah\n",
      "langkah : langkah\n",
      "diperhatikan : perhati\n",
      "bergerak : gerak\n",
      "bidang : bidang\n",
      "produksi : produksi\n",
      "barang : barang\n",
      "kopontren : kopontren\n"
     ]
    },
    {
     "name": "stdout",
     "output_type": "stream",
     "text": [
      "sidogiri : sidogiri\n",
      "bisnis : bisnis\n",
      "eceran : ecer\n",
      "jual : jual\n",
      "mengambil : ambil\n",
      "pemebelian : beli\n",
      "elemenelemen : elemenelemen\n",
      "ekuitas : ekuitas\n",
      "kesadaran : sadar\n"
     ]
    },
    {
     "name": "stdout",
     "output_type": "stream",
     "text": [
      "awareness : awareness\n",
      "assocations : assocations\n",
      "kesan : kesan\n",
      "perceived : perceived\n"
     ]
    },
    {
     "name": "stdout",
     "output_type": "stream",
     "text": [
      "loyalty : loyalty\n",
      "handphone : handphone\n",
      "blackberry : blackberry\n"
     ]
    },
    {
     "name": "stdout",
     "output_type": "stream",
     "text": [
      "madurateknik : madurateknik\n",
      "maduravariabel : maduravariabel\n",
      "kemampuan : mampu\n",
      "es : es\n",
      "krim : krim\n"
     ]
    },
    {
     "name": "stdout",
     "output_type": "stream",
     "text": [
      "walls : walls\n",
      "diolah : olah\n",
      "datanya : data\n",
      "martabak : martabak\n"
     ]
    },
    {
     "name": "stdout",
     "output_type": "stream",
     "text": [
      "hawaii : hawaii\n",
      "strategi : strategi\n",
      "positioning : positioning\n",
      "ciri : ciri\n",
      "penggunaan : guna\n"
     ]
    },
    {
     "name": "stdout",
     "output_type": "stream",
     "text": [
      "nokia : nokia\n",
      "strategy : strategy\n",
      "characteristics : characteristics\n"
     ]
    },
    {
     "name": "stdout",
     "output_type": "stream",
     "text": [
      "price : price\n",
      "usage : usage\n",
      "users : users\n"
     ]
    },
    {
     "name": "stdout",
     "output_type": "stream",
     "text": [
      "consumers : consumers\n",
      "munculnya : muncul\n",
      "lahirnya : lahir\n",
      "mengemis : emis\n",
      "disebabkan : sebab\n",
      "anak : anak\n",
      "memilih : pilih\n",
      "profesi : profesi\n"
     ]
    },
    {
     "name": "stdout",
     "output_type": "stream",
     "text": [
      "pengemis : emis\n",
      "periaku : peria\n",
      "kebiasaan : biasa\n",
      "kehidupan : hidup\n",
      "seharihari : seharihari\n",
      "kamal : kamal\n",
      "kab : kab\n",
      "memprihatinkan : prihatin\n",
      "indikator : indikator\n",
      "etnografis : etnografis\n",
      "persepsi : persepsi\n",
      "sosialisasi : sosialisasi\n",
      "menyebabkan : sebab\n"
     ]
    },
    {
     "name": "stdout",
     "output_type": "stream",
     "text": [
      "berprofesi : profesi\n",
      "modus : modus\n",
      "operandi : operandi\n",
      "bentuk : bentuk\n",
      "praktek : praktek\n",
      "jaringan : jaring\n"
     ]
    },
    {
     "name": "stdout",
     "output_type": "stream",
     "text": [
      "indicator : indicator\n",
      "behavioral : behavioral\n",
      "sociology : sociology\n",
      "tingkah : tingkah\n"
     ]
    },
    {
     "name": "stdout",
     "output_type": "stream",
     "text": [
      "laku : laku\n",
      "akibatnya : akibat\n",
      "teory : teory\n",
      "exchange : exchange\n"
     ]
    },
    {
     "name": "stdout",
     "output_type": "stream",
     "text": [
      "social : social\n",
      "kekecewaan : kecewa\n",
      "manusia : manusia\n",
      "bersumber : sumber\n"
     ]
    },
    {
     "ename": "KeyboardInterrupt",
     "evalue": "",
     "output_type": "error",
     "traceback": [
      "\u001b[1;31m---------------------------------------------------------------------------\u001b[0m",
      "\u001b[1;31mKeyboardInterrupt\u001b[0m                         Traceback (most recent call last)",
      "\u001b[1;32m~\\AppData\\Local\\Temp/ipykernel_36828/3698220956.py\u001b[0m in \u001b[0;36m<module>\u001b[1;34m\u001b[0m\n\u001b[0;32m     23\u001b[0m \u001b[1;33m\u001b[0m\u001b[0m\n\u001b[0;32m     24\u001b[0m \u001b[1;32mfor\u001b[0m \u001b[0mterm\u001b[0m \u001b[1;32min\u001b[0m \u001b[0mterm_dict\u001b[0m\u001b[1;33m:\u001b[0m\u001b[1;33m\u001b[0m\u001b[1;33m\u001b[0m\u001b[0m\n\u001b[1;32m---> 25\u001b[1;33m     \u001b[0mterm_dict\u001b[0m\u001b[1;33m[\u001b[0m\u001b[0mterm\u001b[0m\u001b[1;33m]\u001b[0m \u001b[1;33m=\u001b[0m \u001b[0mstemmed_wrapper\u001b[0m\u001b[1;33m(\u001b[0m\u001b[0mterm\u001b[0m\u001b[1;33m)\u001b[0m\u001b[1;33m\u001b[0m\u001b[1;33m\u001b[0m\u001b[0m\n\u001b[0m\u001b[0;32m     26\u001b[0m     \u001b[0mprint\u001b[0m\u001b[1;33m(\u001b[0m\u001b[0mterm\u001b[0m\u001b[1;33m,\u001b[0m\u001b[1;34m\":\"\u001b[0m \u001b[1;33m,\u001b[0m\u001b[0mterm_dict\u001b[0m\u001b[1;33m[\u001b[0m\u001b[0mterm\u001b[0m\u001b[1;33m]\u001b[0m\u001b[1;33m)\u001b[0m\u001b[1;33m\u001b[0m\u001b[1;33m\u001b[0m\u001b[0m\n\u001b[0;32m     27\u001b[0m \u001b[1;33m\u001b[0m\u001b[0m\n",
      "\u001b[1;32m~\\AppData\\Local\\Temp/ipykernel_36828/3698220956.py\u001b[0m in \u001b[0;36mstemmed_wrapper\u001b[1;34m(term)\u001b[0m\n\u001b[0;32m     10\u001b[0m \u001b[1;31m# sfungsi stemmer\u001b[0m\u001b[1;33m\u001b[0m\u001b[1;33m\u001b[0m\u001b[0m\n\u001b[0;32m     11\u001b[0m \u001b[1;32mdef\u001b[0m \u001b[0mstemmed_wrapper\u001b[0m\u001b[1;33m(\u001b[0m\u001b[0mterm\u001b[0m\u001b[1;33m)\u001b[0m\u001b[1;33m:\u001b[0m\u001b[1;33m\u001b[0m\u001b[1;33m\u001b[0m\u001b[0m\n\u001b[1;32m---> 12\u001b[1;33m     \u001b[1;32mreturn\u001b[0m \u001b[0mstemmer\u001b[0m\u001b[1;33m.\u001b[0m\u001b[0mstem\u001b[0m\u001b[1;33m(\u001b[0m\u001b[0mterm\u001b[0m\u001b[1;33m)\u001b[0m\u001b[1;33m\u001b[0m\u001b[1;33m\u001b[0m\u001b[0m\n\u001b[0m\u001b[0;32m     13\u001b[0m \u001b[1;33m\u001b[0m\u001b[0m\n\u001b[0;32m     14\u001b[0m \u001b[0mterm_dict\u001b[0m \u001b[1;33m=\u001b[0m \u001b[1;33m{\u001b[0m\u001b[1;33m}\u001b[0m\u001b[1;33m\u001b[0m\u001b[1;33m\u001b[0m\u001b[0m\n",
      "\u001b[1;32m~\\AppData\\Local\\Programs\\Python\\Python39\\lib\\site-packages\\Sastrawi\\Stemmer\\CachedStemmer.py\u001b[0m in \u001b[0;36mstem\u001b[1;34m(self, text)\u001b[0m\n\u001b[0;32m     18\u001b[0m                 \u001b[0mstems\u001b[0m\u001b[1;33m.\u001b[0m\u001b[0mappend\u001b[0m\u001b[1;33m(\u001b[0m\u001b[0mself\u001b[0m\u001b[1;33m.\u001b[0m\u001b[0mcache\u001b[0m\u001b[1;33m.\u001b[0m\u001b[0mget\u001b[0m\u001b[1;33m(\u001b[0m\u001b[0mword\u001b[0m\u001b[1;33m)\u001b[0m\u001b[1;33m)\u001b[0m\u001b[1;33m\u001b[0m\u001b[1;33m\u001b[0m\u001b[0m\n\u001b[0;32m     19\u001b[0m             \u001b[1;32melse\u001b[0m\u001b[1;33m:\u001b[0m\u001b[1;33m\u001b[0m\u001b[1;33m\u001b[0m\u001b[0m\n\u001b[1;32m---> 20\u001b[1;33m                 \u001b[0mstem\u001b[0m \u001b[1;33m=\u001b[0m \u001b[0mself\u001b[0m\u001b[1;33m.\u001b[0m\u001b[0mdelegatedStemmer\u001b[0m\u001b[1;33m.\u001b[0m\u001b[0mstem\u001b[0m\u001b[1;33m(\u001b[0m\u001b[0mword\u001b[0m\u001b[1;33m)\u001b[0m\u001b[1;33m\u001b[0m\u001b[1;33m\u001b[0m\u001b[0m\n\u001b[0m\u001b[0;32m     21\u001b[0m                 \u001b[0mself\u001b[0m\u001b[1;33m.\u001b[0m\u001b[0mcache\u001b[0m\u001b[1;33m.\u001b[0m\u001b[0mset\u001b[0m\u001b[1;33m(\u001b[0m\u001b[0mword\u001b[0m\u001b[1;33m,\u001b[0m \u001b[0mstem\u001b[0m\u001b[1;33m)\u001b[0m\u001b[1;33m\u001b[0m\u001b[1;33m\u001b[0m\u001b[0m\n\u001b[0;32m     22\u001b[0m                 \u001b[0mstems\u001b[0m\u001b[1;33m.\u001b[0m\u001b[0mappend\u001b[0m\u001b[1;33m(\u001b[0m\u001b[0mstem\u001b[0m\u001b[1;33m)\u001b[0m\u001b[1;33m\u001b[0m\u001b[1;33m\u001b[0m\u001b[0m\n",
      "\u001b[1;32m~\\AppData\\Local\\Programs\\Python\\Python39\\lib\\site-packages\\Sastrawi\\Stemmer\\Stemmer.py\u001b[0m in \u001b[0;36mstem\u001b[1;34m(self, text)\u001b[0m\n\u001b[0;32m     25\u001b[0m \u001b[1;33m\u001b[0m\u001b[0m\n\u001b[0;32m     26\u001b[0m         \u001b[1;32mfor\u001b[0m \u001b[0mword\u001b[0m \u001b[1;32min\u001b[0m \u001b[0mwords\u001b[0m\u001b[1;33m:\u001b[0m\u001b[1;33m\u001b[0m\u001b[1;33m\u001b[0m\u001b[0m\n\u001b[1;32m---> 27\u001b[1;33m             \u001b[0mstems\u001b[0m\u001b[1;33m.\u001b[0m\u001b[0mappend\u001b[0m\u001b[1;33m(\u001b[0m\u001b[0mself\u001b[0m\u001b[1;33m.\u001b[0m\u001b[0mstem_word\u001b[0m\u001b[1;33m(\u001b[0m\u001b[0mword\u001b[0m\u001b[1;33m)\u001b[0m\u001b[1;33m)\u001b[0m\u001b[1;33m\u001b[0m\u001b[1;33m\u001b[0m\u001b[0m\n\u001b[0m\u001b[0;32m     28\u001b[0m \u001b[1;33m\u001b[0m\u001b[0m\n\u001b[0;32m     29\u001b[0m         \u001b[1;32mreturn\u001b[0m \u001b[1;34m' '\u001b[0m\u001b[1;33m.\u001b[0m\u001b[0mjoin\u001b[0m\u001b[1;33m(\u001b[0m\u001b[0mstems\u001b[0m\u001b[1;33m)\u001b[0m\u001b[1;33m\u001b[0m\u001b[1;33m\u001b[0m\u001b[0m\n",
      "\u001b[1;32m~\\AppData\\Local\\Programs\\Python\\Python39\\lib\\site-packages\\Sastrawi\\Stemmer\\Stemmer.py\u001b[0m in \u001b[0;36mstem_word\u001b[1;34m(self, word)\u001b[0m\n\u001b[0;32m     34\u001b[0m             \u001b[1;32mreturn\u001b[0m \u001b[0mself\u001b[0m\u001b[1;33m.\u001b[0m\u001b[0mstem_plural_word\u001b[0m\u001b[1;33m(\u001b[0m\u001b[0mword\u001b[0m\u001b[1;33m)\u001b[0m\u001b[1;33m\u001b[0m\u001b[1;33m\u001b[0m\u001b[0m\n\u001b[0;32m     35\u001b[0m         \u001b[1;32melse\u001b[0m\u001b[1;33m:\u001b[0m\u001b[1;33m\u001b[0m\u001b[1;33m\u001b[0m\u001b[0m\n\u001b[1;32m---> 36\u001b[1;33m             \u001b[1;32mreturn\u001b[0m \u001b[0mself\u001b[0m\u001b[1;33m.\u001b[0m\u001b[0mstem_singular_word\u001b[0m\u001b[1;33m(\u001b[0m\u001b[0mword\u001b[0m\u001b[1;33m)\u001b[0m\u001b[1;33m\u001b[0m\u001b[1;33m\u001b[0m\u001b[0m\n\u001b[0m\u001b[0;32m     37\u001b[0m \u001b[1;33m\u001b[0m\u001b[0m\n\u001b[0;32m     38\u001b[0m     \u001b[1;32mdef\u001b[0m \u001b[0mis_plural\u001b[0m\u001b[1;33m(\u001b[0m\u001b[0mself\u001b[0m\u001b[1;33m,\u001b[0m \u001b[0mword\u001b[0m\u001b[1;33m)\u001b[0m\u001b[1;33m:\u001b[0m\u001b[1;33m\u001b[0m\u001b[1;33m\u001b[0m\u001b[0m\n",
      "\u001b[1;32m~\\AppData\\Local\\Programs\\Python\\Python39\\lib\\site-packages\\Sastrawi\\Stemmer\\Stemmer.py\u001b[0m in \u001b[0;36mstem_singular_word\u001b[1;34m(self, word)\u001b[0m\n\u001b[0;32m     82\u001b[0m         \u001b[1;34m\"\"\"Stem a singular word to its common stem form.\"\"\"\u001b[0m\u001b[1;33m\u001b[0m\u001b[1;33m\u001b[0m\u001b[0m\n\u001b[0;32m     83\u001b[0m         \u001b[0mcontext\u001b[0m \u001b[1;33m=\u001b[0m \u001b[0mContext\u001b[0m\u001b[1;33m(\u001b[0m\u001b[0mword\u001b[0m\u001b[1;33m,\u001b[0m \u001b[0mself\u001b[0m\u001b[1;33m.\u001b[0m\u001b[0mdictionary\u001b[0m\u001b[1;33m,\u001b[0m \u001b[0mself\u001b[0m\u001b[1;33m.\u001b[0m\u001b[0mvisitor_provider\u001b[0m\u001b[1;33m)\u001b[0m\u001b[1;33m\u001b[0m\u001b[1;33m\u001b[0m\u001b[0m\n\u001b[1;32m---> 84\u001b[1;33m         \u001b[0mcontext\u001b[0m\u001b[1;33m.\u001b[0m\u001b[0mexecute\u001b[0m\u001b[1;33m(\u001b[0m\u001b[1;33m)\u001b[0m\u001b[1;33m\u001b[0m\u001b[1;33m\u001b[0m\u001b[0m\n\u001b[0m\u001b[0;32m     85\u001b[0m \u001b[1;33m\u001b[0m\u001b[0m\n\u001b[0;32m     86\u001b[0m         \u001b[1;32mreturn\u001b[0m \u001b[0mcontext\u001b[0m\u001b[1;33m.\u001b[0m\u001b[0mresult\u001b[0m\u001b[1;33m\u001b[0m\u001b[1;33m\u001b[0m\u001b[0m\n",
      "\u001b[1;32m~\\AppData\\Local\\Programs\\Python\\Python39\\lib\\site-packages\\Sastrawi\\Stemmer\\Context\\Context.py\u001b[0m in \u001b[0;36mexecute\u001b[1;34m(self)\u001b[0m\n\u001b[0;32m     35\u001b[0m \u001b[1;33m\u001b[0m\u001b[0m\n\u001b[0;32m     36\u001b[0m         \u001b[1;31m#step 1 - 5\u001b[0m\u001b[1;33m\u001b[0m\u001b[1;33m\u001b[0m\u001b[0m\n\u001b[1;32m---> 37\u001b[1;33m         \u001b[0mself\u001b[0m\u001b[1;33m.\u001b[0m\u001b[0mstart_stemming_process\u001b[0m\u001b[1;33m(\u001b[0m\u001b[1;33m)\u001b[0m\u001b[1;33m\u001b[0m\u001b[1;33m\u001b[0m\u001b[0m\n\u001b[0m\u001b[0;32m     38\u001b[0m \u001b[1;33m\u001b[0m\u001b[0m\n\u001b[0;32m     39\u001b[0m         \u001b[1;31m#step 6\u001b[0m\u001b[1;33m\u001b[0m\u001b[1;33m\u001b[0m\u001b[0m\n",
      "\u001b[1;32m~\\AppData\\Local\\Programs\\Python\\Python39\\lib\\site-packages\\Sastrawi\\Stemmer\\Context\\Context.py\u001b[0m in \u001b[0;36mstart_stemming_process\u001b[1;34m(self)\u001b[0m\n\u001b[0;32m     78\u001b[0m \u001b[1;33m\u001b[0m\u001b[0m\n\u001b[0;32m     79\u001b[0m         \u001b[1;31m#step 4, 5\u001b[0m\u001b[1;33m\u001b[0m\u001b[1;33m\u001b[0m\u001b[0m\n\u001b[1;32m---> 80\u001b[1;33m         \u001b[0mself\u001b[0m\u001b[1;33m.\u001b[0m\u001b[0mremove_prefixes\u001b[0m\u001b[1;33m(\u001b[0m\u001b[1;33m)\u001b[0m\u001b[1;33m\u001b[0m\u001b[1;33m\u001b[0m\u001b[0m\n\u001b[0m\u001b[0;32m     81\u001b[0m         \u001b[1;32mif\u001b[0m \u001b[0mself\u001b[0m\u001b[1;33m.\u001b[0m\u001b[0mdictionary\u001b[0m\u001b[1;33m.\u001b[0m\u001b[0mcontains\u001b[0m\u001b[1;33m(\u001b[0m\u001b[0mself\u001b[0m\u001b[1;33m.\u001b[0m\u001b[0mcurrent_word\u001b[0m\u001b[1;33m)\u001b[0m\u001b[1;33m:\u001b[0m\u001b[1;33m\u001b[0m\u001b[1;33m\u001b[0m\u001b[0m\n\u001b[0;32m     82\u001b[0m             \u001b[1;32mreturn\u001b[0m\u001b[1;33m\u001b[0m\u001b[1;33m\u001b[0m\u001b[0m\n",
      "\u001b[1;32m~\\AppData\\Local\\Programs\\Python\\Python39\\lib\\site-packages\\Sastrawi\\Stemmer\\Context\\Context.py\u001b[0m in \u001b[0;36mremove_prefixes\u001b[1;34m(self)\u001b[0m\n\u001b[0;32m     87\u001b[0m     \u001b[1;32mdef\u001b[0m \u001b[0mremove_prefixes\u001b[0m\u001b[1;33m(\u001b[0m\u001b[0mself\u001b[0m\u001b[1;33m)\u001b[0m\u001b[1;33m:\u001b[0m\u001b[1;33m\u001b[0m\u001b[1;33m\u001b[0m\u001b[0m\n\u001b[0;32m     88\u001b[0m         \u001b[1;32mfor\u001b[0m \u001b[0mi\u001b[0m \u001b[1;32min\u001b[0m \u001b[0mrange\u001b[0m\u001b[1;33m(\u001b[0m\u001b[1;36m3\u001b[0m\u001b[1;33m)\u001b[0m\u001b[1;33m:\u001b[0m\u001b[1;33m\u001b[0m\u001b[1;33m\u001b[0m\u001b[0m\n\u001b[1;32m---> 89\u001b[1;33m             \u001b[0mself\u001b[0m\u001b[1;33m.\u001b[0m\u001b[0maccept_prefix_visitors\u001b[0m\u001b[1;33m(\u001b[0m\u001b[0mself\u001b[0m\u001b[1;33m.\u001b[0m\u001b[0mprefix_pisitors\u001b[0m\u001b[1;33m)\u001b[0m\u001b[1;33m\u001b[0m\u001b[1;33m\u001b[0m\u001b[0m\n\u001b[0m\u001b[0;32m     90\u001b[0m             \u001b[1;32mif\u001b[0m \u001b[0mself\u001b[0m\u001b[1;33m.\u001b[0m\u001b[0mdictionary\u001b[0m\u001b[1;33m.\u001b[0m\u001b[0mcontains\u001b[0m\u001b[1;33m(\u001b[0m\u001b[0mself\u001b[0m\u001b[1;33m.\u001b[0m\u001b[0mcurrent_word\u001b[0m\u001b[1;33m)\u001b[0m\u001b[1;33m:\u001b[0m\u001b[1;33m\u001b[0m\u001b[1;33m\u001b[0m\u001b[0m\n\u001b[0;32m     91\u001b[0m                 \u001b[1;32mreturn\u001b[0m\u001b[1;33m\u001b[0m\u001b[1;33m\u001b[0m\u001b[0m\n",
      "\u001b[1;32m~\\AppData\\Local\\Programs\\Python\\Python39\\lib\\site-packages\\Sastrawi\\Stemmer\\Context\\Context.py\u001b[0m in \u001b[0;36maccept_prefix_visitors\u001b[1;34m(self, visitors)\u001b[0m\n\u001b[0;32m    111\u001b[0m             \u001b[1;32mif\u001b[0m \u001b[0mself\u001b[0m\u001b[1;33m.\u001b[0m\u001b[0mdictionary\u001b[0m\u001b[1;33m.\u001b[0m\u001b[0mcontains\u001b[0m\u001b[1;33m(\u001b[0m\u001b[0mself\u001b[0m\u001b[1;33m.\u001b[0m\u001b[0mcurrent_word\u001b[0m\u001b[1;33m)\u001b[0m\u001b[1;33m:\u001b[0m\u001b[1;33m\u001b[0m\u001b[1;33m\u001b[0m\u001b[0m\n\u001b[0;32m    112\u001b[0m                 \u001b[1;32mreturn\u001b[0m \u001b[0mself\u001b[0m\u001b[1;33m.\u001b[0m\u001b[0mcurrent_word\u001b[0m\u001b[1;33m\u001b[0m\u001b[1;33m\u001b[0m\u001b[0m\n\u001b[1;32m--> 113\u001b[1;33m             \u001b[1;32mif\u001b[0m \u001b[0mself\u001b[0m\u001b[1;33m.\u001b[0m\u001b[0mprocess_is_stopped\u001b[0m\u001b[1;33m:\u001b[0m\u001b[1;33m\u001b[0m\u001b[1;33m\u001b[0m\u001b[0m\n\u001b[0m\u001b[0;32m    114\u001b[0m                 \u001b[1;32mreturn\u001b[0m \u001b[0mself\u001b[0m\u001b[1;33m.\u001b[0m\u001b[0mcurrent_word\u001b[0m\u001b[1;33m\u001b[0m\u001b[1;33m\u001b[0m\u001b[0m\n\u001b[0;32m    115\u001b[0m             \u001b[1;32mif\u001b[0m \u001b[0mlen\u001b[0m\u001b[1;33m(\u001b[0m\u001b[0mself\u001b[0m\u001b[1;33m.\u001b[0m\u001b[0mremovals\u001b[0m\u001b[1;33m)\u001b[0m \u001b[1;33m>\u001b[0m \u001b[0mremovalCount\u001b[0m\u001b[1;33m:\u001b[0m\u001b[1;33m\u001b[0m\u001b[1;33m\u001b[0m\u001b[0m\n",
      "\u001b[1;31mKeyboardInterrupt\u001b[0m: "
     ]
    }
   ],
   "source": [
    "# import Sastrawi package\n",
    "from Sastrawi.Stemmer.StemmerFactory import StemmerFactory\n",
    "import swifter\n",
    "\n",
    "\n",
    "# membuat stemmer\n",
    "factory = StemmerFactory()\n",
    "stemmer = factory.create_stemmer()\n",
    "\n",
    "# sfungsi stemmer\n",
    "def stemmed_wrapper(term):\n",
    "    return stemmer.stem(term)\n",
    "\n",
    "term_dict = {}\n",
    "\n",
    "for document in dataPTA['abstrak_stop']:\n",
    "    for term in document:\n",
    "        if term not in term_dict:\n",
    "            term_dict[term] = ' '\n",
    "            \n",
    "print(len(term_dict))\n",
    "print(\"------------------------\")\n",
    "\n",
    "for term in term_dict:\n",
    "    term_dict[term] = stemmed_wrapper(term)\n",
    "    print(term,\":\" ,term_dict[term])\n",
    "    \n",
    "print(term_dict)\n",
    "print(\"------------------------\")\n",
    "\n",
    "\n",
    "# stemming pada dataframe\n",
    "def get_stemmed_term(document):\n",
    "    return [term_dict[term] for term in document]\n",
    "\n",
    "dataPTA['abstrak_stem'] = dataPTA['abstrak_stop'].swifter.apply(get_stemmed_term)\n",
    "print(dataPTA['abstrak_stem'])"
   ]
  },
  {
   "cell_type": "code",
   "execution_count": 9,
   "id": "530878cc",
   "metadata": {},
   "outputs": [
    {
     "data": {
      "text/html": [
       "<div>\n",
       "<style scoped>\n",
       "    .dataframe tbody tr th:only-of-type {\n",
       "        vertical-align: middle;\n",
       "    }\n",
       "\n",
       "    .dataframe tbody tr th {\n",
       "        vertical-align: top;\n",
       "    }\n",
       "\n",
       "    .dataframe thead th {\n",
       "        text-align: right;\n",
       "    }\n",
       "</style>\n",
       "<table border=\"1\" class=\"dataframe\">\n",
       "  <thead>\n",
       "    <tr style=\"text-align: right;\">\n",
       "      <th></th>\n",
       "      <th>Judul</th>\n",
       "      <th>Penulis</th>\n",
       "      <th>Dosen 1</th>\n",
       "      <th>Dosen 2</th>\n",
       "      <th>Abstrak</th>\n",
       "      <th>abstrak_token</th>\n",
       "      <th>abstrak_stop</th>\n",
       "      <th>abstrak_stem</th>\n",
       "    </tr>\n",
       "  </thead>\n",
       "  <tbody>\n",
       "    <tr>\n",
       "      <th>0</th>\n",
       "      <td>ANALISIS TINGKAT RISIKO KREDIT \\r\\nPADA PD. BP...</td>\n",
       "      <td>Penulis : Iwan Kurniawan Gomes</td>\n",
       "      <td>Dosen Pembimbing I : Drs. Ec. Makhmud Zulkifli...</td>\n",
       "      <td>Dosen Pembimbing II :Echsan Gani, S.E., M.SI</td>\n",
       "      <td>hasil dari penelitian ini dari perhitungan cre...</td>\n",
       "      <td>[hasil, dari, penelitian, ini, dari, perhitung...</td>\n",
       "      <td>[hasil, penelitian, perhitungan, credit, risk,...</td>\n",
       "      <td>[hasil, teliti, hitung, credit, risk, ratio, t...</td>\n",
       "    </tr>\n",
       "    <tr>\n",
       "      <th>1</th>\n",
       "      <td>PENGARUH DIMENSI KUALITAS PELAYANAN TERHADAP K...</td>\n",
       "      <td>Penulis : Toni Budianto</td>\n",
       "      <td>Dosen Pembimbing I : Bambang Setiyo Pambudi, S...</td>\n",
       "      <td>Dosen Pembimbing II :Fathor AS, S.E., MM.</td>\n",
       "      <td>abstrak tujuan penelitian ini adalah untuk men...</td>\n",
       "      <td>[abstrak, tujuan, penelitian, ini, adalah, unt...</td>\n",
       "      <td>[abstrak, tujuan, penelitian, mengidentifikasi...</td>\n",
       "      <td>[abstrak, tuju, teliti, identifikasi, variabel...</td>\n",
       "    </tr>\n",
       "    <tr>\n",
       "      <th>2</th>\n",
       "      <td>PENGARUH TIPE KEPEMIMPINAN TERHADAP PRESTASI K...</td>\n",
       "      <td>Penulis : Dharma Abidin Syah</td>\n",
       "      <td>Dosen Pembimbing I : Drs. Ec. Mudji Kuswinarno...</td>\n",
       "      <td>Dosen Pembimbing II :Faidal SE, MM</td>\n",
       "      <td>abstrak dharma abidin syahkesimpulan terdapat ...</td>\n",
       "      <td>[abstrak, dharma, abidin, syahkesimpulan, terd...</td>\n",
       "      <td>[abstrak, dharma, abidin, syahkesimpulan, peng...</td>\n",
       "      <td>[abstrak, dharma, abidin, syahkesimpulan, peng...</td>\n",
       "    </tr>\n",
       "    <tr>\n",
       "      <th>3</th>\n",
       "      <td>PENGARUH KOMPETENSI DOSEN TERHADAP KINERJA DOS...</td>\n",
       "      <td>Penulis : Aththaariq</td>\n",
       "      <td>Dosen Pembimbing I : Dr.RM Moch Wispandono,.S....</td>\n",
       "      <td>Dosen Pembimbing II :Dr. Muhammad Alkirom Wild...</td>\n",
       "      <td>abstrak aththaariq pengaruh kompetensi dosen t...</td>\n",
       "      <td>[abstrak, aththaariq, pengaruh, kompetensi, do...</td>\n",
       "      <td>[abstrak, aththaariq, pengaruh, kompetensi, do...</td>\n",
       "      <td>[abstrak, aththaariq, pengaruh, kompetensi, do...</td>\n",
       "    </tr>\n",
       "    <tr>\n",
       "      <th>4</th>\n",
       "      <td>Pengaruh Iklan di televisi terhadap keputusan ...</td>\n",
       "      <td>Penulis : Muhammad Sholeh</td>\n",
       "      <td>Dosen Pembimbing I : Bambang Setiyo Pambudi, S...</td>\n",
       "      <td>Dosen Pembimbing II :Suyono, S.E.,M.S.M</td>\n",
       "      <td>muhammad sholeh pengaruh iklan di televisi ter...</td>\n",
       "      <td>[muhammad, sholeh, pengaruh, iklan, di, televi...</td>\n",
       "      <td>[muhammad, sholeh, pengaruh, iklan, televisi, ...</td>\n",
       "      <td>[muhammad, sholeh, pengaruh, iklan, televisi, ...</td>\n",
       "    </tr>\n",
       "  </tbody>\n",
       "</table>\n",
       "</div>"
      ],
      "text/plain": [
       "                                               Judul  \\\n",
       "0  ANALISIS TINGKAT RISIKO KREDIT \\r\\nPADA PD. BP...   \n",
       "1  PENGARUH DIMENSI KUALITAS PELAYANAN TERHADAP K...   \n",
       "2  PENGARUH TIPE KEPEMIMPINAN TERHADAP PRESTASI K...   \n",
       "3  PENGARUH KOMPETENSI DOSEN TERHADAP KINERJA DOS...   \n",
       "4  Pengaruh Iklan di televisi terhadap keputusan ...   \n",
       "\n",
       "                          Penulis  \\\n",
       "0  Penulis : Iwan Kurniawan Gomes   \n",
       "1         Penulis : Toni Budianto   \n",
       "2    Penulis : Dharma Abidin Syah   \n",
       "3            Penulis : Aththaariq   \n",
       "4       Penulis : Muhammad Sholeh   \n",
       "\n",
       "                                             Dosen 1  \\\n",
       "0  Dosen Pembimbing I : Drs. Ec. Makhmud Zulkifli...   \n",
       "1  Dosen Pembimbing I : Bambang Setiyo Pambudi, S...   \n",
       "2  Dosen Pembimbing I : Drs. Ec. Mudji Kuswinarno...   \n",
       "3  Dosen Pembimbing I : Dr.RM Moch Wispandono,.S....   \n",
       "4  Dosen Pembimbing I : Bambang Setiyo Pambudi, S...   \n",
       "\n",
       "                                             Dosen 2  \\\n",
       "0       Dosen Pembimbing II :Echsan Gani, S.E., M.SI   \n",
       "1          Dosen Pembimbing II :Fathor AS, S.E., MM.   \n",
       "2                 Dosen Pembimbing II :Faidal SE, MM   \n",
       "3  Dosen Pembimbing II :Dr. Muhammad Alkirom Wild...   \n",
       "4            Dosen Pembimbing II :Suyono, S.E.,M.S.M   \n",
       "\n",
       "                                             Abstrak  \\\n",
       "0  hasil dari penelitian ini dari perhitungan cre...   \n",
       "1  abstrak tujuan penelitian ini adalah untuk men...   \n",
       "2  abstrak dharma abidin syahkesimpulan terdapat ...   \n",
       "3  abstrak aththaariq pengaruh kompetensi dosen t...   \n",
       "4  muhammad sholeh pengaruh iklan di televisi ter...   \n",
       "\n",
       "                                       abstrak_token  \\\n",
       "0  [hasil, dari, penelitian, ini, dari, perhitung...   \n",
       "1  [abstrak, tujuan, penelitian, ini, adalah, unt...   \n",
       "2  [abstrak, dharma, abidin, syahkesimpulan, terd...   \n",
       "3  [abstrak, aththaariq, pengaruh, kompetensi, do...   \n",
       "4  [muhammad, sholeh, pengaruh, iklan, di, televi...   \n",
       "\n",
       "                                        abstrak_stop  \\\n",
       "0  [hasil, penelitian, perhitungan, credit, risk,...   \n",
       "1  [abstrak, tujuan, penelitian, mengidentifikasi...   \n",
       "2  [abstrak, dharma, abidin, syahkesimpulan, peng...   \n",
       "3  [abstrak, aththaariq, pengaruh, kompetensi, do...   \n",
       "4  [muhammad, sholeh, pengaruh, iklan, televisi, ...   \n",
       "\n",
       "                                        abstrak_stem  \n",
       "0  [hasil, teliti, hitung, credit, risk, ratio, t...  \n",
       "1  [abstrak, tuju, teliti, identifikasi, variabel...  \n",
       "2  [abstrak, dharma, abidin, syahkesimpulan, peng...  \n",
       "3  [abstrak, aththaariq, pengaruh, kompetensi, do...  \n",
       "4  [muhammad, sholeh, pengaruh, iklan, televisi, ...  "
      ]
     },
     "execution_count": 9,
     "metadata": {},
     "output_type": "execute_result"
    }
   ],
   "source": [
    "dataPTA.head()"
   ]
  },
  {
   "cell_type": "markdown",
   "id": "da4c8052",
   "metadata": {},
   "source": [
    "# TF Process"
   ]
  },
  {
   "cell_type": "code",
   "execution_count": 10,
   "id": "04b2d5d6",
   "metadata": {},
   "outputs": [
    {
     "data": {
      "text/html": [
       "<div>\n",
       "<style scoped>\n",
       "    .dataframe tbody tr th:only-of-type {\n",
       "        vertical-align: middle;\n",
       "    }\n",
       "\n",
       "    .dataframe tbody tr th {\n",
       "        vertical-align: top;\n",
       "    }\n",
       "\n",
       "    .dataframe thead tr th {\n",
       "        text-align: left;\n",
       "    }\n",
       "</style>\n",
       "<table border=\"1\" class=\"dataframe\">\n",
       "  <thead>\n",
       "    <tr>\n",
       "      <th></th>\n",
       "      <th>abidin</th>\n",
       "      <th>abstrak</th>\n",
       "      <th>abtrak</th>\n",
       "      <th>accidental</th>\n",
       "      <th>acer</th>\n",
       "      <th>action</th>\n",
       "      <th>adaro</th>\n",
       "      <th>adira</th>\n",
       "      <th>adjusted</th>\n",
       "      <th>adnya</th>\n",
       "      <th>...</th>\n",
       "      <th>wilayah</th>\n",
       "      <th>wildansemsi</th>\n",
       "      <th>windows</th>\n",
       "      <th>wispandonosems</th>\n",
       "      <th>xl</th>\n",
       "      <th>xterhadap</th>\n",
       "      <th>yakin</th>\n",
       "      <th>yamaha</th>\n",
       "      <th>yustina</th>\n",
       "      <th>zscore</th>\n",
       "    </tr>\n",
       "  </thead>\n",
       "  <tbody>\n",
       "    <tr>\n",
       "      <th>1</th>\n",
       "      <td>0.000000</td>\n",
       "      <td>0.000000</td>\n",
       "      <td>0.0</td>\n",
       "      <td>0.000000</td>\n",
       "      <td>0.0</td>\n",
       "      <td>0.0</td>\n",
       "      <td>0.000000</td>\n",
       "      <td>0.0</td>\n",
       "      <td>0.0</td>\n",
       "      <td>0.0</td>\n",
       "      <td>...</td>\n",
       "      <td>0.0</td>\n",
       "      <td>0.000000</td>\n",
       "      <td>0.0</td>\n",
       "      <td>0.000000</td>\n",
       "      <td>0.000000</td>\n",
       "      <td>0.0</td>\n",
       "      <td>0.0</td>\n",
       "      <td>0.0</td>\n",
       "      <td>0.0</td>\n",
       "      <td>0.0</td>\n",
       "    </tr>\n",
       "    <tr>\n",
       "      <th>2</th>\n",
       "      <td>0.000000</td>\n",
       "      <td>0.024704</td>\n",
       "      <td>0.0</td>\n",
       "      <td>0.069266</td>\n",
       "      <td>0.0</td>\n",
       "      <td>0.0</td>\n",
       "      <td>0.000000</td>\n",
       "      <td>0.0</td>\n",
       "      <td>0.0</td>\n",
       "      <td>0.0</td>\n",
       "      <td>...</td>\n",
       "      <td>0.0</td>\n",
       "      <td>0.000000</td>\n",
       "      <td>0.0</td>\n",
       "      <td>0.000000</td>\n",
       "      <td>0.000000</td>\n",
       "      <td>0.0</td>\n",
       "      <td>0.0</td>\n",
       "      <td>0.0</td>\n",
       "      <td>0.0</td>\n",
       "      <td>0.0</td>\n",
       "    </tr>\n",
       "    <tr>\n",
       "      <th>3</th>\n",
       "      <td>0.049981</td>\n",
       "      <td>0.008529</td>\n",
       "      <td>0.0</td>\n",
       "      <td>0.000000</td>\n",
       "      <td>0.0</td>\n",
       "      <td>0.0</td>\n",
       "      <td>0.000000</td>\n",
       "      <td>0.0</td>\n",
       "      <td>0.0</td>\n",
       "      <td>0.0</td>\n",
       "      <td>...</td>\n",
       "      <td>0.0</td>\n",
       "      <td>0.000000</td>\n",
       "      <td>0.0</td>\n",
       "      <td>0.000000</td>\n",
       "      <td>0.000000</td>\n",
       "      <td>0.0</td>\n",
       "      <td>0.0</td>\n",
       "      <td>0.0</td>\n",
       "      <td>0.0</td>\n",
       "      <td>0.0</td>\n",
       "    </tr>\n",
       "    <tr>\n",
       "      <th>4</th>\n",
       "      <td>0.000000</td>\n",
       "      <td>0.009930</td>\n",
       "      <td>0.0</td>\n",
       "      <td>0.000000</td>\n",
       "      <td>0.0</td>\n",
       "      <td>0.0</td>\n",
       "      <td>0.000000</td>\n",
       "      <td>0.0</td>\n",
       "      <td>0.0</td>\n",
       "      <td>0.0</td>\n",
       "      <td>...</td>\n",
       "      <td>0.0</td>\n",
       "      <td>0.058194</td>\n",
       "      <td>0.0</td>\n",
       "      <td>0.058194</td>\n",
       "      <td>0.000000</td>\n",
       "      <td>0.0</td>\n",
       "      <td>0.0</td>\n",
       "      <td>0.0</td>\n",
       "      <td>0.0</td>\n",
       "      <td>0.0</td>\n",
       "    </tr>\n",
       "    <tr>\n",
       "      <th>5</th>\n",
       "      <td>0.000000</td>\n",
       "      <td>0.000000</td>\n",
       "      <td>0.0</td>\n",
       "      <td>0.000000</td>\n",
       "      <td>0.0</td>\n",
       "      <td>0.0</td>\n",
       "      <td>0.000000</td>\n",
       "      <td>0.0</td>\n",
       "      <td>0.0</td>\n",
       "      <td>0.0</td>\n",
       "      <td>...</td>\n",
       "      <td>0.0</td>\n",
       "      <td>0.000000</td>\n",
       "      <td>0.0</td>\n",
       "      <td>0.000000</td>\n",
       "      <td>0.339700</td>\n",
       "      <td>0.0</td>\n",
       "      <td>0.0</td>\n",
       "      <td>0.0</td>\n",
       "      <td>0.0</td>\n",
       "      <td>0.0</td>\n",
       "    </tr>\n",
       "    <tr>\n",
       "      <th>...</th>\n",
       "      <td>...</td>\n",
       "      <td>...</td>\n",
       "      <td>...</td>\n",
       "      <td>...</td>\n",
       "      <td>...</td>\n",
       "      <td>...</td>\n",
       "      <td>...</td>\n",
       "      <td>...</td>\n",
       "      <td>...</td>\n",
       "      <td>...</td>\n",
       "      <td>...</td>\n",
       "      <td>...</td>\n",
       "      <td>...</td>\n",
       "      <td>...</td>\n",
       "      <td>...</td>\n",
       "      <td>...</td>\n",
       "      <td>...</td>\n",
       "      <td>...</td>\n",
       "      <td>...</td>\n",
       "      <td>...</td>\n",
       "      <td>...</td>\n",
       "    </tr>\n",
       "    <tr>\n",
       "      <th>61</th>\n",
       "      <td>0.000000</td>\n",
       "      <td>0.000000</td>\n",
       "      <td>0.0</td>\n",
       "      <td>0.000000</td>\n",
       "      <td>0.0</td>\n",
       "      <td>0.0</td>\n",
       "      <td>0.000000</td>\n",
       "      <td>0.0</td>\n",
       "      <td>0.0</td>\n",
       "      <td>0.0</td>\n",
       "      <td>...</td>\n",
       "      <td>0.0</td>\n",
       "      <td>0.000000</td>\n",
       "      <td>0.0</td>\n",
       "      <td>0.000000</td>\n",
       "      <td>0.000000</td>\n",
       "      <td>0.0</td>\n",
       "      <td>0.0</td>\n",
       "      <td>0.0</td>\n",
       "      <td>0.0</td>\n",
       "      <td>0.0</td>\n",
       "    </tr>\n",
       "    <tr>\n",
       "      <th>62</th>\n",
       "      <td>0.000000</td>\n",
       "      <td>0.000000</td>\n",
       "      <td>0.0</td>\n",
       "      <td>0.000000</td>\n",
       "      <td>0.0</td>\n",
       "      <td>0.0</td>\n",
       "      <td>0.000000</td>\n",
       "      <td>0.0</td>\n",
       "      <td>0.0</td>\n",
       "      <td>0.0</td>\n",
       "      <td>...</td>\n",
       "      <td>0.0</td>\n",
       "      <td>0.000000</td>\n",
       "      <td>0.0</td>\n",
       "      <td>0.000000</td>\n",
       "      <td>0.000000</td>\n",
       "      <td>0.0</td>\n",
       "      <td>0.0</td>\n",
       "      <td>0.0</td>\n",
       "      <td>0.0</td>\n",
       "      <td>0.0</td>\n",
       "    </tr>\n",
       "    <tr>\n",
       "      <th>63</th>\n",
       "      <td>0.000000</td>\n",
       "      <td>0.000000</td>\n",
       "      <td>0.0</td>\n",
       "      <td>0.000000</td>\n",
       "      <td>0.0</td>\n",
       "      <td>0.0</td>\n",
       "      <td>0.000000</td>\n",
       "      <td>0.0</td>\n",
       "      <td>0.0</td>\n",
       "      <td>0.0</td>\n",
       "      <td>...</td>\n",
       "      <td>0.0</td>\n",
       "      <td>0.000000</td>\n",
       "      <td>0.0</td>\n",
       "      <td>0.000000</td>\n",
       "      <td>0.567218</td>\n",
       "      <td>0.0</td>\n",
       "      <td>0.0</td>\n",
       "      <td>0.0</td>\n",
       "      <td>0.0</td>\n",
       "      <td>0.0</td>\n",
       "    </tr>\n",
       "    <tr>\n",
       "      <th>64</th>\n",
       "      <td>0.000000</td>\n",
       "      <td>0.000000</td>\n",
       "      <td>0.0</td>\n",
       "      <td>0.000000</td>\n",
       "      <td>0.0</td>\n",
       "      <td>0.0</td>\n",
       "      <td>0.000000</td>\n",
       "      <td>0.0</td>\n",
       "      <td>0.0</td>\n",
       "      <td>0.0</td>\n",
       "      <td>...</td>\n",
       "      <td>0.0</td>\n",
       "      <td>0.000000</td>\n",
       "      <td>0.0</td>\n",
       "      <td>0.000000</td>\n",
       "      <td>0.000000</td>\n",
       "      <td>0.0</td>\n",
       "      <td>0.0</td>\n",
       "      <td>0.0</td>\n",
       "      <td>0.0</td>\n",
       "      <td>0.0</td>\n",
       "    </tr>\n",
       "    <tr>\n",
       "      <th>65</th>\n",
       "      <td>0.000000</td>\n",
       "      <td>0.000000</td>\n",
       "      <td>0.0</td>\n",
       "      <td>0.000000</td>\n",
       "      <td>0.0</td>\n",
       "      <td>0.0</td>\n",
       "      <td>0.048346</td>\n",
       "      <td>0.0</td>\n",
       "      <td>0.0</td>\n",
       "      <td>0.0</td>\n",
       "      <td>...</td>\n",
       "      <td>0.0</td>\n",
       "      <td>0.000000</td>\n",
       "      <td>0.0</td>\n",
       "      <td>0.000000</td>\n",
       "      <td>0.000000</td>\n",
       "      <td>0.0</td>\n",
       "      <td>0.0</td>\n",
       "      <td>0.0</td>\n",
       "      <td>0.0</td>\n",
       "      <td>0.0</td>\n",
       "    </tr>\n",
       "  </tbody>\n",
       "</table>\n",
       "<p>65 rows × 1047 columns</p>\n",
       "</div>"
      ],
      "text/plain": [
       "      abidin   abstrak abtrak accidental acer action     adaro adira adjusted  \\\n",
       "1   0.000000  0.000000    0.0   0.000000  0.0    0.0  0.000000   0.0      0.0   \n",
       "2   0.000000  0.024704    0.0   0.069266  0.0    0.0  0.000000   0.0      0.0   \n",
       "3   0.049981  0.008529    0.0   0.000000  0.0    0.0  0.000000   0.0      0.0   \n",
       "4   0.000000  0.009930    0.0   0.000000  0.0    0.0  0.000000   0.0      0.0   \n",
       "5   0.000000  0.000000    0.0   0.000000  0.0    0.0  0.000000   0.0      0.0   \n",
       "..       ...       ...    ...        ...  ...    ...       ...   ...      ...   \n",
       "61  0.000000  0.000000    0.0   0.000000  0.0    0.0  0.000000   0.0      0.0   \n",
       "62  0.000000  0.000000    0.0   0.000000  0.0    0.0  0.000000   0.0      0.0   \n",
       "63  0.000000  0.000000    0.0   0.000000  0.0    0.0  0.000000   0.0      0.0   \n",
       "64  0.000000  0.000000    0.0   0.000000  0.0    0.0  0.000000   0.0      0.0   \n",
       "65  0.000000  0.000000    0.0   0.000000  0.0    0.0  0.048346   0.0      0.0   \n",
       "\n",
       "   adnya  ... wilayah wildansemsi windows wispandonosems        xl xterhadap  \\\n",
       "1    0.0  ...     0.0    0.000000     0.0       0.000000  0.000000       0.0   \n",
       "2    0.0  ...     0.0    0.000000     0.0       0.000000  0.000000       0.0   \n",
       "3    0.0  ...     0.0    0.000000     0.0       0.000000  0.000000       0.0   \n",
       "4    0.0  ...     0.0    0.058194     0.0       0.058194  0.000000       0.0   \n",
       "5    0.0  ...     0.0    0.000000     0.0       0.000000  0.339700       0.0   \n",
       "..   ...  ...     ...         ...     ...            ...       ...       ...   \n",
       "61   0.0  ...     0.0    0.000000     0.0       0.000000  0.000000       0.0   \n",
       "62   0.0  ...     0.0    0.000000     0.0       0.000000  0.000000       0.0   \n",
       "63   0.0  ...     0.0    0.000000     0.0       0.000000  0.567218       0.0   \n",
       "64   0.0  ...     0.0    0.000000     0.0       0.000000  0.000000       0.0   \n",
       "65   0.0  ...     0.0    0.000000     0.0       0.000000  0.000000       0.0   \n",
       "\n",
       "   yakin yamaha yustina zscore  \n",
       "1    0.0    0.0     0.0    0.0  \n",
       "2    0.0    0.0     0.0    0.0  \n",
       "3    0.0    0.0     0.0    0.0  \n",
       "4    0.0    0.0     0.0    0.0  \n",
       "5    0.0    0.0     0.0    0.0  \n",
       "..   ...    ...     ...    ...  \n",
       "61   0.0    0.0     0.0    0.0  \n",
       "62   0.0    0.0     0.0    0.0  \n",
       "63   0.0    0.0     0.0    0.0  \n",
       "64   0.0    0.0     0.0    0.0  \n",
       "65   0.0    0.0     0.0    0.0  \n",
       "\n",
       "[65 rows x 1047 columns]"
      ]
     },
     "execution_count": 10,
     "metadata": {},
     "output_type": "execute_result"
    }
   ],
   "source": [
    "vectorizer = TfidfVectorizer(stop_words='english')\n",
    "berita = []\n",
    "for data in dataPTA['abstrak_stem']:\n",
    "    isi = ''\n",
    "    for term in data:\n",
    "        isi += term + ' '\n",
    "    berita.append(isi)\n",
    "\n",
    "vectorizer.fit(berita)\n",
    "\n",
    "# Encode the Document\n",
    "vector = vectorizer.transform(berita)\n",
    "\n",
    "a= vectorizer.get_feature_names_out()\n",
    "\n",
    "count = vector.toarray()\n",
    "df = pd.DataFrame(data=count,columns = [a])\n",
    "\n",
    "from sklearn.feature_extraction.text import TfidfTransformer\n",
    "tfidf=TfidfTransformer(use_idf=True, norm='l2', smooth_idf=True)\n",
    "tf = tfidf.fit_transform(vectorizer.fit_transform(berita)).toarray()\n",
    "\n",
    "dfp =pd.DataFrame(data=tf, index=list(range(1,len(tf[:,1])+1, )),columns=[a])\n",
    "dfp"
   ]
  },
  {
   "cell_type": "code",
   "execution_count": 11,
   "id": "b05cec6f",
   "metadata": {},
   "outputs": [],
   "source": [
    "distortions = []\n",
    "K = range(1,10)\n",
    "for k in K:\n",
    "    kmeanModel = KMeans(n_clusters=k)\n",
    "    kmeanModel.fit(dfp)\n",
    "    distortions.append(kmeanModel.inertia_)"
   ]
  },
  {
   "cell_type": "code",
   "execution_count": 12,
   "id": "f48ac5ce",
   "metadata": {},
   "outputs": [
    {
     "data": {
      "image/png": "[encoded data removed]",
      "text/plain": [
       "<Figure size 1152x576 with 1 Axes>"
      ]
     },
     "metadata": {
      "filenames": {
       "image/png": "D:\\SEMESTER 6\\WM - Web Mining\\PPW_Imroatu\\_build\\jupyter_execute\\K Means 3 - Copy_19_0.png"
      },
      "needs_background": "light"
     },
     "output_type": "display_data"
    }
   ],
   "source": [
    "plt.figure(figsize=(16,8))\n",
    "plt.plot(K, distortions, 'bx-')\n",
    "plt.xlabel('k')\n",
    "plt.ylabel('Distortion')\n",
    "plt.title('The Elbow Method showing the optimal k')\n",
    "plt.show()"
   ]
  },
  {
   "cell_type": "code",
   "execution_count": 13,
   "id": "83eb3e58",
   "metadata": {},
   "outputs": [
    {
     "data": {
      "text/plain": [
       "array([2, 1, 0, 0, 1, 1, 0, 1, 3, 1, 2, 3, 0, 1, 1, 1, 3, 3, 0, 2, 1, 3,\n",
       "       3, 0, 1, 3, 3, 0, 3, 1, 1, 3, 1, 2, 0, 0, 0, 3, 0, 3, 1, 3, 0, 3,\n",
       "       1, 2, 1, 3, 2, 1, 3, 2, 0, 2, 3, 3, 2, 2, 1, 1, 2, 0, 3, 1, 2])"
      ]
     },
     "execution_count": 13,
     "metadata": {},
     "output_type": "execute_result"
    }
   ],
   "source": [
    "from sklearn.cluster import KMeans\n",
    "\n",
    "# initialize kmeans with 3 centroids\n",
    "kmeans = KMeans(n_clusters=4, random_state=42)\n",
    "# fit the model\n",
    "kmeans.fit(dfp)\n",
    "# store cluster labels in a variable\n",
    "clusters = kmeans.labels_\n",
    "kmeans.labels_"
   ]
  },
  {
   "cell_type": "code",
   "execution_count": 14,
   "id": "b4e4b58b",
   "metadata": {},
   "outputs": [
    {
     "ename": "NameError",
     "evalue": "name 'df_pca' is not defined",
     "output_type": "error",
     "traceback": [
      "\u001b[1;31m---------------------------------------------------------------------------\u001b[0m",
      "\u001b[1;31mNameError\u001b[0m                                 Traceback (most recent call last)",
      "\u001b[1;32m~\\AppData\\Local\\Temp/ipykernel_19820/1429045393.py\u001b[0m in \u001b[0;36m<module>\u001b[1;34m\u001b[0m\n\u001b[1;32m----> 1\u001b[1;33m \u001b[0mdf_pca\u001b[0m\u001b[1;33m[\u001b[0m\u001b[1;34m'cluster'\u001b[0m\u001b[1;33m]\u001b[0m\u001b[1;33m=\u001b[0m\u001b[0mclusters\u001b[0m\u001b[1;33m\u001b[0m\u001b[1;33m\u001b[0m\u001b[0m\n\u001b[0m\u001b[0;32m      2\u001b[0m \u001b[0mdf_pca\u001b[0m\u001b[1;33m\u001b[0m\u001b[1;33m\u001b[0m\u001b[0m\n",
      "\u001b[1;31mNameError\u001b[0m: name 'df_pca' is not defined"
     ]
    }
   ],
   "source": [
    "df_pca['cluster']=clusters\n",
    "df_pca"
   ]
  },
  {
   "cell_type": "code",
   "execution_count": null,
   "id": "12ea0bae",
   "metadata": {},
   "outputs": [],
   "source": [
    "def get_top_keywords(n_terms):\n",
    "    \"\"\"This function returns the keywords for each centroid of the KMeans\"\"\"\n",
    "    df = pd.DataFrame(X.todense()).groupby(clusters).mean() # groups the TF-IDF vector by cluster\n",
    "    terms = vectorizer.get_feature_names_out() # access tf-idf terms\n",
    "    for i,r in df.iterrows():\n",
    "        print('\\nCluster {}'.format(i))\n",
    "        print(','.join([terms[t] for t in np.argsort(r)[-n_terms:]])) # for each row of the dataframe, find the n terms that have the highest tf idf score\n",
    "            \n",
    "get_top_keywords(10)"
   ]
  },
  {
   "cell_type": "code",
   "execution_count": null,
   "id": "7d290311",
   "metadata": {},
   "outputs": [],
   "source": [
    "# map clusters to appropriate labels \n",
    "cluster_map = {0: \"0\",1:\"1\",2:\"2\",3:\"3\"}\n",
    "# apply mapping\n",
    "dataPTA['cluster'] = dataPTA['cluster'].map(cluster_map)"
   ]
  },
  {
   "cell_type": "code",
   "execution_count": null,
   "id": "3ec320f8",
   "metadata": {},
   "outputs": [],
   "source": [
    "import matplotlib.pyplot as plt\n",
    "import seaborn as sns\n",
    "# set image size\n",
    "plt.figure(figsize=(12, 7))\n",
    "# set a title\n",
    "plt.title(\"TF-IDF + KMeans 20newsgroup clustering\", fontdict={\"fontsize\": 18})\n",
    "# set axes names\n",
    "plt.xlabel(\"X0\", fontdict={\"fontsize\": 16})\n",
    "plt.ylabel(\"X1\", fontdict={\"fontsize\": 16})\n",
    "# create scatter plot with seaborn, where hue is the class used to group the data\n",
    "sns.scatterplot(data=dataPTA, x='x0', y='x1', hue='cluster', palette=\"viridis\")\n",
    "plt.show()"
   ]
  },
  {
   "cell_type": "code",
   "execution_count": null,
   "id": "57223daf",
   "metadata": {},
   "outputs": [],
   "source": []
  },
  {
   "cell_type": "code",
   "execution_count": null,
   "id": "bced7a34",
   "metadata": {},
   "outputs": [],
   "source": []
  }
 ],
 "metadata": {
  "kernelspec": {
   "display_name": "Python 3 (ipykernel)",
   "language": "python",
   "name": "python3"
  },
  "language_info": {
   "codemirror_mode": {
    "name": "ipython",
    "version": 3
   },
   "file_extension": ".py",
   "mimetype": "text/x-python",
   "name": "python",
   "nbconvert_exporter": "python",
   "pygments_lexer": "ipython3",
   "version": "3.9.10"
  }
 },
 "nbformat": 4,
 "nbformat_minor": 5
}