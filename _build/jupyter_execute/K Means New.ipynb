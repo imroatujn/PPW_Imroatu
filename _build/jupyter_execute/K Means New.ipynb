{
 "cells": [
  {
   "cell_type": "markdown",
   "id": "30544ebe",
   "metadata": {},
   "source": [
    "# Keseluruhan Code"
   ]
  },
  {
   "cell_type": "markdown",
   "id": "094c7d04",
   "metadata": {},
   "source": [
    "# Import Library"
   ]
  },
  {
   "cell_type": "code",
   "execution_count": 1,
   "id": "a121b66d",
   "metadata": {},
   "outputs": [],
   "source": [
    "import pandas as pd\n",
    "import numpy as np\n",
    "#Import Library untuk Tokenisasi\n",
    "import string \n",
    "import re #regex library\n",
    "\n",
    "# import word_tokenize & FreqDist dari NLTK\n",
    "from nltk.tokenize import word_tokenize \n",
    "from nltk.probability import FreqDist\n",
    "from nltk.corpus import stopwords\n",
    "\n",
    "from sklearn.feature_extraction.text import CountVectorizer\n",
    "from sklearn.feature_extraction.text import TfidfVectorizer\n",
    "from sklearn.decomposition import TruncatedSVD\n",
    "\n",
    "# import the dataset from sklearn\n",
    "from sklearn.datasets import fetch_20newsgroups\n",
    "from sklearn.feature_extraction.text import TfidfVectorizer\n",
    "from sklearn.cluster import KMeans\n",
    "from sklearn.decomposition import PCA\n",
    "\n",
    "\n",
    "# viz libs\n",
    "import matplotlib.pyplot as plt\n",
    "import seaborn as sns\n"
   ]
  },
  {
   "cell_type": "markdown",
   "id": "49555b1f",
   "metadata": {},
   "source": [
    "# Read Data PTA"
   ]
  },
  {
   "cell_type": "code",
   "execution_count": 2,
   "id": "433f983a",
   "metadata": {},
   "outputs": [],
   "source": [
    "dataPTA = pd.read_csv('pta-manajemen.csv')"
   ]
  },
  {
   "cell_type": "code",
   "execution_count": 3,
   "id": "85618ab0",
   "metadata": {
    "scrolled": true
   },
   "outputs": [
    {
     "data": {
      "text/html": [
       "<div>\n",
       "<style scoped>\n",
       "    .dataframe tbody tr th:only-of-type {\n",
       "        vertical-align: middle;\n",
       "    }\n",
       "\n",
       "    .dataframe tbody tr th {\n",
       "        vertical-align: top;\n",
       "    }\n",
       "\n",
       "    .dataframe thead th {\n",
       "        text-align: right;\n",
       "    }\n",
       "</style>\n",
       "<table border=\"1\" class=\"dataframe\">\n",
       "  <thead>\n",
       "    <tr style=\"text-align: right;\">\n",
       "      <th></th>\n",
       "      <th>Judul</th>\n",
       "      <th>Penulis</th>\n",
       "      <th>Dosen 1</th>\n",
       "      <th>Dosen 2</th>\n",
       "      <th>Abstrak</th>\n",
       "    </tr>\n",
       "  </thead>\n",
       "  <tbody>\n",
       "    <tr>\n",
       "      <th>0</th>\n",
       "      <td>ANALISIS TINGKAT RISIKO KREDIT \\r\\nPADA PD. BP...</td>\n",
       "      <td>Penulis : Iwan Kurniawan Gomes</td>\n",
       "      <td>Dosen Pembimbing I : Drs. Ec. Makhmud Zulkifli...</td>\n",
       "      <td>Dosen Pembimbing II :Echsan Gani, S.E., M.SI</td>\n",
       "      <td>Hasil dari penelitian ini dari perhitungan Cre...</td>\n",
       "    </tr>\n",
       "    <tr>\n",
       "      <th>1</th>\n",
       "      <td>PENGARUH DIMENSI KUALITAS PELAYANAN TERHADAP K...</td>\n",
       "      <td>Penulis : Toni Budianto</td>\n",
       "      <td>Dosen Pembimbing I : Bambang Setiyo Pambudi, S...</td>\n",
       "      <td>Dosen Pembimbing II :Fathor AS, S.E., MM.</td>\n",
       "      <td>ABSTRAK\\r\\n\\r\\nTujuan penelitian ini adalah un...</td>\n",
       "    </tr>\n",
       "    <tr>\n",
       "      <th>2</th>\n",
       "      <td>PENGARUH TIPE KEPEMIMPINAN TERHADAP PRESTASI K...</td>\n",
       "      <td>Penulis : Dharma Abidin Syah</td>\n",
       "      <td>Dosen Pembimbing I : Drs. Ec. Mudji Kuswinarno...</td>\n",
       "      <td>Dosen Pembimbing II :Faidal SE, MM</td>\n",
       "      <td>ABSTRAK\\r\\n\\tDharma Abidin Syah,Kesimpulan: (1...</td>\n",
       "    </tr>\n",
       "    <tr>\n",
       "      <th>3</th>\n",
       "      <td>PENGARUH KOMPETENSI DOSEN TERHADAP KINERJA DOS...</td>\n",
       "      <td>Penulis : Aththaariq</td>\n",
       "      <td>Dosen Pembimbing I : Dr.RM Moch Wispandono,.S....</td>\n",
       "      <td>Dosen Pembimbing II :Dr. Muhammad Alkirom Wild...</td>\n",
       "      <td>Abstrak\\r\\n\\r\\nAththaariq, Pengaruh Kompetensi...</td>\n",
       "    </tr>\n",
       "    <tr>\n",
       "      <th>4</th>\n",
       "      <td>Pengaruh Iklan di televisi terhadap keputusan ...</td>\n",
       "      <td>Penulis : Muhammad Sholeh</td>\n",
       "      <td>Dosen Pembimbing I : Bambang Setiyo Pambudi, S...</td>\n",
       "      <td>Dosen Pembimbing II :Suyono, S.E.,M.S.M</td>\n",
       "      <td>Muhammad Sholeh, Pengaruh Iklan Di Televisi Te...</td>\n",
       "    </tr>\n",
       "    <tr>\n",
       "      <th>5</th>\n",
       "      <td>PENGARUH PERILAKU KONSUMEN TERHADAP KEPUTUSAN ...</td>\n",
       "      <td>Penulis : Haryono Arifin</td>\n",
       "      <td>Dosen Pembimbing I : Dr. Ir Nurita Andriani, MM</td>\n",
       "      <td>Dosen Pembimbing II :Nirma Kurriwati, S.P., M.Si</td>\n",
       "      <td>ABSTRAK\\r\\nHaryono Arifin, Pengaruh Perilaku K...</td>\n",
       "    </tr>\n",
       "    <tr>\n",
       "      <th>6</th>\n",
       "      <td>PENGARUH SELF EFFICACY TERHADAP PRESTASI AKADE...</td>\n",
       "      <td>Penulis : ISTIB SYAROH</td>\n",
       "      <td>Dosen Pembimbing I : Dr. Dra. Hj. Iriani Ismai...</td>\n",
       "      <td>Dosen Pembimbing II :Drs. Ec. Mudji Kuswinarno...</td>\n",
       "      <td>Tujuan dari penelitian ini adalah untuk menget...</td>\n",
       "    </tr>\n",
       "    <tr>\n",
       "      <th>7</th>\n",
       "      <td>PENGARUH RELATIONSHIP MARKETING TERHADAP LOYAL...</td>\n",
       "      <td>Penulis : ARYA SUBAYU</td>\n",
       "      <td>Dosen Pembimbing I : Dr.H.Pribanus Wantara.,Dr...</td>\n",
       "      <td>Dosen Pembimbing II :Hadi Purnomo, SE, MM</td>\n",
       "      <td>Tujuan penelitian ini adalah untuk mengetahui ...</td>\n",
       "    </tr>\n",
       "    <tr>\n",
       "      <th>8</th>\n",
       "      <td>ANALISIS FAKTOR-FAKTOR YANG MENENTUKAN PREFERE...</td>\n",
       "      <td>Penulis : ulfiyatun Mutohharoh</td>\n",
       "      <td>Dosen Pembimbing I : Drs. Mohamad Tambrin, MM.</td>\n",
       "      <td>Dosen Pembimbing II :Yustina Chrismardani, S.S...</td>\n",
       "      <td>Ulfiyatun Mutohharoh, “Analisis Faktor-faktor ...</td>\n",
       "    </tr>\n",
       "    <tr>\n",
       "      <th>9</th>\n",
       "      <td>ANALISA KUALITAS PELAYANAN JASA UNTUK MENGUKUR...</td>\n",
       "      <td>Penulis : Farid Ardyansyah</td>\n",
       "      <td>Dosen Pembimbing I : Dr. H. Pribanus Wantara, ...</td>\n",
       "      <td>Dosen Pembimbing II :Hadi Purnomo, SE., MM</td>\n",
       "      <td>ABSTRAK\\r\\nTujuan penelitian ini adalah untuk ...</td>\n",
       "    </tr>\n",
       "  </tbody>\n",
       "</table>\n",
       "</div>"
      ],
      "text/plain": [
       "                                               Judul  \\\n",
       "0  ANALISIS TINGKAT RISIKO KREDIT \\r\\nPADA PD. BP...   \n",
       "1  PENGARUH DIMENSI KUALITAS PELAYANAN TERHADAP K...   \n",
       "2  PENGARUH TIPE KEPEMIMPINAN TERHADAP PRESTASI K...   \n",
       "3  PENGARUH KOMPETENSI DOSEN TERHADAP KINERJA DOS...   \n",
       "4  Pengaruh Iklan di televisi terhadap keputusan ...   \n",
       "5  PENGARUH PERILAKU KONSUMEN TERHADAP KEPUTUSAN ...   \n",
       "6  PENGARUH SELF EFFICACY TERHADAP PRESTASI AKADE...   \n",
       "7  PENGARUH RELATIONSHIP MARKETING TERHADAP LOYAL...   \n",
       "8  ANALISIS FAKTOR-FAKTOR YANG MENENTUKAN PREFERE...   \n",
       "9  ANALISA KUALITAS PELAYANAN JASA UNTUK MENGUKUR...   \n",
       "\n",
       "                          Penulis  \\\n",
       "0  Penulis : Iwan Kurniawan Gomes   \n",
       "1         Penulis : Toni Budianto   \n",
       "2    Penulis : Dharma Abidin Syah   \n",
       "3            Penulis : Aththaariq   \n",
       "4       Penulis : Muhammad Sholeh   \n",
       "5        Penulis : Haryono Arifin   \n",
       "6          Penulis : ISTIB SYAROH   \n",
       "7           Penulis : ARYA SUBAYU   \n",
       "8  Penulis : ulfiyatun Mutohharoh   \n",
       "9      Penulis : Farid Ardyansyah   \n",
       "\n",
       "                                             Dosen 1  \\\n",
       "0  Dosen Pembimbing I : Drs. Ec. Makhmud Zulkifli...   \n",
       "1  Dosen Pembimbing I : Bambang Setiyo Pambudi, S...   \n",
       "2  Dosen Pembimbing I : Drs. Ec. Mudji Kuswinarno...   \n",
       "3  Dosen Pembimbing I : Dr.RM Moch Wispandono,.S....   \n",
       "4  Dosen Pembimbing I : Bambang Setiyo Pambudi, S...   \n",
       "5    Dosen Pembimbing I : Dr. Ir Nurita Andriani, MM   \n",
       "6  Dosen Pembimbing I : Dr. Dra. Hj. Iriani Ismai...   \n",
       "7  Dosen Pembimbing I : Dr.H.Pribanus Wantara.,Dr...   \n",
       "8     Dosen Pembimbing I : Drs. Mohamad Tambrin, MM.   \n",
       "9  Dosen Pembimbing I : Dr. H. Pribanus Wantara, ...   \n",
       "\n",
       "                                             Dosen 2  \\\n",
       "0       Dosen Pembimbing II :Echsan Gani, S.E., M.SI   \n",
       "1          Dosen Pembimbing II :Fathor AS, S.E., MM.   \n",
       "2                 Dosen Pembimbing II :Faidal SE, MM   \n",
       "3  Dosen Pembimbing II :Dr. Muhammad Alkirom Wild...   \n",
       "4            Dosen Pembimbing II :Suyono, S.E.,M.S.M   \n",
       "5   Dosen Pembimbing II :Nirma Kurriwati, S.P., M.Si   \n",
       "6  Dosen Pembimbing II :Drs. Ec. Mudji Kuswinarno...   \n",
       "7          Dosen Pembimbing II :Hadi Purnomo, SE, MM   \n",
       "8  Dosen Pembimbing II :Yustina Chrismardani, S.S...   \n",
       "9         Dosen Pembimbing II :Hadi Purnomo, SE., MM   \n",
       "\n",
       "                                             Abstrak  \n",
       "0  Hasil dari penelitian ini dari perhitungan Cre...  \n",
       "1  ABSTRAK\\r\\n\\r\\nTujuan penelitian ini adalah un...  \n",
       "2  ABSTRAK\\r\\n\\tDharma Abidin Syah,Kesimpulan: (1...  \n",
       "3  Abstrak\\r\\n\\r\\nAththaariq, Pengaruh Kompetensi...  \n",
       "4  Muhammad Sholeh, Pengaruh Iklan Di Televisi Te...  \n",
       "5  ABSTRAK\\r\\nHaryono Arifin, Pengaruh Perilaku K...  \n",
       "6  Tujuan dari penelitian ini adalah untuk menget...  \n",
       "7  Tujuan penelitian ini adalah untuk mengetahui ...  \n",
       "8  Ulfiyatun Mutohharoh, “Analisis Faktor-faktor ...  \n",
       "9  ABSTRAK\\r\\nTujuan penelitian ini adalah untuk ...  "
      ]
     },
     "execution_count": 3,
     "metadata": {},
     "output_type": "execute_result"
    }
   ],
   "source": [
    "dataPTA.head(10)"
   ]
  },
  {
   "cell_type": "markdown",
   "id": "23d5ccaa",
   "metadata": {},
   "source": [
    "# Case Folding"
   ]
  },
  {
   "cell_type": "code",
   "execution_count": 4,
   "id": "34dc14d3",
   "metadata": {
    "scrolled": true
   },
   "outputs": [
    {
     "name": "stdout",
     "output_type": "stream",
     "text": [
      "Case Folding Result : \n",
      "\n",
      "0    hasil dari penelitian ini dari perhitungan cre...\n",
      "1    abstrak\\r\\n\\r\\ntujuan penelitian ini adalah un...\n",
      "2    abstrak\\r\\n\\tdharma abidin syah,kesimpulan: (1...\n",
      "3    abstrak\\r\\n\\r\\naththaariq, pengaruh kompetensi...\n",
      "4    muhammad sholeh, pengaruh iklan di televisi te...\n",
      "Name: Abstrak, dtype: object\n",
      "\n",
      "\n",
      "\n",
      "\n"
     ]
    }
   ],
   "source": [
    "\n",
    "# gunakan fungsi Series.str.lower() pada Pandas\n",
    "dataPTA['Abstrak'] = dataPTA['Abstrak'].str.lower()\n",
    "\n",
    "print('Case Folding Result : \\n')\n",
    "\n",
    "#cek hasil case fold\n",
    "print(dataPTA['Abstrak'].head(5))\n",
    "print('\\n\\n\\n')"
   ]
  },
  {
   "cell_type": "markdown",
   "id": "332d9326",
   "metadata": {},
   "source": [
    "# Removal"
   ]
  },
  {
   "cell_type": "code",
   "execution_count": 5,
   "id": "7c240b30",
   "metadata": {},
   "outputs": [
    {
     "name": "stdout",
     "output_type": "stream",
     "text": [
      "Tokenizing Result : \n",
      "\n",
      "0    [hasil, dari, penelitian, ini, dari, perhitung...\n",
      "1    [abstrak, tujuan, penelitian, ini, adalah, unt...\n",
      "2    [abstrak, dharma, abidin, syahkesimpulan, terd...\n",
      "3    [abstrak, aththaariq, pengaruh, kompetensi, do...\n",
      "4    [muhammad, sholeh, pengaruh, iklan, di, televi...\n",
      "Name: abstrak_token, dtype: object\n",
      "\n",
      "\n",
      "\n",
      "\n"
     ]
    }
   ],
   "source": [
    "#Import Library untuk Tokenisasi\n",
    "import string \n",
    "import re #regex library\n",
    "\n",
    "# import word_tokenize & FreqDist dari NLTK\n",
    "from nltk.tokenize import word_tokenize \n",
    "from nltk.probability import FreqDist\n",
    "\n",
    "def remove_PTA_special(text):\n",
    "    # menghapus tab, new line, dan back slice\n",
    "    text = text.replace('\\\\t',\" \").replace('\\\\n',\" \").replace('\\\\u',\" \").replace('\\\\',\"\")\n",
    "    # menghapus non ASCII (emoticon, chinese word, .etc)\n",
    "    text = text.encode('ascii', 'replace').decode('ascii')\n",
    "    # menghapus mention, link, hashtag\n",
    "    text = ' '.join(re.sub(\"([@#][A-Za-z0-9]+)|(\\w+:\\/\\/\\S+)\",\" \", text).split())\n",
    "    # menghapus incomplete URL\n",
    "    return text.replace(\"http://\", \" \").replace(\"https://\", \" \")\n",
    "                \n",
    "dataPTA['Abstrak'] = dataPTA['Abstrak'].apply(remove_PTA_special)\n",
    "\n",
    "#menghapus nomor\n",
    "def remove_number(text):\n",
    "    return  re.sub(r\"\\d+\", \"\", text)\n",
    "\n",
    "dataPTA['Abstrak'] = dataPTA['Abstrak'].apply(remove_number)\n",
    "\n",
    "#menghapus punctuation\n",
    "def remove_punctuation(text):\n",
    "    return text.translate(str.maketrans(\"\",\"\",string.punctuation))\n",
    "\n",
    "dataPTA['Abstrak'] = dataPTA['Abstrak'].apply(remove_punctuation)\n",
    "\n",
    "#menghapus spasi leading & trailing\n",
    "def remove_whitespace_LT(text):\n",
    "    return text.strip()\n",
    "\n",
    "dataPTA['Abstrak'] = dataPTA['Abstrak'].apply(remove_whitespace_LT)\n",
    "\n",
    "#menghapus spasi tunggal dan ganda\n",
    "def remove_whitespace_multiple(text):\n",
    "    return re.sub('\\s+',' ',text)\n",
    "\n",
    "dataPTA['Abstrak'] = dataPTA['Abstrak'].apply(remove_whitespace_multiple)\n",
    "\n",
    "# menghapus kata 1 abjad\n",
    "def remove_singl_char(text):\n",
    "    return re.sub(r\"\\b[a-zA-Z]\\b\", \"\", text)\n",
    "\n",
    "dataPTA['Abstrak'] = dataPTA['Abstrak'].apply(remove_singl_char)\n",
    "\n",
    "# Tokenisasi\n",
    "def word_tokenize_wrapper(text):\n",
    "    return word_tokenize(text)\n",
    "\n",
    "dataPTA['abstrak_token'] = dataPTA['Abstrak'].apply(word_tokenize_wrapper)\n",
    "\n",
    "print('Tokenizing Result : \\n') \n",
    "print(dataPTA['abstrak_token'].head())\n",
    "print('\\n\\n\\n')"
   ]
  },
  {
   "cell_type": "markdown",
   "id": "fa6ae080",
   "metadata": {},
   "source": [
    "# STOPWORD "
   ]
  },
  {
   "cell_type": "code",
   "execution_count": 6,
   "id": "36de7fc5",
   "metadata": {},
   "outputs": [
    {
     "name": "stdout",
     "output_type": "stream",
     "text": [
      "0     [hasil, penelitian, perhitungan, credit, risk,...\n",
      "1     [abstrak, tujuan, penelitian, mengidentifikasi...\n",
      "2     [abstrak, dharma, abidin, syahkesimpulan, peng...\n",
      "3     [abstrak, aththaariq, pengaruh, kompetensi, do...\n",
      "4     [muhammad, sholeh, pengaruh, iklan, televisi, ...\n",
      "5     [abstrak, haryono, arifin, pengaruh, perilaku,...\n",
      "6     [tujuan, penelitian, pengaruh, variabel, self,...\n",
      "7     [tujuan, penelitian, pengaruh, variabel, relat...\n",
      "8     [ulfiyatun, mutohharoh, analisis, faktorfaktor...\n",
      "9     [abstrak, tujuan, penelitian, menganalisis, at...\n",
      "10    [devi, kurniawati, pengaruh, earning, share, n...\n",
      "11    [abstrak, tujuan, penelitian, harga, kualitas,...\n",
      "12    [abstrak, penelitian, bertujuan, pengaruh, fak...\n",
      "13    [tujuan, penlitian, variabel, iklan, berdasark...\n",
      "14    [tujuan, penelitian, pengaruh, variabel, brand...\n",
      "15    [farid, pengaruh, periklanan, media, televisi,...\n",
      "16    [tujuan, penelitian, kualitas, pelayanan, keha...\n",
      "17    [tujuan, penelitian, pengaruh, sikap, parsial,...\n",
      "18    [abstrak, pengaruh, kecerdasan, emosional, pre...\n",
      "19    [tujuan, penelitian, pengaruh, rasio, profitab...\n",
      "Name: abstrak_stop, dtype: object\n"
     ]
    }
   ],
   "source": [
    "from nltk.corpus import stopwords\n",
    "\n",
    "list_stopwords = stopwords.words('indonesian')\n",
    "\n",
    "# Mengubah List ke dictionary\n",
    "list_stopwords = set(list_stopwords)\n",
    "\n",
    "\n",
    "#remove stopword pada list token\n",
    "def stopwords_removal(words):\n",
    "    return [word for word in words if word not in list_stopwords]\n",
    "\n",
    "#aStopwording\n",
    "dataPTA['abstrak_stop'] = dataPTA['abstrak_token'].apply(stopwords_removal) \n",
    "\n",
    "\n",
    "print(dataPTA['abstrak_stop'].head(20))"
   ]
  },
  {
   "cell_type": "code",
   "execution_count": 7,
   "id": "c9547f60",
   "metadata": {
    "scrolled": false
   },
   "outputs": [
    {
     "data": {
      "text/html": [
       "<div>\n",
       "<style scoped>\n",
       "    .dataframe tbody tr th:only-of-type {\n",
       "        vertical-align: middle;\n",
       "    }\n",
       "\n",
       "    .dataframe tbody tr th {\n",
       "        vertical-align: top;\n",
       "    }\n",
       "\n",
       "    .dataframe thead th {\n",
       "        text-align: right;\n",
       "    }\n",
       "</style>\n",
       "<table border=\"1\" class=\"dataframe\">\n",
       "  <thead>\n",
       "    <tr style=\"text-align: right;\">\n",
       "      <th></th>\n",
       "      <th>Judul</th>\n",
       "      <th>Penulis</th>\n",
       "      <th>Dosen 1</th>\n",
       "      <th>Dosen 2</th>\n",
       "      <th>Abstrak</th>\n",
       "      <th>abstrak_token</th>\n",
       "      <th>abstrak_stop</th>\n",
       "    </tr>\n",
       "  </thead>\n",
       "  <tbody>\n",
       "    <tr>\n",
       "      <th>0</th>\n",
       "      <td>ANALISIS TINGKAT RISIKO KREDIT \\r\\nPADA PD. BP...</td>\n",
       "      <td>Penulis : Iwan Kurniawan Gomes</td>\n",
       "      <td>Dosen Pembimbing I : Drs. Ec. Makhmud Zulkifli...</td>\n",
       "      <td>Dosen Pembimbing II :Echsan Gani, S.E., M.SI</td>\n",
       "      <td>hasil dari penelitian ini dari perhitungan cre...</td>\n",
       "      <td>[hasil, dari, penelitian, ini, dari, perhitung...</td>\n",
       "      <td>[hasil, penelitian, perhitungan, credit, risk,...</td>\n",
       "    </tr>\n",
       "    <tr>\n",
       "      <th>1</th>\n",
       "      <td>PENGARUH DIMENSI KUALITAS PELAYANAN TERHADAP K...</td>\n",
       "      <td>Penulis : Toni Budianto</td>\n",
       "      <td>Dosen Pembimbing I : Bambang Setiyo Pambudi, S...</td>\n",
       "      <td>Dosen Pembimbing II :Fathor AS, S.E., MM.</td>\n",
       "      <td>abstrak tujuan penelitian ini adalah untuk men...</td>\n",
       "      <td>[abstrak, tujuan, penelitian, ini, adalah, unt...</td>\n",
       "      <td>[abstrak, tujuan, penelitian, mengidentifikasi...</td>\n",
       "    </tr>\n",
       "    <tr>\n",
       "      <th>2</th>\n",
       "      <td>PENGARUH TIPE KEPEMIMPINAN TERHADAP PRESTASI K...</td>\n",
       "      <td>Penulis : Dharma Abidin Syah</td>\n",
       "      <td>Dosen Pembimbing I : Drs. Ec. Mudji Kuswinarno...</td>\n",
       "      <td>Dosen Pembimbing II :Faidal SE, MM</td>\n",
       "      <td>abstrak dharma abidin syahkesimpulan terdapat ...</td>\n",
       "      <td>[abstrak, dharma, abidin, syahkesimpulan, terd...</td>\n",
       "      <td>[abstrak, dharma, abidin, syahkesimpulan, peng...</td>\n",
       "    </tr>\n",
       "    <tr>\n",
       "      <th>3</th>\n",
       "      <td>PENGARUH KOMPETENSI DOSEN TERHADAP KINERJA DOS...</td>\n",
       "      <td>Penulis : Aththaariq</td>\n",
       "      <td>Dosen Pembimbing I : Dr.RM Moch Wispandono,.S....</td>\n",
       "      <td>Dosen Pembimbing II :Dr. Muhammad Alkirom Wild...</td>\n",
       "      <td>abstrak aththaariq pengaruh kompetensi dosen t...</td>\n",
       "      <td>[abstrak, aththaariq, pengaruh, kompetensi, do...</td>\n",
       "      <td>[abstrak, aththaariq, pengaruh, kompetensi, do...</td>\n",
       "    </tr>\n",
       "    <tr>\n",
       "      <th>4</th>\n",
       "      <td>Pengaruh Iklan di televisi terhadap keputusan ...</td>\n",
       "      <td>Penulis : Muhammad Sholeh</td>\n",
       "      <td>Dosen Pembimbing I : Bambang Setiyo Pambudi, S...</td>\n",
       "      <td>Dosen Pembimbing II :Suyono, S.E.,M.S.M</td>\n",
       "      <td>muhammad sholeh pengaruh iklan di televisi ter...</td>\n",
       "      <td>[muhammad, sholeh, pengaruh, iklan, di, televi...</td>\n",
       "      <td>[muhammad, sholeh, pengaruh, iklan, televisi, ...</td>\n",
       "    </tr>\n",
       "  </tbody>\n",
       "</table>\n",
       "</div>"
      ],
      "text/plain": [
       "                                               Judul  \\\n",
       "0  ANALISIS TINGKAT RISIKO KREDIT \\r\\nPADA PD. BP...   \n",
       "1  PENGARUH DIMENSI KUALITAS PELAYANAN TERHADAP K...   \n",
       "2  PENGARUH TIPE KEPEMIMPINAN TERHADAP PRESTASI K...   \n",
       "3  PENGARUH KOMPETENSI DOSEN TERHADAP KINERJA DOS...   \n",
       "4  Pengaruh Iklan di televisi terhadap keputusan ...   \n",
       "\n",
       "                          Penulis  \\\n",
       "0  Penulis : Iwan Kurniawan Gomes   \n",
       "1         Penulis : Toni Budianto   \n",
       "2    Penulis : Dharma Abidin Syah   \n",
       "3            Penulis : Aththaariq   \n",
       "4       Penulis : Muhammad Sholeh   \n",
       "\n",
       "                                             Dosen 1  \\\n",
       "0  Dosen Pembimbing I : Drs. Ec. Makhmud Zulkifli...   \n",
       "1  Dosen Pembimbing I : Bambang Setiyo Pambudi, S...   \n",
       "2  Dosen Pembimbing I : Drs. Ec. Mudji Kuswinarno...   \n",
       "3  Dosen Pembimbing I : Dr.RM Moch Wispandono,.S....   \n",
       "4  Dosen Pembimbing I : Bambang Setiyo Pambudi, S...   \n",
       "\n",
       "                                             Dosen 2  \\\n",
       "0       Dosen Pembimbing II :Echsan Gani, S.E., M.SI   \n",
       "1          Dosen Pembimbing II :Fathor AS, S.E., MM.   \n",
       "2                 Dosen Pembimbing II :Faidal SE, MM   \n",
       "3  Dosen Pembimbing II :Dr. Muhammad Alkirom Wild...   \n",
       "4            Dosen Pembimbing II :Suyono, S.E.,M.S.M   \n",
       "\n",
       "                                             Abstrak  \\\n",
       "0  hasil dari penelitian ini dari perhitungan cre...   \n",
       "1  abstrak tujuan penelitian ini adalah untuk men...   \n",
       "2  abstrak dharma abidin syahkesimpulan terdapat ...   \n",
       "3  abstrak aththaariq pengaruh kompetensi dosen t...   \n",
       "4  muhammad sholeh pengaruh iklan di televisi ter...   \n",
       "\n",
       "                                       abstrak_token  \\\n",
       "0  [hasil, dari, penelitian, ini, dari, perhitung...   \n",
       "1  [abstrak, tujuan, penelitian, ini, adalah, unt...   \n",
       "2  [abstrak, dharma, abidin, syahkesimpulan, terd...   \n",
       "3  [abstrak, aththaariq, pengaruh, kompetensi, do...   \n",
       "4  [muhammad, sholeh, pengaruh, iklan, di, televi...   \n",
       "\n",
       "                                        abstrak_stop  \n",
       "0  [hasil, penelitian, perhitungan, credit, risk,...  \n",
       "1  [abstrak, tujuan, penelitian, mengidentifikasi...  \n",
       "2  [abstrak, dharma, abidin, syahkesimpulan, peng...  \n",
       "3  [abstrak, aththaariq, pengaruh, kompetensi, do...  \n",
       "4  [muhammad, sholeh, pengaruh, iklan, televisi, ...  "
      ]
     },
     "execution_count": 7,
     "metadata": {},
     "output_type": "execute_result"
    }
   ],
   "source": [
    "dataPTA.head()"
   ]
  },
  {
   "cell_type": "markdown",
   "id": "e2b3a9bc",
   "metadata": {},
   "source": [
    "# stemming"
   ]
  },
  {
   "cell_type": "code",
   "execution_count": 8,
   "id": "3e8c73e1",
   "metadata": {},
   "outputs": [
    {
     "name": "stdout",
     "output_type": "stream",
     "text": [
      "1210\n",
      "------------------------\n",
      "hasil : hasil\n",
      "penelitian : teliti\n",
      "perhitungan : hitung\n"
     ]
    },
    {
     "name": "stdout",
     "output_type": "stream",
     "text": [
      "credit : credit\n",
      "risk : risk\n",
      "ratio : ratio\n"
     ]
    },
    {
     "name": "stdout",
     "output_type": "stream",
     "text": [
      "menunjukan : tunjuk\n",
      "npl : npl\n",
      "pd : pd\n",
      "bpr : bpr\n",
      "bank : bank\n",
      "daerah : daerah\n"
     ]
    },
    {
     "name": "stdout",
     "output_type": "stream",
     "text": [
      "lamongan : lamongan\n",
      "mengalami : alami\n",
      "penurunan : turun\n",
      "tingkat : tingkat\n",
      "resiko : resiko\n",
      "kesimpulan : simpul\n"
     ]
    },
    {
     "name": "stdout",
     "output_type": "stream",
     "text": [
      "dikatagorikan : dikatagorikan\n",
      "berdasarkan : dasar\n",
      "ketentuan : tentu\n",
      "indonesia : indonesia\n",
      "syarat : syarat\n",
      "maksimal : maksimal\n",
      "kunci : kunci\n",
      "non : non\n"
     ]
    },
    {
     "name": "stdout",
     "output_type": "stream",
     "text": [
      "performing : performing\n"
     ]
    },
    {
     "name": "stdout",
     "output_type": "stream",
     "text": [
      "loan : loan\n",
      "abstrak : abstrak\n",
      "tujuan : tuju\n",
      "mengidentifikasi : identifikasi\n",
      "variabelvariabel : variabelvariabel\n"
     ]
    },
    {
     "name": "stdout",
     "output_type": "stream",
     "text": [
      "mempengaruhi : pengaruh\n",
      "kepuasan : puas\n",
      "konsumen : konsumen\n",
      "simultan : simultan\n",
      "parsial : parsial\n",
      "metode : metode\n",
      "kuantitatif : kuantitatif\n",
      "populasi : populasi\n",
      "depot : depot\n"
     ]
    },
    {
     "name": "stdout",
     "output_type": "stream",
     "text": [
      "barokah : barokah\n",
      "prambon : prambon\n"
     ]
    },
    {
     "name": "stdout",
     "output_type": "stream",
     "text": [
      "pelayanan : layan\n",
      "sampel : sampel\n",
      "responden : responden\n",
      "teknik : teknik\n",
      "accidental : accidental\n",
      "sampling : sampling\n",
      "analisis : analisis\n",
      "regresi : regresi\n",
      "linier : linier\n",
      "berganda : ganda\n",
      "variabel : variabel\n",
      "independen : independen\n",
      "bukti : bukti\n",
      "fisik : fisik\n"
     ]
    },
    {
     "name": "stdout",
     "output_type": "stream",
     "text": [
      "kehandalan : kehandalan\n",
      "jaminan : jamin\n",
      "berpengaruh : pengaruh\n",
      "signifikan : signifikan\n",
      "daya : daya\n",
      "tanggap : tanggap\n",
      "empati : empati\n",
      "dependen : dependen\n",
      "pengaruh : pengaruh\n",
      "kualitas : kualitas\n",
      "dharma : dharma\n",
      "abidin : abidin\n"
     ]
    },
    {
     "name": "stdout",
     "output_type": "stream",
     "text": [
      "syahkesimpulan : syahkesimpulan\n",
      "tipe : tipe\n",
      "kepemimpinan : pimpin\n"
     ]
    },
    {
     "name": "stdout",
     "output_type": "stream",
     "text": [
      "autoritarian : autoritarian\n",
      "laissezfaire : laissezfaire\n",
      "demokratis : demokratis\n",
      "prestasi : prestasi\n",
      "kerja : kerja\n",
      "pegawai : pegawai\n",
      "kantor : kantor\n",
      "kecamatan : camat\n"
     ]
    },
    {
     "name": "stdout",
     "output_type": "stream",
     "text": [
      "pangarengan : pangarengan\n",
      "kabupaten : kabupaten\n",
      "sampang : sampang\n",
      "uji : uji\n",
      "anova : anova\n",
      "nilai : nilai\n"
     ]
    },
    {
     "name": "stdout",
     "output_type": "stream",
     "text": [
      "fhitung : fhitung\n",
      "ftabel : ftabel\n",
      "kontribusi : kontribusi\n"
     ]
    },
    {
     "name": "stdout",
     "output_type": "stream",
     "text": [
      "autoritariansecara : autoritariansecara\n",
      "pegawaidikantor : pegawaidikantor\n",
      "hitung : hitung\n",
      "tabel : tabel\n",
      "laissezfairesecara : laissezfairesecara\n",
      "koefisien : koefisien\n",
      "determinasi : determinasi\n",
      "bebas : bebas\n",
      "lainya : lai\n",
      "dominan : dominan\n",
      "dikantor"
     ]
    },
    {
     "name": "stdout",
     "output_type": "stream",
     "text": [
      " : kantor\n",
      "aththaariq : aththaariq\n",
      "kompetensi : kompetensi\n",
      "dosen : dosen\n",
      "kinerja : kerja\n",
      "universitas : universitas\n",
      "trunojoyo : trunojoyo\n"
     ]
    },
    {
     "name": "stdout",
     "output_type": "stream",
     "text": [
      "madura : madura\n",
      "dibawah : bawah\n",
      "bimbingan : bimbing\n",
      "drrm : drrm\n",
      "moch : moch\n"
     ]
    },
    {
     "name": "stdout",
     "output_type": "stream",
     "text": [
      "wispandonosems : wispandonosems\n",
      "dr : dr\n",
      "muhammad : muhammad\n",
      "alkirom : alkirom\n"
     ]
    },
    {
     "name": "stdout",
     "output_type": "stream",
     "text": [
      "wildansemsi : wildansemsi\n",
      "bertujuan : tuju\n",
      "menganalisis : analis\n",
      "pedagogik : pedagogik\n",
      "profesional : profesional\n",
      "sosial : sosial\n"
     ]
    },
    {
     "name": "stdout",
     "output_type": "stream",
     "text": [
      "kepribadian : pribadi\n",
      "terikat : ikat\n",
      "data : data\n",
      "primer : primer\n",
      "diperoleh : oleh\n",
      "penyebaran : sebar\n",
      "kuesioner : kuesioner\n",
      "tersertifikasi : sertifikasi\n",
      "aktif : aktif\n",
      "pengambilan : ambil\n"
     ]
    },
    {
     "name": "stdout",
     "output_type": "stream",
     "text": [
      "judgmental : judgmental\n",
      "disimpulkan : simpul\n",
      "koefisiensi : koefisiensi\n",
      "dipengaruhi : pengaruh\n",
      "perubahan : ubah\n",
      "diteliti : teliti\n",
      "sisanya : sisa\n"
     ]
    },
    {
     "name": "stdout",
     "output_type": "stream",
     "text": [
      "memiliki : milik\n",
      "signifikansi : signifikansi\n",
      "beta : beta\n",
      "kepribadiandan : kepribadiandan\n",
      "sholeh : sholeh\n",
      "iklan : iklan\n",
      "televisi : televisi\n"
     ]
    },
    {
     "name": "stdout",
     "output_type": "stream",
     "text": [
      "keputusan : putus\n",
      "memakai : pakai\n",
      "kartu : kartu\n",
      "seluler : seluler\n",
      "xl : xl\n",
      "geger : geger\n",
      "bambang : bambang\n",
      "setiyo : setiyo\n"
     ]
    },
    {
     "name": "stdout",
     "output_type": "stream",
     "text": [
      "pambudi : pambudi\n",
      "mm : mm\n",
      "suyono : suyono\n",
      "msm : msm\n",
      "masyarakat : masyarakat\n",
      "bangkalan : bangkal\n",
      "terkumpul : kumpul\n",
      "alat : alat\n",
      "bantu : bantu\n",
      "software : software\n"
     ]
    },
    {
     "name": "stdout",
     "output_type": "stream",
     "text": [
      "spss : spss\n",
      "pengujian : uji\n",
      "hipotesis : hipotesis\n",
      "isi : isi\n",
      "pesan : pesan\n",
      "struktur : struktur\n",
      "format : format\n",
      "sumber : sumber\n",
      "keywords : keywords\n",
      "haryono : haryono\n",
      "arifin : arifin\n",
      "perilaku : perilaku\n"
     ]
    },
    {
     "name": "stdout",
     "output_type": "stream",
     "text": [
      "pembelian : beli\n",
      "produk : produk\n",
      "honda : honda\n",
      "merek : merek\n",
      "vario : vario\n",
      "studi : studi\n",
      "dealler : dealler\n",
      "surya : surya\n",
      "agung : agung\n",
      "motor : motor\n"
     ]
    },
    {
     "name": "stdout",
     "output_type": "stream",
     "text": [
      "dealer : dealer\n",
      "manakah : mana\n",
      "kebudayaan : budaya\n",
      "pribadi : pribadi\n",
      "psikologis : psikologis\n",
      "pendekatan : dekat\n",
      "pengamatan : amat\n",
      "langsung : langsung\n",
      "dianalisa : dianalisa\n",
      "dijadikan : jadi\n",
      "dianalisis : analis\n",
      "versi : versi\n",
      "self : self\n"
     ]
    },
    {
     "name": "stdout",
     "output_type": "stream",
     "text": [
      "efficacy : efficacy\n",
      "magnitude : magnitude\n",
      "generality : generality\n"
     ]
    },
    {
     "name": "stdout",
     "output_type": "stream",
     "text": [
      "strength : strength\n",
      "akademik : akademik\n",
      "mahasiswa : mahasiswa\n",
      "berprestasi : prestasi\n",
      "dimana : mana\n",
      "diambil : ambil\n",
      "mengikuti : ikut\n"
     ]
    },
    {
     "name": "stdout",
     "output_type": "stream",
     "text": [
      "mawapres : mawapres\n",
      "orang : orang\n",
      "diterima : terima\n",
      "temuan : temu\n",
      "teridiri : teridiri\n",
      "faktor : faktor\n"
     ]
    },
    {
     "name": "stdout",
     "output_type": "stream",
     "text": [
      "relationship : relationship\n",
      "marketing : marketing\n",
      "keuntungan : untung\n",
      "komitmen : komitmen\n",
      "komunikasi : komunikasi\n",
      "kebenaran : benar\n",
      "loyalitas : loyalitas\n",
      "nasabah : nasabah\n",
      "adira : adira\n"
     ]
    },
    {
     "name": "stdout",
     "output_type": "stream",
     "text": [
      "finance : finance\n",
      "wilayah : wilayah\n",
      "surabaya : surabaya\n",
      "barat : barat\n",
      "negatif : negatif\n",
      "ulfiyatun : ulfiyatun\n"
     ]
    },
    {
     "name": "stdout",
     "output_type": "stream",
     "text": [
      "mutohharoh : mutohharoh\n",
      "faktorfaktor : faktorfaktor\n",
      "menentukan : tentu\n",
      "preferensi : preferensi\n",
      "belanja : belanja\n"
     ]
    },
    {
     "name": "stdout",
     "output_type": "stream",
     "text": [
      "online : online\n",
      "fashion : fashion\n",
      "mahasiwa : mahasiwa\n",
      "fakultas : fakultas\n",
      "ekonomi : ekonomi\n"
     ]
    },
    {
     "name": "stdout",
     "output_type": "stream",
     "text": [
      "journal : journal\n",
      "of : of\n",
      "economics : economics\n",
      "program : program\n",
      "manajemen : manajemen\n",
      "drs : drs\n"
     ]
    },
    {
     "name": "stdout",
     "output_type": "stream",
     "text": [
      "mohamad : mohamad\n",
      "tambrin : tambrin\n",
      "yustina : yustina\n"
     ]
    },
    {
     "name": "stdout",
     "output_type": "stream",
     "text": [
      "crismardani : crismardani\n",
      "ssi : ssi\n",
      "internet : internet\n",
      "sistem : sistem\n",
      "informasi : informasi\n",
      "global : global\n",
      "berbasis : bas\n",
      "komputer : komputer\n"
     ]
    },
    {
     "name": "stdout",
     "output_type": "stream",
     "text": [
      "perlahanlahan : perlahanlahan\n",
      "menggeser : geser\n",
      "budaya : budaya\n",
      "konvensional : konvensional\n",
      "praktis : praktis\n",
      "modern : modern\n",
      "berbelanja : belanja\n",
      "dirilis : rilis\n",
      "detikcom : detikcom\n",
      "dibeli : beli\n"
     ]
    },
    {
     "name": "stdout",
     "output_type": "stream",
     "text": [
      "dipertimbangkan : timbang\n"
     ]
    },
    {
     "name": "stdout",
     "output_type": "stream",
     "text": [
      "menetukan : menetukan\n",
      "berketergantungan : gantung\n",
      "interdependent : interdependent\n"
     ]
    },
    {
     "name": "stdout",
     "output_type": "stream",
     "text": [
      "variable : variable\n",
      "jenis : jenis\n",
      "deskriptif : deskriptif\n",
      "statistic : statistic\n",
      "konfirmatori : konfirmatori\n",
      "didapatkan"
     ]
    },
    {
     "name": "stdout",
     "output_type": "stream",
     "text": [
      " : dapat\n",
      "kmo : kmo\n",
      "item : item\n",
      "menghasilkan : hasil\n",
      "rendah : rendah\n",
      "klasifikasi : klasifikasi\n",
      "miserablenilai : miserablenilai\n",
      "statistik : statistik\n",
      "ukuran : ukur\n"
     ]
    },
    {
     "name": "stdout",
     "output_type": "stream",
     "text": [
      "kecukuperatan : kecukuperatan\n",
      "hubungan : hubung\n",
      "layak : layak\n",
      "harga : harga\n",
      "alternatif : alternatif\n",
      "atribut : atribut\n",
      "kepentingan : penting\n",
      "pengguna : guna\n",
      "sepeda : sepeda\n",
      "jembatan : jembatan\n",
      "suramadu : suramadu\n",
      "diagram : diagram\n"
     ]
    },
    {
     "name": "stdout",
     "output_type": "stream",
     "text": [
      "kartesius : kartesius\n",
      "importance : importance\n",
      "performance : performance\n",
      "enam : enam\n",
      "fokus : fokus\n",
      "utama : utama\n"
     ]
    },
    {
     "name": "stdout",
     "output_type": "stream",
     "text": [
      "ketidak : tidak\n",
      "puasan : puas\n",
      "lampu : lampu\n",
      "penerangan : terang\n",
      "terpasang : pasang\n",
      "menyala : nyala\n",
      "malam : malam\n",
      "petugas : tugas\n",
      "jasa : jasa\n",
      "marga : marga\n",
      "berpenampilan : tampil\n",
      "rapi : rapi\n",
      "kondisi : kondisi\n",
      "jalan : jalan\n",
      "mulus : mulus\n",
      "berlubang : lubang\n",
      "tiket : tiket\n",
      "teliti : teliti\n",
      "uang : uang\n",
      "kembalian : kembali\n",
      "pt : pt\n",
      "asuransi : asuransi\n",
      "kecelakaan : celaka\n",
      "patroli : patroli\n"
     ]
    },
    {
     "name": "stdout",
     "output_type": "stream",
     "text": [
      "sungguhsungguh : sungguhsungguh\n",
      "memperhatikan : perhati\n"
     ]
    },
    {
     "name": "stdout",
     "output_type": "stream",
     "text": [
      "mogokban : mogokban\n",
      "bocordll : bocordll\n"
     ]
    },
    {
     "name": "stdout",
     "output_type": "stream",
     "text": [
      "devi : devi\n"
     ]
    },
    {
     "name": "stdout",
     "output_type": "stream",
     "text": [
      "kurniawati : kurniawati\n",
      "earning : earning\n"
     ]
    },
    {
     "name": "stdout",
     "output_type": "stream",
     "text": [
      "share : share\n",
      "net : net\n",
      "profit : profit\n",
      "margin : margin\n",
      "debt : debt\n",
      "to : to\n",
      "asset : asset\n"
     ]
    },
    {
     "name": "stdout",
     "output_type": "stream",
     "text": [
      "return : return\n",
      "on : on\n",
      "equity : equity\n",
      "saham : saham\n",
      "perusahaan : usaha\n",
      "otomotif : otomotif\n",
      "komponennya : komponen\n",
      "terdaftar : daftar\n",
      "bei : bei\n",
      "periode : periode\n",
      "gatot : gatot\n"
     ]
    },
    {
     "name": "stdout",
     "output_type": "stream",
     "text": [
      "heru : heru\n",
      "prajoto : prajoto\n",
      "prasetyo : prasetyo\n"
     ]
    },
    {
     "name": "stdout",
     "output_type": "stream",
     "text": [
      "nugroho : nugroho\n",
      "spi : spi\n",
      "purposive : purposive\n",
      "instrumen : instrumen\n",
      "asumsi : asumsi\n",
      "klasik : klasik\n",
      "menguji : uji\n"
     ]
    },
    {
     "name": "stdout",
     "output_type": "stream",
     "text": [
      "square : square\n",
      "besarnya : besar\n",
      "positif : positif\n",
      "deterjen : deterjen\n",
      "rinso : rinso\n",
      "anti : anti\n",
      "noda : noda\n"
     ]
    },
    {
     "name": "stdout",
     "output_type": "stream",
     "text": [
      "adjusted : adjusted\n",
      "berdomisili : domisili\n",
      "desa : desa\n",
      "telang : telang\n",
      "stres : stres\n",
      "terhdap : terhdap\n",
      "disiplin : disiplin\n"
     ]
    },
    {
     "name": "stdout",
     "output_type": "stream",
     "text": [
      "stressor : stressor\n",
      "lingkungan : lingkung\n",
      "individu : individu\n",
      "kelompok : kelompok\n",
      "organisasi : organisasi\n",
      "katakunci : katakunci\n"
     ]
    },
    {
     "name": "stdout",
     "output_type": "stream",
     "text": [
      "penlitian : penlitian\n",
      "konsep : konsep\n",
      "aida : aida\n",
      "helm : helm\n",
      "ink : ink\n",
      "kota : kota\n",
      "berusaha : usaha\n",
      "pengumpulan : kumpul\n",
      "kepustakaan : pustaka\n",
      "skala : skala\n"
     ]
    },
    {
     "name": "stdout",
     "output_type": "stream",
     "text": [
      "likert : likert\n",
      "mengukur : ukur\n",
      "validitas : validitas\n",
      "reliabilitas : reliabilitas\n",
      "attention : attention\n"
     ]
    },
    {
     "name": "stdout",
     "output_type": "stream",
     "text": [
      "interest : interest\n",
      "desire : desire\n",
      "action : action\n"
     ]
    },
    {
     "name": "stdout",
     "output_type": "stream",
     "text": [
      "brand : brand\n",
      "image : image\n",
      "citra : citra\n",
      "flashdisk : flashdisk\n"
     ]
    },
    {
     "name": "stdout",
     "output_type": "stream",
     "text": [
      "toshiba : toshiba\n",
      "berlandaskan : landas\n",
      "filsafat : filsafat\n",
      "positivisme : positivisme\n",
      "ditetapkan : tetap\n",
      "utm : utm\n",
      "corporate : corporate\n"
     ]
    },
    {
     "name": "stdout",
     "output_type": "stream",
     "text": [
      "user : user\n",
      "product : product\n",
      "and : and\n"
     ]
    },
    {
     "name": "stdout",
     "output_type": "stream",
     "text": [
      "consumer : consumer\n",
      "purchasing : purchasing\n"
     ]
    },
    {
     "name": "stdout",
     "output_type": "stream",
     "text": [
      "decisions : decisions\n",
      "farid : farid\n",
      "periklanan : iklan\n",
      "media : media\n",
      "shampo : shampo\n"
     ]
    },
    {
     "name": "stdout",
     "output_type": "stream",
     "text": [
      "pantene : pantene\n",
      "dungkek : dungkek\n"
     ]
    },
    {
     "name": "stdout",
     "output_type": "stream",
     "text": [
      "sumenep : sumenep\n",
      "softwere : softwere\n"
     ]
    },
    {
     "name": "stdout",
     "output_type": "stream",
     "text": [
      "vareabel : vareabel\n",
      "shampoo : shampoo\n",
      "rakyat : rakyat\n",
      "persero : persero\n",
      "tbk : tbk\n",
      "cabang : cabang\n",
      "diajukan : aju\n",
      "disusun : susun\n"
     ]
    },
    {
     "name": "stdout",
     "output_type": "stream",
     "text": [
      "pelanggan : langgan\n",
      "bri : bri\n",
      "menggunaka : menggunaka\n",
      "systematic : systematic\n"
     ]
    },
    {
     "name": "stdout",
     "output_type": "stream",
     "text": [
      "random : random\n",
      "objek : objek\n",
      "pemilik : milik\n",
      "debit : debit\n",
      "britama : britama\n",
      "man : man\n"
     ]
    },
    {
     "name": "stdout",
     "output_type": "stream",
     "text": [
      "steel : steel\n",
      "bertempat : tempat\n",
      "tinggal : tinggal\n",
      "bersamasama : bersamasama\n",
      "meningkatkan : tingkat\n",
      "aspek : aspek\n",
      "menumbuhkan : tumbuh\n",
      "percaya : percaya\n",
      "hati : hati\n",
      "setia : setia\n",
      "service : service\n",
      "quality : quality\n"
     ]
    },
    {
     "name": "stdout",
     "output_type": "stream",
     "text": [
      "customer : customer\n",
      "satisfaction : satisfaction\n",
      "sikap : sikap\n",
      "pasta : pasta\n",
      "gigi : gigi\n",
      "pepsodent : pepsodent\n",
      "norma : norma\n",
      "subyektif : subyektif\n",
      "wawancara : wawancara\n"
     ]
    },
    {
     "name": "stdout",
     "output_type": "stream",
     "text": [
      "kuci : kuci\n",
      "subyekti : subyekti\n",
      "kecerdasan : cerdas\n",
      "emosional : emosional\n"
     ]
    },
    {
     "name": "stdout",
     "output_type": "stream",
     "text": [
      "burneh : burneh\n",
      "tanah : tanah\n",
      "merah : merah\n",
      "galis : galis\n"
     ]
    },
    {
     "name": "stdout",
     "output_type": "stream",
     "text": [
      "blega : blega\n",
      "memilki : memilki\n"
     ]
    },
    {
     "name": "stdout",
     "output_type": "stream",
     "text": [
      "memahami : paham\n",
      "menciptakan : cipta\n",
      "suasana : suasana\n",
      "nyaman : nyaman\n",
      "diharapkan : harap\n",
      "peningkatan : tingkat\n",
      "kerjanya : kerja\n",
      "meneliti : teliti\n",
      "intrapersonal : intrapersonal\n"
     ]
    },
    {
     "name": "stdout",
     "output_type": "stream",
     "text": [
      "interpersonal : interpersonal\n",
      "membuktikan : bukti\n",
      "linear : linear\n",
      "bantuan : bantu\n",
      "kuncikecerdasan : kuncikecerdasan\n",
      "rasio : rasio\n",
      "profitabilitas : profitabilitas\n"
     ]
    },
    {
     "name": "stdout",
     "output_type": "stream",
     "text": [
      "industry : industry\n",
      "makanan : makan\n",
      "minuman : minum\n",
      "masingmasing : masingmasing\n",
      "npm : npm\n",
      "roa : roa\n",
      "investment : investment\n",
      "roi : roi\n",
      "roe : roe\n",
      "eps : eps\n"
     ]
    },
    {
     "name": "stdout",
     "output_type": "stream",
     "text": [
      "dividend : dividend\n",
      "payout : payout\n",
      "dpr : dpr\n",
      "industri : industri\n",
      "bursa : bursa\n",
      "efek : efek\n",
      "persial : sial\n",
      "retun : retun\n",
      "dilaksanakan : laksana\n"
     ]
    },
    {
     "name": "stdout",
     "output_type": "stream",
     "text": [
      "menyebarkan : sebar\n"
     ]
    },
    {
     "name": "stdout",
     "output_type": "stream",
     "text": [
      "klasiksedangkan : klasiksedangkan\n",
      "keunggulan : unggul\n",
      "asosiasi : asosiasi\n",
      "kekuatan : kuat\n",
      "keunikan : uni\n",
      "minat : minat\n",
      "beli : beli\n",
      "jamu : jamu\n",
      "tolak : tolak\n",
      "angin : angin\n",
      "sido : sido\n",
      "muncul : muncul\n",
      "pasar : pasar\n",
      "manyar : manyar\n"
     ]
    },
    {
     "name": "stdout",
     "output_type": "stream",
     "text": [
      "respondenteknik : respondenteknik\n",
      "respondenuntuk : respondenuntuk\n",
      "bauran : baur\n",
      "pemasaran : pasar\n",
      "distribusi : distribusi\n",
      "promosi : promosi\n",
      "petis : petis\n",
      "ikan : ikan\n",
      "tuna : tuna\n"
     ]
    },
    {
     "name": "stdout",
     "output_type": "stream",
     "text": [
      "hdiya : hdiya\n",
      "kelurahan : lurah\n",
      "banyuanyar : banyuanyar\n",
      "kosumen : kosumen\n"
     ]
    },
    {
     "name": "stdout",
     "output_type": "stream",
     "text": [
      "meguji : meguji\n",
      "berdasar : dasar\n",
      "model : model\n",
      "sistematis : sistematis\n"
     ]
    },
    {
     "name": "stdout",
     "output_type": "stream",
     "text": [
      "ditribusi : ditribusi\n",
      "unsur : unsur\n",
      "pengirim : kirim\n",
      "komunikator : komunikator\n",
      "penerima : terima\n",
      "komunikan : komunikan\n",
      "umpan : umpan\n",
      "produktifitas : produktifitas\n",
      "negeri : negeri\n",
      "sipil : sipil\n",
      "dinas : dinas\n",
      "pendidikian : kian\n"
     ]
    },
    {
     "name": "stdout",
     "output_type": "stream",
     "text": [
      "pendidikan : didik\n",
      "proporsional : proporsional\n",
      "membagikan : bagi\n",
      "riset : riset\n",
      "perpustakaan : pustaka\n",
      "pengolahan : olah\n",
      "perangkat : perangkat\n",
      "lunak : lunak\n",
      "reabilitas : reabilitas\n",
      "menerangkan : terang\n",
      "dimasukkan : masuk\n"
     ]
    },
    {
     "name": "stdout",
     "output_type": "stream",
     "text": [
      "varibel : varibel\n",
      "kominkator : kominkator\n"
     ]
    },
    {
     "name": "stdout",
     "output_type": "stream",
     "text": [
      "sigifikan : sigifikan\n",
      "peranan : peran\n",
      "upaya : upaya\n",
      "produktivitas : produktivitas\n",
      "penyedap : sedap\n",
      "masako : masako\n",
      "populasinya : populasi\n"
     ]
    },
    {
     "name": "stdout",
     "output_type": "stream",
     "text": [
      "ibuibu : ibuibu\n",
      "robatal : robatal\n",
      "membeli : beli\n",
      "mengkonsumsi : konsumsi\n",
      "kemasan : kemas\n",
      "pelabelan : label\n",
      "layanan : layan\n",
      "pelengkap : lengkap\n",
      "simpulan : simpul\n",
      "terikatnya : ikat\n",
      "susu : susu\n",
      "cair : cair\n"
     ]
    },
    {
     "name": "stdout",
     "output_type": "stream",
     "text": [
      "indomilk : indomilk\n",
      "swalayan : swalayan\n",
      "tom : tom\n",
      "jerry : jerry\n",
      "mix : mix\n",
      "rokok : rokok\n"
     ]
    },
    {
     "name": "stdout",
     "output_type": "stream",
     "text": [
      "mild : mild\n",
      "socah : socah\n",
      "segi : segi\n",
      "menjalani : jalan\n",
      "pekerjaan : kerja\n",
      "mencampur : campur\n",
      "adukkan : aduk\n",
      "permasalahan : masalah\n",
      "dirumah : rumah\n",
      "rumah : rumah\n",
      "tangga : tangga\n",
      "membawa : bawa\n",
      "kedalam"
     ]
    },
    {
     "name": "stdout",
     "output_type": "stream",
     "text": [
      " : dalam\n",
      "keluarga : keluarga\n",
      "sulit : sulit\n",
      "penuh : penuh\n",
      "beban : beban\n",
      "berat : berat\n",
      "berdampak : dampak\n",
      "pekerjaannya : kerja\n",
      "tugas : tugas\n",
      "dilakukannya : laku\n",
      "pelatihan : latih\n",
      "jangka : jangka\n",
      "lembur : lembur\n",
      "konflik : konflik\n",
      "peran : peran\n",
      "ganda : ganda\n",
      "pekerjaankeluarga : pekerjaankeluarga\n",
      "keluargapekerjaan : keluargapekerjaan\n",
      "perawat : awat\n",
      "wanita : wanita\n",
      "rs : rs\n"
     ]
    },
    {
     "name": "stdout",
     "output_type": "stream",
     "text": [
      "syamrabu : syamrabu\n",
      "purpossive : purpossive\n",
      "kinerjanya : kerja\n",
      "salah : salah\n",
      "langkah : langkah\n",
      "diperhatikan : perhati\n",
      "bergerak : gerak\n",
      "bidang : bidang\n",
      "produksi : produksi\n",
      "barang : barang\n"
     ]
    },
    {
     "name": "stdout",
     "output_type": "stream",
     "text": [
      "kopontren : kopontren\n",
      "sidogiri : sidogiri\n",
      "bisnis : bisnis\n",
      "eceran : ecer\n",
      "jual : jual\n",
      "mengambil"
     ]
    },
    {
     "name": "stdout",
     "output_type": "stream",
     "text": [
      " : ambil\n",
      "pemebelian : beli\n",
      "elemenelemen : elemenelemen\n",
      "ekuitas : ekuitas\n",
      "kesadaran : sadar\n"
     ]
    },
    {
     "name": "stdout",
     "output_type": "stream",
     "text": [
      "awareness : awareness\n",
      "assocations : assocations\n",
      "kesan : kesan\n",
      "perceived : perceived\n"
     ]
    },
    {
     "name": "stdout",
     "output_type": "stream",
     "text": [
      "loyalty : loyalty\n",
      "handphone : handphone\n",
      "blackberry : blackberry\n"
     ]
    },
    {
     "name": "stdout",
     "output_type": "stream",
     "text": [
      "madurateknik : madurateknik\n",
      "maduravariabel : maduravariabel\n",
      "kemampuan : mampu\n",
      "es : es\n",
      "krim : krim\n",
      "walls : walls\n"
     ]
    },
    {
     "name": "stdout",
     "output_type": "stream",
     "text": [
      "diolah : olah\n",
      "datanya : data\n",
      "martabak : martabak\n",
      "hawaii : hawaii\n",
      "strategi : strategi\n"
     ]
    },
    {
     "name": "stdout",
     "output_type": "stream",
     "text": [
      "positioning : positioning\n",
      "ciri : ciri\n",
      "penggunaan : guna\n",
      "nokia : nokia\n"
     ]
    },
    {
     "ename": "KeyboardInterrupt",
     "evalue": "",
     "output_type": "error",
     "traceback": [
      "\u001b[1;31m---------------------------------------------------------------------------\u001b[0m",
      "\u001b[1;31mKeyboardInterrupt\u001b[0m                         Traceback (most recent call last)",
      "\u001b[1;32m~\\AppData\\Local\\Temp/ipykernel_27256/3698220956.py\u001b[0m in \u001b[0;36m<module>\u001b[1;34m\u001b[0m\n\u001b[0;32m     23\u001b[0m \u001b[1;33m\u001b[0m\u001b[0m\n\u001b[0;32m     24\u001b[0m \u001b[1;32mfor\u001b[0m \u001b[0mterm\u001b[0m \u001b[1;32min\u001b[0m \u001b[0mterm_dict\u001b[0m\u001b[1;33m:\u001b[0m\u001b[1;33m\u001b[0m\u001b[1;33m\u001b[0m\u001b[0m\n\u001b[1;32m---> 25\u001b[1;33m     \u001b[0mterm_dict\u001b[0m\u001b[1;33m[\u001b[0m\u001b[0mterm\u001b[0m\u001b[1;33m]\u001b[0m \u001b[1;33m=\u001b[0m \u001b[0mstemmed_wrapper\u001b[0m\u001b[1;33m(\u001b[0m\u001b[0mterm\u001b[0m\u001b[1;33m)\u001b[0m\u001b[1;33m\u001b[0m\u001b[1;33m\u001b[0m\u001b[0m\n\u001b[0m\u001b[0;32m     26\u001b[0m     \u001b[0mprint\u001b[0m\u001b[1;33m(\u001b[0m\u001b[0mterm\u001b[0m\u001b[1;33m,\u001b[0m\u001b[1;34m\":\"\u001b[0m \u001b[1;33m,\u001b[0m\u001b[0mterm_dict\u001b[0m\u001b[1;33m[\u001b[0m\u001b[0mterm\u001b[0m\u001b[1;33m]\u001b[0m\u001b[1;33m)\u001b[0m\u001b[1;33m\u001b[0m\u001b[1;33m\u001b[0m\u001b[0m\n\u001b[0;32m     27\u001b[0m \u001b[1;33m\u001b[0m\u001b[0m\n",
      "\u001b[1;32m~\\AppData\\Local\\Temp/ipykernel_27256/3698220956.py\u001b[0m in \u001b[0;36mstemmed_wrapper\u001b[1;34m(term)\u001b[0m\n\u001b[0;32m     10\u001b[0m \u001b[1;31m# sfungsi stemmer\u001b[0m\u001b[1;33m\u001b[0m\u001b[1;33m\u001b[0m\u001b[0m\n\u001b[0;32m     11\u001b[0m \u001b[1;32mdef\u001b[0m \u001b[0mstemmed_wrapper\u001b[0m\u001b[1;33m(\u001b[0m\u001b[0mterm\u001b[0m\u001b[1;33m)\u001b[0m\u001b[1;33m:\u001b[0m\u001b[1;33m\u001b[0m\u001b[1;33m\u001b[0m\u001b[0m\n\u001b[1;32m---> 12\u001b[1;33m     \u001b[1;32mreturn\u001b[0m \u001b[0mstemmer\u001b[0m\u001b[1;33m.\u001b[0m\u001b[0mstem\u001b[0m\u001b[1;33m(\u001b[0m\u001b[0mterm\u001b[0m\u001b[1;33m)\u001b[0m\u001b[1;33m\u001b[0m\u001b[1;33m\u001b[0m\u001b[0m\n\u001b[0m\u001b[0;32m     13\u001b[0m \u001b[1;33m\u001b[0m\u001b[0m\n\u001b[0;32m     14\u001b[0m \u001b[0mterm_dict\u001b[0m \u001b[1;33m=\u001b[0m \u001b[1;33m{\u001b[0m\u001b[1;33m}\u001b[0m\u001b[1;33m\u001b[0m\u001b[1;33m\u001b[0m\u001b[0m\n",
      "\u001b[1;32m~\\AppData\\Local\\Programs\\Python\\Python39\\lib\\site-packages\\Sastrawi\\Stemmer\\CachedStemmer.py\u001b[0m in \u001b[0;36mstem\u001b[1;34m(self, text)\u001b[0m\n\u001b[0;32m     18\u001b[0m                 \u001b[0mstems\u001b[0m\u001b[1;33m.\u001b[0m\u001b[0mappend\u001b[0m\u001b[1;33m(\u001b[0m\u001b[0mself\u001b[0m\u001b[1;33m.\u001b[0m\u001b[0mcache\u001b[0m\u001b[1;33m.\u001b[0m\u001b[0mget\u001b[0m\u001b[1;33m(\u001b[0m\u001b[0mword\u001b[0m\u001b[1;33m)\u001b[0m\u001b[1;33m)\u001b[0m\u001b[1;33m\u001b[0m\u001b[1;33m\u001b[0m\u001b[0m\n\u001b[0;32m     19\u001b[0m             \u001b[1;32melse\u001b[0m\u001b[1;33m:\u001b[0m\u001b[1;33m\u001b[0m\u001b[1;33m\u001b[0m\u001b[0m\n\u001b[1;32m---> 20\u001b[1;33m                 \u001b[0mstem\u001b[0m \u001b[1;33m=\u001b[0m \u001b[0mself\u001b[0m\u001b[1;33m.\u001b[0m\u001b[0mdelegatedStemmer\u001b[0m\u001b[1;33m.\u001b[0m\u001b[0mstem\u001b[0m\u001b[1;33m(\u001b[0m\u001b[0mword\u001b[0m\u001b[1;33m)\u001b[0m\u001b[1;33m\u001b[0m\u001b[1;33m\u001b[0m\u001b[0m\n\u001b[0m\u001b[0;32m     21\u001b[0m                 \u001b[0mself\u001b[0m\u001b[1;33m.\u001b[0m\u001b[0mcache\u001b[0m\u001b[1;33m.\u001b[0m\u001b[0mset\u001b[0m\u001b[1;33m(\u001b[0m\u001b[0mword\u001b[0m\u001b[1;33m,\u001b[0m \u001b[0mstem\u001b[0m\u001b[1;33m)\u001b[0m\u001b[1;33m\u001b[0m\u001b[1;33m\u001b[0m\u001b[0m\n\u001b[0;32m     22\u001b[0m                 \u001b[0mstems\u001b[0m\u001b[1;33m.\u001b[0m\u001b[0mappend\u001b[0m\u001b[1;33m(\u001b[0m\u001b[0mstem\u001b[0m\u001b[1;33m)\u001b[0m\u001b[1;33m\u001b[0m\u001b[1;33m\u001b[0m\u001b[0m\n",
      "\u001b[1;32m~\\AppData\\Local\\Programs\\Python\\Python39\\lib\\site-packages\\Sastrawi\\Stemmer\\Stemmer.py\u001b[0m in \u001b[0;36mstem\u001b[1;34m(self, text)\u001b[0m\n\u001b[0;32m     25\u001b[0m \u001b[1;33m\u001b[0m\u001b[0m\n\u001b[0;32m     26\u001b[0m         \u001b[1;32mfor\u001b[0m \u001b[0mword\u001b[0m \u001b[1;32min\u001b[0m \u001b[0mwords\u001b[0m\u001b[1;33m:\u001b[0m\u001b[1;33m\u001b[0m\u001b[1;33m\u001b[0m\u001b[0m\n\u001b[1;32m---> 27\u001b[1;33m             \u001b[0mstems\u001b[0m\u001b[1;33m.\u001b[0m\u001b[0mappend\u001b[0m\u001b[1;33m(\u001b[0m\u001b[0mself\u001b[0m\u001b[1;33m.\u001b[0m\u001b[0mstem_word\u001b[0m\u001b[1;33m(\u001b[0m\u001b[0mword\u001b[0m\u001b[1;33m)\u001b[0m\u001b[1;33m)\u001b[0m\u001b[1;33m\u001b[0m\u001b[1;33m\u001b[0m\u001b[0m\n\u001b[0m\u001b[0;32m     28\u001b[0m \u001b[1;33m\u001b[0m\u001b[0m\n\u001b[0;32m     29\u001b[0m         \u001b[1;32mreturn\u001b[0m \u001b[1;34m' '\u001b[0m\u001b[1;33m.\u001b[0m\u001b[0mjoin\u001b[0m\u001b[1;33m(\u001b[0m\u001b[0mstems\u001b[0m\u001b[1;33m)\u001b[0m\u001b[1;33m\u001b[0m\u001b[1;33m\u001b[0m\u001b[0m\n",
      "\u001b[1;32m~\\AppData\\Local\\Programs\\Python\\Python39\\lib\\site-packages\\Sastrawi\\Stemmer\\Stemmer.py\u001b[0m in \u001b[0;36mstem_word\u001b[1;34m(self, word)\u001b[0m\n\u001b[0;32m     34\u001b[0m             \u001b[1;32mreturn\u001b[0m \u001b[0mself\u001b[0m\u001b[1;33m.\u001b[0m\u001b[0mstem_plural_word\u001b[0m\u001b[1;33m(\u001b[0m\u001b[0mword\u001b[0m\u001b[1;33m)\u001b[0m\u001b[1;33m\u001b[0m\u001b[1;33m\u001b[0m\u001b[0m\n\u001b[0;32m     35\u001b[0m         \u001b[1;32melse\u001b[0m\u001b[1;33m:\u001b[0m\u001b[1;33m\u001b[0m\u001b[1;33m\u001b[0m\u001b[0m\n\u001b[1;32m---> 36\u001b[1;33m             \u001b[1;32mreturn\u001b[0m \u001b[0mself\u001b[0m\u001b[1;33m.\u001b[0m\u001b[0mstem_singular_word\u001b[0m\u001b[1;33m(\u001b[0m\u001b[0mword\u001b[0m\u001b[1;33m)\u001b[0m\u001b[1;33m\u001b[0m\u001b[1;33m\u001b[0m\u001b[0m\n\u001b[0m\u001b[0;32m     37\u001b[0m \u001b[1;33m\u001b[0m\u001b[0m\n\u001b[0;32m     38\u001b[0m     \u001b[1;32mdef\u001b[0m \u001b[0mis_plural\u001b[0m\u001b[1;33m(\u001b[0m\u001b[0mself\u001b[0m\u001b[1;33m,\u001b[0m \u001b[0mword\u001b[0m\u001b[1;33m)\u001b[0m\u001b[1;33m:\u001b[0m\u001b[1;33m\u001b[0m\u001b[1;33m\u001b[0m\u001b[0m\n",
      "\u001b[1;32m~\\AppData\\Local\\Programs\\Python\\Python39\\lib\\site-packages\\Sastrawi\\Stemmer\\Stemmer.py\u001b[0m in \u001b[0;36mstem_singular_word\u001b[1;34m(self, word)\u001b[0m\n\u001b[0;32m     82\u001b[0m         \u001b[1;34m\"\"\"Stem a singular word to its common stem form.\"\"\"\u001b[0m\u001b[1;33m\u001b[0m\u001b[1;33m\u001b[0m\u001b[0m\n\u001b[0;32m     83\u001b[0m         \u001b[0mcontext\u001b[0m \u001b[1;33m=\u001b[0m \u001b[0mContext\u001b[0m\u001b[1;33m(\u001b[0m\u001b[0mword\u001b[0m\u001b[1;33m,\u001b[0m \u001b[0mself\u001b[0m\u001b[1;33m.\u001b[0m\u001b[0mdictionary\u001b[0m\u001b[1;33m,\u001b[0m \u001b[0mself\u001b[0m\u001b[1;33m.\u001b[0m\u001b[0mvisitor_provider\u001b[0m\u001b[1;33m)\u001b[0m\u001b[1;33m\u001b[0m\u001b[1;33m\u001b[0m\u001b[0m\n\u001b[1;32m---> 84\u001b[1;33m         \u001b[0mcontext\u001b[0m\u001b[1;33m.\u001b[0m\u001b[0mexecute\u001b[0m\u001b[1;33m(\u001b[0m\u001b[1;33m)\u001b[0m\u001b[1;33m\u001b[0m\u001b[1;33m\u001b[0m\u001b[0m\n\u001b[0m\u001b[0;32m     85\u001b[0m \u001b[1;33m\u001b[0m\u001b[0m\n\u001b[0;32m     86\u001b[0m         \u001b[1;32mreturn\u001b[0m \u001b[0mcontext\u001b[0m\u001b[1;33m.\u001b[0m\u001b[0mresult\u001b[0m\u001b[1;33m\u001b[0m\u001b[1;33m\u001b[0m\u001b[0m\n",
      "\u001b[1;32m~\\AppData\\Local\\Programs\\Python\\Python39\\lib\\site-packages\\Sastrawi\\Stemmer\\Context\\Context.py\u001b[0m in \u001b[0;36mexecute\u001b[1;34m(self)\u001b[0m\n\u001b[0;32m     35\u001b[0m \u001b[1;33m\u001b[0m\u001b[0m\n\u001b[0;32m     36\u001b[0m         \u001b[1;31m#step 1 - 5\u001b[0m\u001b[1;33m\u001b[0m\u001b[1;33m\u001b[0m\u001b[0m\n\u001b[1;32m---> 37\u001b[1;33m         \u001b[0mself\u001b[0m\u001b[1;33m.\u001b[0m\u001b[0mstart_stemming_process\u001b[0m\u001b[1;33m(\u001b[0m\u001b[1;33m)\u001b[0m\u001b[1;33m\u001b[0m\u001b[1;33m\u001b[0m\u001b[0m\n\u001b[0m\u001b[0;32m     38\u001b[0m \u001b[1;33m\u001b[0m\u001b[0m\n\u001b[0;32m     39\u001b[0m         \u001b[1;31m#step 6\u001b[0m\u001b[1;33m\u001b[0m\u001b[1;33m\u001b[0m\u001b[0m\n",
      "\u001b[1;32m~\\AppData\\Local\\Programs\\Python\\Python39\\lib\\site-packages\\Sastrawi\\Stemmer\\Context\\Context.py\u001b[0m in \u001b[0;36mstart_stemming_process\u001b[1;34m(self)\u001b[0m\n\u001b[0;32m     78\u001b[0m \u001b[1;33m\u001b[0m\u001b[0m\n\u001b[0;32m     79\u001b[0m         \u001b[1;31m#step 4, 5\u001b[0m\u001b[1;33m\u001b[0m\u001b[1;33m\u001b[0m\u001b[0m\n\u001b[1;32m---> 80\u001b[1;33m         \u001b[0mself\u001b[0m\u001b[1;33m.\u001b[0m\u001b[0mremove_prefixes\u001b[0m\u001b[1;33m(\u001b[0m\u001b[1;33m)\u001b[0m\u001b[1;33m\u001b[0m\u001b[1;33m\u001b[0m\u001b[0m\n\u001b[0m\u001b[0;32m     81\u001b[0m         \u001b[1;32mif\u001b[0m \u001b[0mself\u001b[0m\u001b[1;33m.\u001b[0m\u001b[0mdictionary\u001b[0m\u001b[1;33m.\u001b[0m\u001b[0mcontains\u001b[0m\u001b[1;33m(\u001b[0m\u001b[0mself\u001b[0m\u001b[1;33m.\u001b[0m\u001b[0mcurrent_word\u001b[0m\u001b[1;33m)\u001b[0m\u001b[1;33m:\u001b[0m\u001b[1;33m\u001b[0m\u001b[1;33m\u001b[0m\u001b[0m\n\u001b[0;32m     82\u001b[0m             \u001b[1;32mreturn\u001b[0m\u001b[1;33m\u001b[0m\u001b[1;33m\u001b[0m\u001b[0m\n",
      "\u001b[1;32m~\\AppData\\Local\\Programs\\Python\\Python39\\lib\\site-packages\\Sastrawi\\Stemmer\\Context\\Context.py\u001b[0m in \u001b[0;36mremove_prefixes\u001b[1;34m(self)\u001b[0m\n\u001b[0;32m     87\u001b[0m     \u001b[1;32mdef\u001b[0m \u001b[0mremove_prefixes\u001b[0m\u001b[1;33m(\u001b[0m\u001b[0mself\u001b[0m\u001b[1;33m)\u001b[0m\u001b[1;33m:\u001b[0m\u001b[1;33m\u001b[0m\u001b[1;33m\u001b[0m\u001b[0m\n\u001b[0;32m     88\u001b[0m         \u001b[1;32mfor\u001b[0m \u001b[0mi\u001b[0m \u001b[1;32min\u001b[0m \u001b[0mrange\u001b[0m\u001b[1;33m(\u001b[0m\u001b[1;36m3\u001b[0m\u001b[1;33m)\u001b[0m\u001b[1;33m:\u001b[0m\u001b[1;33m\u001b[0m\u001b[1;33m\u001b[0m\u001b[0m\n\u001b[1;32m---> 89\u001b[1;33m             \u001b[0mself\u001b[0m\u001b[1;33m.\u001b[0m\u001b[0maccept_prefix_visitors\u001b[0m\u001b[1;33m(\u001b[0m\u001b[0mself\u001b[0m\u001b[1;33m.\u001b[0m\u001b[0mprefix_pisitors\u001b[0m\u001b[1;33m)\u001b[0m\u001b[1;33m\u001b[0m\u001b[1;33m\u001b[0m\u001b[0m\n\u001b[0m\u001b[0;32m     90\u001b[0m             \u001b[1;32mif\u001b[0m \u001b[0mself\u001b[0m\u001b[1;33m.\u001b[0m\u001b[0mdictionary\u001b[0m\u001b[1;33m.\u001b[0m\u001b[0mcontains\u001b[0m\u001b[1;33m(\u001b[0m\u001b[0mself\u001b[0m\u001b[1;33m.\u001b[0m\u001b[0mcurrent_word\u001b[0m\u001b[1;33m)\u001b[0m\u001b[1;33m:\u001b[0m\u001b[1;33m\u001b[0m\u001b[1;33m\u001b[0m\u001b[0m\n\u001b[0;32m     91\u001b[0m                 \u001b[1;32mreturn\u001b[0m\u001b[1;33m\u001b[0m\u001b[1;33m\u001b[0m\u001b[0m\n",
      "\u001b[1;32m~\\AppData\\Local\\Programs\\Python\\Python39\\lib\\site-packages\\Sastrawi\\Stemmer\\Context\\Context.py\u001b[0m in \u001b[0;36maccept_prefix_visitors\u001b[1;34m(self, visitors)\u001b[0m\n\u001b[0;32m    108\u001b[0m         \u001b[0mremovalCount\u001b[0m \u001b[1;33m=\u001b[0m \u001b[0mlen\u001b[0m\u001b[1;33m(\u001b[0m\u001b[0mself\u001b[0m\u001b[1;33m.\u001b[0m\u001b[0mremovals\u001b[0m\u001b[1;33m)\u001b[0m\u001b[1;33m\u001b[0m\u001b[1;33m\u001b[0m\u001b[0m\n\u001b[0;32m    109\u001b[0m         \u001b[1;32mfor\u001b[0m \u001b[0mvisitor\u001b[0m \u001b[1;32min\u001b[0m \u001b[0mvisitors\u001b[0m\u001b[1;33m:\u001b[0m\u001b[1;33m\u001b[0m\u001b[1;33m\u001b[0m\u001b[0m\n\u001b[1;32m--> 110\u001b[1;33m             \u001b[0mself\u001b[0m\u001b[1;33m.\u001b[0m\u001b[0maccept\u001b[0m\u001b[1;33m(\u001b[0m\u001b[0mvisitor\u001b[0m\u001b[1;33m)\u001b[0m\u001b[1;33m\u001b[0m\u001b[1;33m\u001b[0m\u001b[0m\n\u001b[0m\u001b[0;32m    111\u001b[0m             \u001b[1;32mif\u001b[0m \u001b[0mself\u001b[0m\u001b[1;33m.\u001b[0m\u001b[0mdictionary\u001b[0m\u001b[1;33m.\u001b[0m\u001b[0mcontains\u001b[0m\u001b[1;33m(\u001b[0m\u001b[0mself\u001b[0m\u001b[1;33m.\u001b[0m\u001b[0mcurrent_word\u001b[0m\u001b[1;33m)\u001b[0m\u001b[1;33m:\u001b[0m\u001b[1;33m\u001b[0m\u001b[1;33m\u001b[0m\u001b[0m\n\u001b[0;32m    112\u001b[0m                 \u001b[1;32mreturn\u001b[0m \u001b[0mself\u001b[0m\u001b[1;33m.\u001b[0m\u001b[0mcurrent_word\u001b[0m\u001b[1;33m\u001b[0m\u001b[1;33m\u001b[0m\u001b[0m\n",
      "\u001b[1;32m~\\AppData\\Local\\Programs\\Python\\Python39\\lib\\site-packages\\Sastrawi\\Stemmer\\Context\\Context.py\u001b[0m in \u001b[0;36maccept\u001b[1;34m(self, visitor)\u001b[0m\n\u001b[0;32m     95\u001b[0m \u001b[1;33m\u001b[0m\u001b[0m\n\u001b[0;32m     96\u001b[0m     \u001b[1;32mdef\u001b[0m \u001b[0maccept\u001b[0m\u001b[1;33m(\u001b[0m\u001b[0mself\u001b[0m\u001b[1;33m,\u001b[0m \u001b[0mvisitor\u001b[0m\u001b[1;33m)\u001b[0m\u001b[1;33m:\u001b[0m\u001b[1;33m\u001b[0m\u001b[1;33m\u001b[0m\u001b[0m\n\u001b[1;32m---> 97\u001b[1;33m         \u001b[0mvisitor\u001b[0m\u001b[1;33m.\u001b[0m\u001b[0mvisit\u001b[0m\u001b[1;33m(\u001b[0m\u001b[0mself\u001b[0m\u001b[1;33m)\u001b[0m\u001b[1;33m\u001b[0m\u001b[1;33m\u001b[0m\u001b[0m\n\u001b[0m\u001b[0;32m     98\u001b[0m \u001b[1;33m\u001b[0m\u001b[0m\n\u001b[0;32m     99\u001b[0m     \u001b[1;32mdef\u001b[0m \u001b[0maccept_visitors\u001b[0m\u001b[1;33m(\u001b[0m\u001b[0mself\u001b[0m\u001b[1;33m,\u001b[0m \u001b[0mvisitors\u001b[0m\u001b[1;33m)\u001b[0m\u001b[1;33m:\u001b[0m\u001b[1;33m\u001b[0m\u001b[1;33m\u001b[0m\u001b[0m\n",
      "\u001b[1;32m~\\AppData\\Local\\Programs\\Python\\Python39\\lib\\site-packages\\Sastrawi\\Stemmer\\Context\\Visitor\\AbstractDisambiguatePrefixRule.py\u001b[0m in \u001b[0;36mvisit\u001b[1;34m(self, context)\u001b[0m\n\u001b[0;32m     11\u001b[0m         \u001b[0mresult\u001b[0m \u001b[1;33m=\u001b[0m \u001b[1;32mNone\u001b[0m\u001b[1;33m\u001b[0m\u001b[1;33m\u001b[0m\u001b[0m\n\u001b[0;32m     12\u001b[0m \u001b[1;33m\u001b[0m\u001b[0m\n\u001b[1;32m---> 13\u001b[1;33m         \u001b[1;32mfor\u001b[0m \u001b[0mdisambiguator\u001b[0m \u001b[1;32min\u001b[0m \u001b[0mself\u001b[0m\u001b[1;33m.\u001b[0m\u001b[0mdisambiguators\u001b[0m\u001b[1;33m:\u001b[0m\u001b[1;33m\u001b[0m\u001b[1;33m\u001b[0m\u001b[0m\n\u001b[0m\u001b[0;32m     14\u001b[0m             \u001b[0mresult\u001b[0m \u001b[1;33m=\u001b[0m \u001b[0mdisambiguator\u001b[0m\u001b[1;33m.\u001b[0m\u001b[0mdisambiguate\u001b[0m\u001b[1;33m(\u001b[0m\u001b[0mcontext\u001b[0m\u001b[1;33m.\u001b[0m\u001b[0mcurrent_word\u001b[0m\u001b[1;33m)\u001b[0m\u001b[1;33m\u001b[0m\u001b[1;33m\u001b[0m\u001b[0m\n\u001b[0;32m     15\u001b[0m             \u001b[1;32mif\u001b[0m \u001b[0mcontext\u001b[0m\u001b[1;33m.\u001b[0m\u001b[0mdictionary\u001b[0m\u001b[1;33m.\u001b[0m\u001b[0mcontains\u001b[0m\u001b[1;33m(\u001b[0m\u001b[0mresult\u001b[0m\u001b[1;33m)\u001b[0m\u001b[1;33m:\u001b[0m\u001b[1;33m\u001b[0m\u001b[1;33m\u001b[0m\u001b[0m\n",
      "\u001b[1;31mKeyboardInterrupt\u001b[0m: "
     ]
    }
   ],
   "source": [
    "# import Sastrawi package\n",
    "from Sastrawi.Stemmer.StemmerFactory import StemmerFactory\n",
    "import swifter\n",
    "\n",
    "\n",
    "# membuat stemmer\n",
    "factory = StemmerFactory()\n",
    "stemmer = factory.create_stemmer()\n",
    "\n",
    "# sfungsi stemmer\n",
    "def stemmed_wrapper(term):\n",
    "    return stemmer.stem(term)\n",
    "\n",
    "term_dict = {}\n",
    "\n",
    "for document in dataPTA['abstrak_stop']:\n",
    "    for term in document:\n",
    "        if term not in term_dict:\n",
    "            term_dict[term] = ' '\n",
    "            \n",
    "print(len(term_dict))\n",
    "print(\"------------------------\")\n",
    "\n",
    "for term in term_dict:\n",
    "    term_dict[term] = stemmed_wrapper(term)\n",
    "    print(term,\":\" ,term_dict[term])\n",
    "    \n",
    "print(term_dict)\n",
    "print(\"------------------------\")\n",
    "\n",
    "\n",
    "# stemming pada dataframe\n",
    "def get_stemmed_term(document):\n",
    "    return [term_dict[term] for term in document]\n",
    "\n",
    "dataPTA['abstrak_stem'] = dataPTA['abstrak_stop'].swifter.apply(get_stemmed_term)\n",
    "print(dataPTA['abstrak_stem'])"
   ]
  },
  {
   "cell_type": "code",
   "execution_count": 9,
   "id": "530878cc",
   "metadata": {},
   "outputs": [
    {
     "data": {
      "text/html": [
       "<div>\n",
       "<style scoped>\n",
       "    .dataframe tbody tr th:only-of-type {\n",
       "        vertical-align: middle;\n",
       "    }\n",
       "\n",
       "    .dataframe tbody tr th {\n",
       "        vertical-align: top;\n",
       "    }\n",
       "\n",
       "    .dataframe thead th {\n",
       "        text-align: right;\n",
       "    }\n",
       "</style>\n",
       "<table border=\"1\" class=\"dataframe\">\n",
       "  <thead>\n",
       "    <tr style=\"text-align: right;\">\n",
       "      <th></th>\n",
       "      <th>Judul</th>\n",
       "      <th>Penulis</th>\n",
       "      <th>Dosen 1</th>\n",
       "      <th>Dosen 2</th>\n",
       "      <th>Abstrak</th>\n",
       "      <th>abstrak_token</th>\n",
       "      <th>abstrak_stop</th>\n",
       "      <th>abstrak_stem</th>\n",
       "    </tr>\n",
       "  </thead>\n",
       "  <tbody>\n",
       "    <tr>\n",
       "      <th>0</th>\n",
       "      <td>ANALISIS TINGKAT RISIKO KREDIT \\r\\nPADA PD. BP...</td>\n",
       "      <td>Penulis : Iwan Kurniawan Gomes</td>\n",
       "      <td>Dosen Pembimbing I : Drs. Ec. Makhmud Zulkifli...</td>\n",
       "      <td>Dosen Pembimbing II :Echsan Gani, S.E., M.SI</td>\n",
       "      <td>hasil dari penelitian ini dari perhitungan cre...</td>\n",
       "      <td>[hasil, dari, penelitian, ini, dari, perhitung...</td>\n",
       "      <td>[hasil, penelitian, perhitungan, credit, risk,...</td>\n",
       "      <td>[hasil, teliti, hitung, credit, risk, ratio, t...</td>\n",
       "    </tr>\n",
       "    <tr>\n",
       "      <th>1</th>\n",
       "      <td>PENGARUH DIMENSI KUALITAS PELAYANAN TERHADAP K...</td>\n",
       "      <td>Penulis : Toni Budianto</td>\n",
       "      <td>Dosen Pembimbing I : Bambang Setiyo Pambudi, S...</td>\n",
       "      <td>Dosen Pembimbing II :Fathor AS, S.E., MM.</td>\n",
       "      <td>abstrak tujuan penelitian ini adalah untuk men...</td>\n",
       "      <td>[abstrak, tujuan, penelitian, ini, adalah, unt...</td>\n",
       "      <td>[abstrak, tujuan, penelitian, mengidentifikasi...</td>\n",
       "      <td>[abstrak, tuju, teliti, identifikasi, variabel...</td>\n",
       "    </tr>\n",
       "    <tr>\n",
       "      <th>2</th>\n",
       "      <td>PENGARUH TIPE KEPEMIMPINAN TERHADAP PRESTASI K...</td>\n",
       "      <td>Penulis : Dharma Abidin Syah</td>\n",
       "      <td>Dosen Pembimbing I : Drs. Ec. Mudji Kuswinarno...</td>\n",
       "      <td>Dosen Pembimbing II :Faidal SE, MM</td>\n",
       "      <td>abstrak dharma abidin syahkesimpulan terdapat ...</td>\n",
       "      <td>[abstrak, dharma, abidin, syahkesimpulan, terd...</td>\n",
       "      <td>[abstrak, dharma, abidin, syahkesimpulan, peng...</td>\n",
       "      <td>[abstrak, dharma, abidin, syahkesimpulan, peng...</td>\n",
       "    </tr>\n",
       "    <tr>\n",
       "      <th>3</th>\n",
       "      <td>PENGARUH KOMPETENSI DOSEN TERHADAP KINERJA DOS...</td>\n",
       "      <td>Penulis : Aththaariq</td>\n",
       "      <td>Dosen Pembimbing I : Dr.RM Moch Wispandono,.S....</td>\n",
       "      <td>Dosen Pembimbing II :Dr. Muhammad Alkirom Wild...</td>\n",
       "      <td>abstrak aththaariq pengaruh kompetensi dosen t...</td>\n",
       "      <td>[abstrak, aththaariq, pengaruh, kompetensi, do...</td>\n",
       "      <td>[abstrak, aththaariq, pengaruh, kompetensi, do...</td>\n",
       "      <td>[abstrak, aththaariq, pengaruh, kompetensi, do...</td>\n",
       "    </tr>\n",
       "    <tr>\n",
       "      <th>4</th>\n",
       "      <td>Pengaruh Iklan di televisi terhadap keputusan ...</td>\n",
       "      <td>Penulis : Muhammad Sholeh</td>\n",
       "      <td>Dosen Pembimbing I : Bambang Setiyo Pambudi, S...</td>\n",
       "      <td>Dosen Pembimbing II :Suyono, S.E.,M.S.M</td>\n",
       "      <td>muhammad sholeh pengaruh iklan di televisi ter...</td>\n",
       "      <td>[muhammad, sholeh, pengaruh, iklan, di, televi...</td>\n",
       "      <td>[muhammad, sholeh, pengaruh, iklan, televisi, ...</td>\n",
       "      <td>[muhammad, sholeh, pengaruh, iklan, televisi, ...</td>\n",
       "    </tr>\n",
       "  </tbody>\n",
       "</table>\n",
       "</div>"
      ],
      "text/plain": [
       "                                               Judul  \\\n",
       "0  ANALISIS TINGKAT RISIKO KREDIT \\r\\nPADA PD. BP...   \n",
       "1  PENGARUH DIMENSI KUALITAS PELAYANAN TERHADAP K...   \n",
       "2  PENGARUH TIPE KEPEMIMPINAN TERHADAP PRESTASI K...   \n",
       "3  PENGARUH KOMPETENSI DOSEN TERHADAP KINERJA DOS...   \n",
       "4  Pengaruh Iklan di televisi terhadap keputusan ...   \n",
       "\n",
       "                          Penulis  \\\n",
       "0  Penulis : Iwan Kurniawan Gomes   \n",
       "1         Penulis : Toni Budianto   \n",
       "2    Penulis : Dharma Abidin Syah   \n",
       "3            Penulis : Aththaariq   \n",
       "4       Penulis : Muhammad Sholeh   \n",
       "\n",
       "                                             Dosen 1  \\\n",
       "0  Dosen Pembimbing I : Drs. Ec. Makhmud Zulkifli...   \n",
       "1  Dosen Pembimbing I : Bambang Setiyo Pambudi, S...   \n",
       "2  Dosen Pembimbing I : Drs. Ec. Mudji Kuswinarno...   \n",
       "3  Dosen Pembimbing I : Dr.RM Moch Wispandono,.S....   \n",
       "4  Dosen Pembimbing I : Bambang Setiyo Pambudi, S...   \n",
       "\n",
       "                                             Dosen 2  \\\n",
       "0       Dosen Pembimbing II :Echsan Gani, S.E., M.SI   \n",
       "1          Dosen Pembimbing II :Fathor AS, S.E., MM.   \n",
       "2                 Dosen Pembimbing II :Faidal SE, MM   \n",
       "3  Dosen Pembimbing II :Dr. Muhammad Alkirom Wild...   \n",
       "4            Dosen Pembimbing II :Suyono, S.E.,M.S.M   \n",
       "\n",
       "                                             Abstrak  \\\n",
       "0  hasil dari penelitian ini dari perhitungan cre...   \n",
       "1  abstrak tujuan penelitian ini adalah untuk men...   \n",
       "2  abstrak dharma abidin syahkesimpulan terdapat ...   \n",
       "3  abstrak aththaariq pengaruh kompetensi dosen t...   \n",
       "4  muhammad sholeh pengaruh iklan di televisi ter...   \n",
       "\n",
       "                                       abstrak_token  \\\n",
       "0  [hasil, dari, penelitian, ini, dari, perhitung...   \n",
       "1  [abstrak, tujuan, penelitian, ini, adalah, unt...   \n",
       "2  [abstrak, dharma, abidin, syahkesimpulan, terd...   \n",
       "3  [abstrak, aththaariq, pengaruh, kompetensi, do...   \n",
       "4  [muhammad, sholeh, pengaruh, iklan, di, televi...   \n",
       "\n",
       "                                        abstrak_stop  \\\n",
       "0  [hasil, penelitian, perhitungan, credit, risk,...   \n",
       "1  [abstrak, tujuan, penelitian, mengidentifikasi...   \n",
       "2  [abstrak, dharma, abidin, syahkesimpulan, peng...   \n",
       "3  [abstrak, aththaariq, pengaruh, kompetensi, do...   \n",
       "4  [muhammad, sholeh, pengaruh, iklan, televisi, ...   \n",
       "\n",
       "                                        abstrak_stem  \n",
       "0  [hasil, teliti, hitung, credit, risk, ratio, t...  \n",
       "1  [abstrak, tuju, teliti, identifikasi, variabel...  \n",
       "2  [abstrak, dharma, abidin, syahkesimpulan, peng...  \n",
       "3  [abstrak, aththaariq, pengaruh, kompetensi, do...  \n",
       "4  [muhammad, sholeh, pengaruh, iklan, televisi, ...  "
      ]
     },
     "execution_count": 9,
     "metadata": {},
     "output_type": "execute_result"
    }
   ],
   "source": [
    "dataPTA.head()"
   ]
  },
  {
   "cell_type": "markdown",
   "id": "e2cd17a3",
   "metadata": {},
   "source": [
    "# TF Process"
   ]
  },
  {
   "cell_type": "code",
   "execution_count": 10,
   "id": "d74640f8",
   "metadata": {},
   "outputs": [
    {
     "data": {
      "text/html": [
       "<div>\n",
       "<style scoped>\n",
       "    .dataframe tbody tr th:only-of-type {\n",
       "        vertical-align: middle;\n",
       "    }\n",
       "\n",
       "    .dataframe tbody tr th {\n",
       "        vertical-align: top;\n",
       "    }\n",
       "\n",
       "    .dataframe thead tr th {\n",
       "        text-align: left;\n",
       "    }\n",
       "</style>\n",
       "<table border=\"1\" class=\"dataframe\">\n",
       "  <thead>\n",
       "    <tr>\n",
       "      <th></th>\n",
       "      <th>abidin</th>\n",
       "      <th>abstrak</th>\n",
       "      <th>abtrak</th>\n",
       "      <th>accidental</th>\n",
       "      <th>acer</th>\n",
       "      <th>action</th>\n",
       "      <th>adaro</th>\n",
       "      <th>adira</th>\n",
       "      <th>adjusted</th>\n",
       "      <th>adnya</th>\n",
       "      <th>...</th>\n",
       "      <th>wilayah</th>\n",
       "      <th>wildansemsi</th>\n",
       "      <th>windows</th>\n",
       "      <th>wispandonosems</th>\n",
       "      <th>xl</th>\n",
       "      <th>xterhadap</th>\n",
       "      <th>yakin</th>\n",
       "      <th>yamaha</th>\n",
       "      <th>yustina</th>\n",
       "      <th>zscore</th>\n",
       "    </tr>\n",
       "  </thead>\n",
       "  <tbody>\n",
       "    <tr>\n",
       "      <th>1</th>\n",
       "      <td>0.000000</td>\n",
       "      <td>0.000000</td>\n",
       "      <td>0.0</td>\n",
       "      <td>0.000000</td>\n",
       "      <td>0.0</td>\n",
       "      <td>0.0</td>\n",
       "      <td>0.000000</td>\n",
       "      <td>0.0</td>\n",
       "      <td>0.0</td>\n",
       "      <td>0.0</td>\n",
       "      <td>...</td>\n",
       "      <td>0.0</td>\n",
       "      <td>0.000000</td>\n",
       "      <td>0.0</td>\n",
       "      <td>0.000000</td>\n",
       "      <td>0.000000</td>\n",
       "      <td>0.0</td>\n",
       "      <td>0.0</td>\n",
       "      <td>0.0</td>\n",
       "      <td>0.0</td>\n",
       "      <td>0.0</td>\n",
       "    </tr>\n",
       "    <tr>\n",
       "      <th>2</th>\n",
       "      <td>0.000000</td>\n",
       "      <td>0.024704</td>\n",
       "      <td>0.0</td>\n",
       "      <td>0.069266</td>\n",
       "      <td>0.0</td>\n",
       "      <td>0.0</td>\n",
       "      <td>0.000000</td>\n",
       "      <td>0.0</td>\n",
       "      <td>0.0</td>\n",
       "      <td>0.0</td>\n",
       "      <td>...</td>\n",
       "      <td>0.0</td>\n",
       "      <td>0.000000</td>\n",
       "      <td>0.0</td>\n",
       "      <td>0.000000</td>\n",
       "      <td>0.000000</td>\n",
       "      <td>0.0</td>\n",
       "      <td>0.0</td>\n",
       "      <td>0.0</td>\n",
       "      <td>0.0</td>\n",
       "      <td>0.0</td>\n",
       "    </tr>\n",
       "    <tr>\n",
       "      <th>3</th>\n",
       "      <td>0.049981</td>\n",
       "      <td>0.008529</td>\n",
       "      <td>0.0</td>\n",
       "      <td>0.000000</td>\n",
       "      <td>0.0</td>\n",
       "      <td>0.0</td>\n",
       "      <td>0.000000</td>\n",
       "      <td>0.0</td>\n",
       "      <td>0.0</td>\n",
       "      <td>0.0</td>\n",
       "      <td>...</td>\n",
       "      <td>0.0</td>\n",
       "      <td>0.000000</td>\n",
       "      <td>0.0</td>\n",
       "      <td>0.000000</td>\n",
       "      <td>0.000000</td>\n",
       "      <td>0.0</td>\n",
       "      <td>0.0</td>\n",
       "      <td>0.0</td>\n",
       "      <td>0.0</td>\n",
       "      <td>0.0</td>\n",
       "    </tr>\n",
       "    <tr>\n",
       "      <th>4</th>\n",
       "      <td>0.000000</td>\n",
       "      <td>0.009930</td>\n",
       "      <td>0.0</td>\n",
       "      <td>0.000000</td>\n",
       "      <td>0.0</td>\n",
       "      <td>0.0</td>\n",
       "      <td>0.000000</td>\n",
       "      <td>0.0</td>\n",
       "      <td>0.0</td>\n",
       "      <td>0.0</td>\n",
       "      <td>...</td>\n",
       "      <td>0.0</td>\n",
       "      <td>0.058194</td>\n",
       "      <td>0.0</td>\n",
       "      <td>0.058194</td>\n",
       "      <td>0.000000</td>\n",
       "      <td>0.0</td>\n",
       "      <td>0.0</td>\n",
       "      <td>0.0</td>\n",
       "      <td>0.0</td>\n",
       "      <td>0.0</td>\n",
       "    </tr>\n",
       "    <tr>\n",
       "      <th>5</th>\n",
       "      <td>0.000000</td>\n",
       "      <td>0.000000</td>\n",
       "      <td>0.0</td>\n",
       "      <td>0.000000</td>\n",
       "      <td>0.0</td>\n",
       "      <td>0.0</td>\n",
       "      <td>0.000000</td>\n",
       "      <td>0.0</td>\n",
       "      <td>0.0</td>\n",
       "      <td>0.0</td>\n",
       "      <td>...</td>\n",
       "      <td>0.0</td>\n",
       "      <td>0.000000</td>\n",
       "      <td>0.0</td>\n",
       "      <td>0.000000</td>\n",
       "      <td>0.339700</td>\n",
       "      <td>0.0</td>\n",
       "      <td>0.0</td>\n",
       "      <td>0.0</td>\n",
       "      <td>0.0</td>\n",
       "      <td>0.0</td>\n",
       "    </tr>\n",
       "    <tr>\n",
       "      <th>...</th>\n",
       "      <td>...</td>\n",
       "      <td>...</td>\n",
       "      <td>...</td>\n",
       "      <td>...</td>\n",
       "      <td>...</td>\n",
       "      <td>...</td>\n",
       "      <td>...</td>\n",
       "      <td>...</td>\n",
       "      <td>...</td>\n",
       "      <td>...</td>\n",
       "      <td>...</td>\n",
       "      <td>...</td>\n",
       "      <td>...</td>\n",
       "      <td>...</td>\n",
       "      <td>...</td>\n",
       "      <td>...</td>\n",
       "      <td>...</td>\n",
       "      <td>...</td>\n",
       "      <td>...</td>\n",
       "      <td>...</td>\n",
       "      <td>...</td>\n",
       "    </tr>\n",
       "    <tr>\n",
       "      <th>61</th>\n",
       "      <td>0.000000</td>\n",
       "      <td>0.000000</td>\n",
       "      <td>0.0</td>\n",
       "      <td>0.000000</td>\n",
       "      <td>0.0</td>\n",
       "      <td>0.0</td>\n",
       "      <td>0.000000</td>\n",
       "      <td>0.0</td>\n",
       "      <td>0.0</td>\n",
       "      <td>0.0</td>\n",
       "      <td>...</td>\n",
       "      <td>0.0</td>\n",
       "      <td>0.000000</td>\n",
       "      <td>0.0</td>\n",
       "      <td>0.000000</td>\n",
       "      <td>0.000000</td>\n",
       "      <td>0.0</td>\n",
       "      <td>0.0</td>\n",
       "      <td>0.0</td>\n",
       "      <td>0.0</td>\n",
       "      <td>0.0</td>\n",
       "    </tr>\n",
       "    <tr>\n",
       "      <th>62</th>\n",
       "      <td>0.000000</td>\n",
       "      <td>0.000000</td>\n",
       "      <td>0.0</td>\n",
       "      <td>0.000000</td>\n",
       "      <td>0.0</td>\n",
       "      <td>0.0</td>\n",
       "      <td>0.000000</td>\n",
       "      <td>0.0</td>\n",
       "      <td>0.0</td>\n",
       "      <td>0.0</td>\n",
       "      <td>...</td>\n",
       "      <td>0.0</td>\n",
       "      <td>0.000000</td>\n",
       "      <td>0.0</td>\n",
       "      <td>0.000000</td>\n",
       "      <td>0.000000</td>\n",
       "      <td>0.0</td>\n",
       "      <td>0.0</td>\n",
       "      <td>0.0</td>\n",
       "      <td>0.0</td>\n",
       "      <td>0.0</td>\n",
       "    </tr>\n",
       "    <tr>\n",
       "      <th>63</th>\n",
       "      <td>0.000000</td>\n",
       "      <td>0.000000</td>\n",
       "      <td>0.0</td>\n",
       "      <td>0.000000</td>\n",
       "      <td>0.0</td>\n",
       "      <td>0.0</td>\n",
       "      <td>0.000000</td>\n",
       "      <td>0.0</td>\n",
       "      <td>0.0</td>\n",
       "      <td>0.0</td>\n",
       "      <td>...</td>\n",
       "      <td>0.0</td>\n",
       "      <td>0.000000</td>\n",
       "      <td>0.0</td>\n",
       "      <td>0.000000</td>\n",
       "      <td>0.567218</td>\n",
       "      <td>0.0</td>\n",
       "      <td>0.0</td>\n",
       "      <td>0.0</td>\n",
       "      <td>0.0</td>\n",
       "      <td>0.0</td>\n",
       "    </tr>\n",
       "    <tr>\n",
       "      <th>64</th>\n",
       "      <td>0.000000</td>\n",
       "      <td>0.000000</td>\n",
       "      <td>0.0</td>\n",
       "      <td>0.000000</td>\n",
       "      <td>0.0</td>\n",
       "      <td>0.0</td>\n",
       "      <td>0.000000</td>\n",
       "      <td>0.0</td>\n",
       "      <td>0.0</td>\n",
       "      <td>0.0</td>\n",
       "      <td>...</td>\n",
       "      <td>0.0</td>\n",
       "      <td>0.000000</td>\n",
       "      <td>0.0</td>\n",
       "      <td>0.000000</td>\n",
       "      <td>0.000000</td>\n",
       "      <td>0.0</td>\n",
       "      <td>0.0</td>\n",
       "      <td>0.0</td>\n",
       "      <td>0.0</td>\n",
       "      <td>0.0</td>\n",
       "    </tr>\n",
       "    <tr>\n",
       "      <th>65</th>\n",
       "      <td>0.000000</td>\n",
       "      <td>0.000000</td>\n",
       "      <td>0.0</td>\n",
       "      <td>0.000000</td>\n",
       "      <td>0.0</td>\n",
       "      <td>0.0</td>\n",
       "      <td>0.048346</td>\n",
       "      <td>0.0</td>\n",
       "      <td>0.0</td>\n",
       "      <td>0.0</td>\n",
       "      <td>...</td>\n",
       "      <td>0.0</td>\n",
       "      <td>0.000000</td>\n",
       "      <td>0.0</td>\n",
       "      <td>0.000000</td>\n",
       "      <td>0.000000</td>\n",
       "      <td>0.0</td>\n",
       "      <td>0.0</td>\n",
       "      <td>0.0</td>\n",
       "      <td>0.0</td>\n",
       "      <td>0.0</td>\n",
       "    </tr>\n",
       "  </tbody>\n",
       "</table>\n",
       "<p>65 rows × 1047 columns</p>\n",
       "</div>"
      ],
      "text/plain": [
       "      abidin   abstrak abtrak accidental acer action     adaro adira adjusted  \\\n",
       "1   0.000000  0.000000    0.0   0.000000  0.0    0.0  0.000000   0.0      0.0   \n",
       "2   0.000000  0.024704    0.0   0.069266  0.0    0.0  0.000000   0.0      0.0   \n",
       "3   0.049981  0.008529    0.0   0.000000  0.0    0.0  0.000000   0.0      0.0   \n",
       "4   0.000000  0.009930    0.0   0.000000  0.0    0.0  0.000000   0.0      0.0   \n",
       "5   0.000000  0.000000    0.0   0.000000  0.0    0.0  0.000000   0.0      0.0   \n",
       "..       ...       ...    ...        ...  ...    ...       ...   ...      ...   \n",
       "61  0.000000  0.000000    0.0   0.000000  0.0    0.0  0.000000   0.0      0.0   \n",
       "62  0.000000  0.000000    0.0   0.000000  0.0    0.0  0.000000   0.0      0.0   \n",
       "63  0.000000  0.000000    0.0   0.000000  0.0    0.0  0.000000   0.0      0.0   \n",
       "64  0.000000  0.000000    0.0   0.000000  0.0    0.0  0.000000   0.0      0.0   \n",
       "65  0.000000  0.000000    0.0   0.000000  0.0    0.0  0.048346   0.0      0.0   \n",
       "\n",
       "   adnya  ... wilayah wildansemsi windows wispandonosems        xl xterhadap  \\\n",
       "1    0.0  ...     0.0    0.000000     0.0       0.000000  0.000000       0.0   \n",
       "2    0.0  ...     0.0    0.000000     0.0       0.000000  0.000000       0.0   \n",
       "3    0.0  ...     0.0    0.000000     0.0       0.000000  0.000000       0.0   \n",
       "4    0.0  ...     0.0    0.058194     0.0       0.058194  0.000000       0.0   \n",
       "5    0.0  ...     0.0    0.000000     0.0       0.000000  0.339700       0.0   \n",
       "..   ...  ...     ...         ...     ...            ...       ...       ...   \n",
       "61   0.0  ...     0.0    0.000000     0.0       0.000000  0.000000       0.0   \n",
       "62   0.0  ...     0.0    0.000000     0.0       0.000000  0.000000       0.0   \n",
       "63   0.0  ...     0.0    0.000000     0.0       0.000000  0.567218       0.0   \n",
       "64   0.0  ...     0.0    0.000000     0.0       0.000000  0.000000       0.0   \n",
       "65   0.0  ...     0.0    0.000000     0.0       0.000000  0.000000       0.0   \n",
       "\n",
       "   yakin yamaha yustina zscore  \n",
       "1    0.0    0.0     0.0    0.0  \n",
       "2    0.0    0.0     0.0    0.0  \n",
       "3    0.0    0.0     0.0    0.0  \n",
       "4    0.0    0.0     0.0    0.0  \n",
       "5    0.0    0.0     0.0    0.0  \n",
       "..   ...    ...     ...    ...  \n",
       "61   0.0    0.0     0.0    0.0  \n",
       "62   0.0    0.0     0.0    0.0  \n",
       "63   0.0    0.0     0.0    0.0  \n",
       "64   0.0    0.0     0.0    0.0  \n",
       "65   0.0    0.0     0.0    0.0  \n",
       "\n",
       "[65 rows x 1047 columns]"
      ]
     },
     "execution_count": 10,
     "metadata": {},
     "output_type": "execute_result"
    }
   ],
   "source": [
    "vectorizer = TfidfVectorizer(stop_words='english')\n",
    "berita = []\n",
    "for data in dataPTA['abstrak_stem']:\n",
    "    isi = ''\n",
    "    for term in data:\n",
    "        isi += term + ' '\n",
    "    berita.append(isi)\n",
    "\n",
    "vectorizer.fit(berita)\n",
    "\n",
    "# Encode the Document\n",
    "vector = vectorizer.transform(berita)\n",
    "\n",
    "a= vectorizer.get_feature_names_out()\n",
    "\n",
    "count = vector.toarray()\n",
    "df = pd.DataFrame(data=count,columns = [a])\n",
    "\n",
    "from sklearn.feature_extraction.text import TfidfTransformer\n",
    "tfidf=TfidfTransformer(use_idf=True, norm='l2', smooth_idf=True)\n",
    "tf = tfidf.fit_transform(vectorizer.fit_transform(berita)).toarray()\n",
    "\n",
    "dfp =pd.DataFrame(data=tf, index=list(range(1,len(tf[:,1])+1, )),columns=[a])\n",
    "dfp"
   ]
  },
  {
   "cell_type": "code",
   "execution_count": 11,
   "id": "e85a55da",
   "metadata": {},
   "outputs": [],
   "source": [
    "from sklearn.decomposition import PCA\n",
    "df_pca = pd.DataFrame()\n",
    "# initialize PCA with 2 components\n",
    "pca = PCA(n_components=3, random_state=42)\n",
    "# pass our X to the pca and store the reduced vectors into pca_vecs\n",
    "pca_vecs = pca.fit_transform(dfp)\n",
    "# save our two dimensions into x0 and x1\n",
    "df_pca['x1']=pca_vecs[:, 1]\n",
    "df_pca['x2']=pca_vecs[:, 2]"
   ]
  },
  {
   "cell_type": "code",
   "execution_count": 12,
   "id": "67839b66",
   "metadata": {},
   "outputs": [
    {
     "data": {
      "text/html": [
       "<div>\n",
       "<style scoped>\n",
       "    .dataframe tbody tr th:only-of-type {\n",
       "        vertical-align: middle;\n",
       "    }\n",
       "\n",
       "    .dataframe tbody tr th {\n",
       "        vertical-align: top;\n",
       "    }\n",
       "\n",
       "    .dataframe thead th {\n",
       "        text-align: right;\n",
       "    }\n",
       "</style>\n",
       "<table border=\"1\" class=\"dataframe\">\n",
       "  <thead>\n",
       "    <tr style=\"text-align: right;\">\n",
       "      <th></th>\n",
       "      <th>x1</th>\n",
       "      <th>x2</th>\n",
       "    </tr>\n",
       "  </thead>\n",
       "  <tbody>\n",
       "    <tr>\n",
       "      <th>0</th>\n",
       "      <td>0.016073</td>\n",
       "      <td>-0.076808</td>\n",
       "    </tr>\n",
       "    <tr>\n",
       "      <th>1</th>\n",
       "      <td>-0.054130</td>\n",
       "      <td>-0.254427</td>\n",
       "    </tr>\n",
       "    <tr>\n",
       "      <th>2</th>\n",
       "      <td>0.140093</td>\n",
       "      <td>-0.204708</td>\n",
       "    </tr>\n",
       "    <tr>\n",
       "      <th>3</th>\n",
       "      <td>0.042328</td>\n",
       "      <td>-0.108632</td>\n",
       "    </tr>\n",
       "    <tr>\n",
       "      <th>4</th>\n",
       "      <td>0.574276</td>\n",
       "      <td>0.400161</td>\n",
       "    </tr>\n",
       "    <tr>\n",
       "      <th>...</th>\n",
       "      <td>...</td>\n",
       "      <td>...</td>\n",
       "    </tr>\n",
       "    <tr>\n",
       "      <th>60</th>\n",
       "      <td>-0.020000</td>\n",
       "      <td>-0.012201</td>\n",
       "    </tr>\n",
       "    <tr>\n",
       "      <th>61</th>\n",
       "      <td>0.145287</td>\n",
       "      <td>-0.313128</td>\n",
       "    </tr>\n",
       "    <tr>\n",
       "      <th>62</th>\n",
       "      <td>0.079714</td>\n",
       "      <td>0.158693</td>\n",
       "    </tr>\n",
       "    <tr>\n",
       "      <th>63</th>\n",
       "      <td>-0.279961</td>\n",
       "      <td>0.124019</td>\n",
       "    </tr>\n",
       "    <tr>\n",
       "      <th>64</th>\n",
       "      <td>-0.047666</td>\n",
       "      <td>-0.032328</td>\n",
       "    </tr>\n",
       "  </tbody>\n",
       "</table>\n",
       "<p>65 rows × 2 columns</p>\n",
       "</div>"
      ],
      "text/plain": [
       "          x1        x2\n",
       "0   0.016073 -0.076808\n",
       "1  -0.054130 -0.254427\n",
       "2   0.140093 -0.204708\n",
       "3   0.042328 -0.108632\n",
       "4   0.574276  0.400161\n",
       "..       ...       ...\n",
       "60 -0.020000 -0.012201\n",
       "61  0.145287 -0.313128\n",
       "62  0.079714  0.158693\n",
       "63 -0.279961  0.124019\n",
       "64 -0.047666 -0.032328\n",
       "\n",
       "[65 rows x 2 columns]"
      ]
     },
     "execution_count": 12,
     "metadata": {},
     "output_type": "execute_result"
    }
   ],
   "source": [
    "df_pca"
   ]
  },
  {
   "cell_type": "code",
   "execution_count": 13,
   "id": "bd885b3b",
   "metadata": {},
   "outputs": [
    {
     "ename": "AttributeError",
     "evalue": "'DataFrame' object has no attribute 'toarray'",
     "output_type": "error",
     "traceback": [
      "\u001b[1;31m---------------------------------------------------------------------------\u001b[0m",
      "\u001b[1;31mAttributeError\u001b[0m                            Traceback (most recent call last)",
      "\u001b[1;32m~\\AppData\\Local\\Temp/ipykernel_24176/567176220.py\u001b[0m in \u001b[0;36m<module>\u001b[1;34m\u001b[0m\n\u001b[0;32m      5\u001b[0m \u001b[0mpca\u001b[0m \u001b[1;33m=\u001b[0m \u001b[0mPCA\u001b[0m\u001b[1;33m(\u001b[0m\u001b[0mn_components\u001b[0m\u001b[1;33m=\u001b[0m\u001b[1;36m2\u001b[0m\u001b[1;33m,\u001b[0m \u001b[0mrandom_state\u001b[0m\u001b[1;33m=\u001b[0m\u001b[1;36m42\u001b[0m\u001b[1;33m)\u001b[0m\u001b[1;33m\u001b[0m\u001b[1;33m\u001b[0m\u001b[0m\n\u001b[0;32m      6\u001b[0m \u001b[1;31m# pass our X to the pca and store the reduced vectors into pca_vecs\u001b[0m\u001b[1;33m\u001b[0m\u001b[1;33m\u001b[0m\u001b[0m\n\u001b[1;32m----> 7\u001b[1;33m \u001b[0mpca_vecs\u001b[0m \u001b[1;33m=\u001b[0m \u001b[0mpca\u001b[0m\u001b[1;33m.\u001b[0m\u001b[0mfit_transform\u001b[0m\u001b[1;33m(\u001b[0m\u001b[0mdfp\u001b[0m\u001b[1;33m.\u001b[0m\u001b[0mtoarray\u001b[0m\u001b[1;33m(\u001b[0m\u001b[1;33m)\u001b[0m\u001b[1;33m)\u001b[0m\u001b[1;33m\u001b[0m\u001b[1;33m\u001b[0m\u001b[0m\n\u001b[0m\u001b[0;32m      8\u001b[0m \u001b[1;31m# save our two dimensions into x0 and x1\u001b[0m\u001b[1;33m\u001b[0m\u001b[1;33m\u001b[0m\u001b[0m\n\u001b[0;32m      9\u001b[0m \u001b[0mx0\u001b[0m \u001b[1;33m=\u001b[0m \u001b[0mpca_vecs\u001b[0m\u001b[1;33m[\u001b[0m\u001b[1;33m:\u001b[0m\u001b[1;33m,\u001b[0m \u001b[1;36m0\u001b[0m\u001b[1;33m]\u001b[0m\u001b[1;33m\u001b[0m\u001b[1;33m\u001b[0m\u001b[0m\n",
      "\u001b[1;32m~\\AppData\\Local\\Programs\\Python\\Python39\\lib\\site-packages\\pandas\\core\\generic.py\u001b[0m in \u001b[0;36m__getattr__\u001b[1;34m(self, name)\u001b[0m\n\u001b[0;32m   5485\u001b[0m         ):\n\u001b[0;32m   5486\u001b[0m             \u001b[1;32mreturn\u001b[0m \u001b[0mself\u001b[0m\u001b[1;33m[\u001b[0m\u001b[0mname\u001b[0m\u001b[1;33m]\u001b[0m\u001b[1;33m\u001b[0m\u001b[1;33m\u001b[0m\u001b[0m\n\u001b[1;32m-> 5487\u001b[1;33m         \u001b[1;32mreturn\u001b[0m \u001b[0mobject\u001b[0m\u001b[1;33m.\u001b[0m\u001b[0m__getattribute__\u001b[0m\u001b[1;33m(\u001b[0m\u001b[0mself\u001b[0m\u001b[1;33m,\u001b[0m \u001b[0mname\u001b[0m\u001b[1;33m)\u001b[0m\u001b[1;33m\u001b[0m\u001b[1;33m\u001b[0m\u001b[0m\n\u001b[0m\u001b[0;32m   5488\u001b[0m \u001b[1;33m\u001b[0m\u001b[0m\n\u001b[0;32m   5489\u001b[0m     \u001b[1;32mdef\u001b[0m \u001b[0m__setattr__\u001b[0m\u001b[1;33m(\u001b[0m\u001b[0mself\u001b[0m\u001b[1;33m,\u001b[0m \u001b[0mname\u001b[0m\u001b[1;33m:\u001b[0m \u001b[0mstr\u001b[0m\u001b[1;33m,\u001b[0m \u001b[0mvalue\u001b[0m\u001b[1;33m)\u001b[0m \u001b[1;33m->\u001b[0m \u001b[1;32mNone\u001b[0m\u001b[1;33m:\u001b[0m\u001b[1;33m\u001b[0m\u001b[1;33m\u001b[0m\u001b[0m\n",
      "\u001b[1;31mAttributeError\u001b[0m: 'DataFrame' object has no attribute 'toarray'"
     ]
    }
   ],
   "source": [
    "from sklearn.decomposition import PCA\n",
    "\n",
    "\n",
    "# initialize PCA with 2 components\n",
    "pca = PCA(n_components=2, random_state=42)\n",
    "# pass our X to the pca and store the reduced vectors into pca_vecs\n",
    "pca_vecs = pca.fit_transform(dfp.toarray())\n",
    "# save our two dimensions into x0 and x1\n",
    "x0 = pca_vecs[:, 0]\n",
    "x1 = pca_vecs[:, 1]"
   ]
  },
  {
   "cell_type": "code",
   "execution_count": null,
   "id": "d73cf51b",
   "metadata": {},
   "outputs": [],
   "source": [
    "# assign clusters and pca vectors to our dataframe \n",
    "dataPTA['cluster'] = clusters\n",
    "dataPTA['x0'] = x0\n",
    "dataPTA['x1'] = x1"
   ]
  },
  {
   "cell_type": "code",
   "execution_count": null,
   "id": "83716b3e",
   "metadata": {},
   "outputs": [],
   "source": [
    "def get_top_keywords(n_terms):\n",
    "    \"\"\"This function returns the keywords for each centroid of the KMeans\"\"\"\n",
    "    df = pd.DataFrame(X.todense()).groupby(clusters).mean() # groups the TF-IDF vector by cluster\n",
    "    terms = vectorizer.get_feature_names_out() # access tf-idf terms\n",
    "    for i,r in df.iterrows():\n",
    "        print('\\nCluster {}'.format(i))\n",
    "        print(','.join([terms[t] for t in np.argsort(r)[-n_terms:]])) # for each row of the dataframe, find the n terms that have the highest tf idf score\n",
    "            \n",
    "get_top_keywords(10)"
   ]
  },
  {
   "cell_type": "code",
   "execution_count": null,
   "id": "e2dd010f",
   "metadata": {},
   "outputs": [],
   "source": [
    "# map clusters to appropriate labels \n",
    "cluster_map = {0: \"sport\", 1: \"tech\", 2: \"religion\"}\n",
    "# apply mapping\n",
    "dataPTA['cluster'] = dataPTA['cluster'].map(cluster_map)"
   ]
  },
  {
   "cell_type": "code",
   "execution_count": null,
   "id": "80df1eb8",
   "metadata": {},
   "outputs": [],
   "source": [
    "# set image size\n",
    "plt.figure(figsize=(12, 7))\n",
    "# set a title\n",
    "plt.title(\"TF-IDF + KMeans 20newsgroup clustering\", fontdict={\"fontsize\": 18})\n",
    "# set axes names\n",
    "plt.xlabel(\"X0\", fontdict={\"fontsize\": 16})\n",
    "plt.ylabel(\"X1\", fontdict={\"fontsize\": 16})\n",
    "# create scatter plot with seaborn, where hue is the class used to group the data\n",
    "sns.scatterplot(data=dataPTA, x='x0', y='x1', hue='cluster', palette=\"viridis\")\n",
    "plt.show()"
   ]
  },
  {
   "cell_type": "code",
   "execution_count": null,
   "id": "ff1a51f9",
   "metadata": {},
   "outputs": [],
   "source": []
  }
 ],
 "metadata": {
  "kernelspec": {
   "display_name": "Python 3 (ipykernel)",
   "language": "python",
   "name": "python3"
  },
  "language_info": {
   "codemirror_mode": {
    "name": "ipython",
    "version": 3
   },
   "file_extension": ".py",
   "mimetype": "text/x-python",
   "name": "python",
   "nbconvert_exporter": "python",
   "pygments_lexer": "ipython3",
   "version": "3.9.10"
  }
 },
 "nbformat": 4,
 "nbformat_minor": 5
}