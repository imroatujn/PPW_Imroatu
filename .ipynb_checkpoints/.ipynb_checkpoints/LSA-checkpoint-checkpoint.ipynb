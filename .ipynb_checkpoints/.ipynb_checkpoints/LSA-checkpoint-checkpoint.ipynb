{
 "cells": [
  {
   "cell_type": "markdown",
   "id": "30544ebe",
   "metadata": {},
   "source": [
    "# Keseluruhan Code"
   ]
  },
  {
   "cell_type": "markdown",
   "id": "094c7d04",
   "metadata": {},
   "source": [
    "# Import Library"
   ]
  },
  {
   "cell_type": "code",
   "execution_count": 1,
   "id": "a121b66d",
   "metadata": {},
   "outputs": [],
   "source": [
    "import pandas as pd\n",
    "import numpy as np\n",
    "#Import Library untuk Tokenisasi\n",
    "import string \n",
    "import re #regex library\n",
    "\n",
    "# import word_tokenize & FreqDist dari NLTK\n",
    "from nltk.tokenize import word_tokenize \n",
    "from nltk.probability import FreqDist\n",
    "from nltk.corpus import stopwords\n",
    "\n",
    "from sklearn.feature_extraction.text import CountVectorizer\n",
    "from sklearn.feature_extraction.text import TfidfVectorizer\n",
    "from sklearn.decomposition import TruncatedSVD"
   ]
  },
  {
   "cell_type": "markdown",
   "id": "49555b1f",
   "metadata": {},
   "source": [
    "# Read Data PTA"
   ]
  },
  {
   "cell_type": "code",
   "execution_count": 2,
   "id": "433f983a",
   "metadata": {},
   "outputs": [],
   "source": [
    "dataPTA = pd.read_html('https://docs.google.com/spreadsheets/d/1HqauE0Ye4hKIGbzUBo3G2M7qTW5PoBEl/edit?usp=sharing&ouid=102871167012790968153&rtpof=true&sd=true')"
   ]
  },
  {
   "cell_type": "code",
   "execution_count": 3,
   "id": "85618ab0",
   "metadata": {
    "scrolled": true
   },
   "outputs": [
    {
     "ename": "AttributeError",
     "evalue": "'list' object has no attribute 'head'",
     "output_type": "error",
     "traceback": [
      "\u001b[1;31m---------------------------------------------------------------------------\u001b[0m",
      "\u001b[1;31mAttributeError\u001b[0m                            Traceback (most recent call last)",
      "\u001b[1;32m~\\AppData\\Local\\Temp/ipykernel_8912/4069857516.py\u001b[0m in \u001b[0;36m<module>\u001b[1;34m\u001b[0m\n\u001b[1;32m----> 1\u001b[1;33m \u001b[0mdataPTA\u001b[0m\u001b[1;33m.\u001b[0m\u001b[0mhead\u001b[0m\u001b[1;33m(\u001b[0m\u001b[1;36m10\u001b[0m\u001b[1;33m)\u001b[0m\u001b[1;33m\u001b[0m\u001b[1;33m\u001b[0m\u001b[0m\n\u001b[0m",
      "\u001b[1;31mAttributeError\u001b[0m: 'list' object has no attribute 'head'"
     ]
    }
   ],
   "source": [
    "dataPTA"
   ]
  },
  {
   "cell_type": "markdown",
   "id": "23d5ccaa",
   "metadata": {},
   "source": [
    "# Case Folding"
   ]
  },
  {
   "cell_type": "code",
   "execution_count": null,
   "id": "34dc14d3",
   "metadata": {
    "scrolled": true
   },
   "outputs": [],
   "source": [
    "\n",
    "# gunakan fungsi Series.str.lower() pada Pandas\n",
    "dataPTA['Abstrak'] = dataPTA['Abstrak'].str.lower()\n",
    "\n",
    "print('Case Folding Result : \\n')\n",
    "\n",
    "#cek hasil case fold\n",
    "print(dataPTA['Abstrak'].head(5))\n",
    "print('\\n\\n\\n')"
   ]
  },
  {
   "cell_type": "markdown",
   "id": "332d9326",
   "metadata": {},
   "source": [
    "# Removal"
   ]
  },
  {
   "cell_type": "code",
   "execution_count": null,
   "id": "7c240b30",
   "metadata": {},
   "outputs": [],
   "source": [
    "def remove_PTA_special(text):\n",
    "    # menghapus tab, new line, dan back slice\n",
    "    text = text.replace('\\\\t',\" \").replace('\\\\n',\" \").replace('\\\\u',\" \").replace('\\\\',\"\")\n",
    "    # menghapus non ASCII (emoticon, chinese word, .etc)\n",
    "    text = text.encode('ascii', 'replace').decode('ascii')\n",
    "    # menghapus mention, link, hashtag\n",
    "    text = ' '.join(re.sub(\"([@#][A-Za-z0-9]+)|(\\w+:\\/\\/\\S+)\",\" \", text).split())\n",
    "    # menghapus incomplete URL\n",
    "    return text.replace(\"http://\", \" \").replace(\"https://\", \" \")\n",
    "                \n",
    "dataPTA['Abstrak'] = dataPTA['Abstrak'].apply(remove_PTA_special)\n",
    "\n",
    "#menghapus nomor\n",
    "def remove_number(text):\n",
    "    return  re.sub(r\"\\d+\", \"\", text)\n",
    "\n",
    "dataPTA['Abstrak'] = dataPTA['Abstrak'].apply(remove_number)\n",
    "\n",
    "#menghapus punctuation\n",
    "def remove_punctuation(text):\n",
    "    return text.translate(str.maketrans(\"\",\"\",string.punctuation))\n",
    "\n",
    "dataPTA['Abstrak'] = dataPTA['Abstrak'].apply(remove_punctuation)\n",
    "\n",
    "#menghapus spasi leading & trailing\n",
    "def remove_whitespace_LT(text):\n",
    "    return text.strip()\n",
    "\n",
    "dataPTA['Abstrak'] = dataPTA['Abstrak'].apply(remove_whitespace_LT)\n",
    "\n",
    "#menghapus spasi tunggal dan ganda\n",
    "def remove_whitespace_multiple(text):\n",
    "    return re.sub('\\s+',' ',text)\n",
    "\n",
    "dataPTA['Abstrak'] = dataPTA['Abstrak'].apply(remove_whitespace_multiple)\n",
    "\n",
    "# menghapus kata 1 abjad\n",
    "def remove_singl_char(text):\n",
    "    return re.sub(r\"\\b[a-zA-Z]\\b\", \"\", text)\n",
    "\n",
    "dataPTA['Abstrak'] = dataPTA['Abstrak'].apply(remove_singl_char)\n",
    "\n",
    "print('Result : \\n') \n",
    "print(dataPTA['Abstrak'].head())\n",
    "print('\\n\\n\\n')"
   ]
  },
  {
   "cell_type": "markdown",
   "id": "fa6ae080",
   "metadata": {},
   "source": [
    "# STOPWORD "
   ]
  },
  {
   "cell_type": "code",
   "execution_count": null,
   "id": "36de7fc5",
   "metadata": {},
   "outputs": [],
   "source": [
    "list_stopwords = stopwords.words('indonesian')\n",
    "list_stopwords.extend([\"aam\",\"absolute\",\"abstract\",\"abstrakxd\",\"adm\",\"ahp\",\"ai\",\"aid\",\"akanxd\",\"akhirxd\",\"alert\",\"algorithm\",\n",
    "                       \"alpha\",\"alternative\",\"ambroxol\",\"analysis\",\"analytic\",\"analytical\",\"and\",\"angkaangka\",\"angular\",\"anp\",\n",
    "                       \"apl\",\"aplikasixd\",\"application\",\"architecture\",\"artifical\",\"as\",\"asesoris\",\"attribute\",\"automatic\",\n",
    "                       \"average\",\"babnyajika\",\"background\",\"bahanbahan\",\"baikxd\",\"balanced\",\"base\",\"based\",\"basic\",\"bc\",\n",
    "                       \"beasiwa\",\"benarbenar\",\"benedict\",\"beratxd\",\"berbedabeda\",\"berturutturut\",\"bifurcation\",\"binaryzation\",\n",
    "                       \"bisoprolol\",\"bkd\",\"block\",\"blue\",\"bold\",\"bolditalic\",\"bpp\",\"bps\",\"browsing\",\"bsc\",\"business\",\"by\",\n",
    "                       \"canny\",\"caps\",\"cbir\",\"cefixime\",\"center\",\"centroid\",\"chain\",\"chaining\",\"chainning\",\"character\",\n",
    "                       \"cipherteks\",\"class\",\"classfier\",\"classification\",\"classifier\",\"close\",\"cluster\",\"clustering\",\"coding\",\n",
    "                       \"combat\",\"commerce\",\"component\",\"compute\",\"computer\",\"confix\",\"content\",\"contex\",\"context\",\"corepoint\",\n",
    "                       \"corpus\",\"cosine\",\"criteria\",\"criteriaxd\",\"crm\",\"crossing\",\"customer\",\"cut\",\"cycle\",\"dalamxd\",\"darixd\",\n",
    "                       \"database\",\"datadata\",\"dataxd\",\"daviesbouldin\",\"decision\",\"decomposition\",\"defuzzyfikasi\",\"dekripsi\",\n",
    "                       \"denga\",\"denganxd\",\"depanxd\",\"depth\",\"design\",\"development\",\"dibatasixd\",\"dicarixd\",\"difference\",\n",
    "                       \"diprosesxd\",\"direction\",\"disegmentasi\",\"disk\",\"disperindag\",\"distance\",\"distemming\",\n",
    "                       \"dkpp\",\"dlda\",\"dominant\",\"download\",\"dperoleh\",\"dr\",\"drop\",\"dsebut\",\"eclipse\",\"ecommerce\",\"ecommercexd\",\n",
    "                       \"economic\",\"edge\",\"edm\",\"education\",\"egovernment\",\"eigenxd\",\"ekuitas\",\"electre\",\"electreii\",\"electronic\",\n",
    "                       \"emulator\",\"engghibunten\",\"engine\",\"engineering\",\"enginexd\",\"english\",\"enhanced\",\"enjeiyeh\",\"enterprise\",\n",
    "                       \"environment\",\"eoq\",\"epoch\",\"epoh\",\"error\",\"eucledian\",\"euclidean\",\"exploiting\",\"exponential\",\"express\",\n",
    "                       \"fahp\",\"fanp\",\"feature\",\"fighting\",\"filter\",\"filtering\",\"fine\",\"fingerprint\",\"fingerprintbitmaps\",\n",
    "                       \"finite\",\"firewall\",\"first\",\"fisik\",\"fmeasure\",\"fmop\",\"font\",\"foreign\",\"forward\",\"framework\",\"free\",\n",
    "                       \"frustasi\",\"fsm\",\"function\",\"fuzzy\",\"fvc\",\"galis\",\"game\",\"games\",\"garisgaris\",\"gateway\",\"gaussian\",\n",
    "                       \"geometry\",\"gizixd\",\"gldm\",\"glrm\",\"gr\",\"gradient\",\"gradients\",\"gray\",\"grayscaling\",\"grcitra\",\"ground\",\n",
    "                       \"growth\",\"ha\",\"haar\",\"had\",\"handwriting\",\"harris\",\"hash\",\"hh\",\"hidden\",\"hierarchy\",\"high\",\n",
    "                       \"hijauxd\",\"hl\",\"hog\",\"ht\",\"idb\",\"ii\",\"ij\",\"iksass\",\"image\",\"indahmulya\",\"indicator\",\"indicators\",\n",
    "                       \"infoinfo\",\"inginxd\",\"inixd\",\"inktech\",\"interface\",\"interprise\",\"intervace\",\"intervensi\",\"interview\",\n",
    "                       \"intraseluler\",\"intrusion\",\"invariant\",\"inventori\",\"ips\",\"iptables\",\"italic\",\n",
    "                       \"jaringanjaringan\",\"jarixd\",\"java\",\"jejaring\",\"jiwaxd\",\"jst\",\"kabupatenkabupaten\",\"kaganga\",\"kallista\",\n",
    "                       \"karakterkarakter\",\"karapanxd\",\"kec\",\"kerapan\",\"kerjasamaxd\",\"kesejahteraanya\",\"key\",\"keypoint\",\n",
    "                       \"keyword\",\"keywords\",\"kg\",\"kit\",\"kkm\",\"kluster\",\"kmeans\",\"kohonen\",\"kokop\",\"komulatif\",\"konang\",\n",
    "                       \"konekasi\",\"kpi\",\"kriteriakriteria\",\"kriteriaxd\",\"ksom\",\"kub\",\"kuisioner\",\"kuisoner\",\"lainlain\",\"lainxd\",\n",
    "                       \"langkahlangkah\",\"language\",\"languange\",\"latent\",\"layer\",\"lda\",\"learning\",\"least\",\"length\",\"lerning\",\n",
    "                       \"leveling\",\"lh\",\"life\",\"light\",\"linier\",\"link\",\"listening\",\"ll\",\"load\",\"log\",\"logic\",\"low\",\"lsa\",\n",
    "                       \"lsasom\",\"lt\",\"lunakxd\",\"lunturnya\",\"lvq\",\"lyapunov\",\"machine\",\"madistrindo\",\"maduraindonesia\",\n",
    "                       \"maduraxd\",\"mail\",\"making\",\"malan\",\"mamdani\",\"management\",\"manager\",\"mandiriauto\",\"map\",\"mape\",\"maps\",\n",
    "                       \"mapserver\",\"martodirdjo\",\"masingmasing\",\"masking\",\"matching\",\"matrix\",\"maze\",\"mazexd\",\"mcdm\",\"mdf\",\n",
    "                       \"mean\",\"melakukanxd\",\"membatu\",\"memilikixd\",\"mengenkripsi\",\"menggunakanxd\",\"message\",\n",
    "                       \"metadata\",\"method\",\"mg\",\"middleware\",\"minimnya\",\"minutea\",\"minutiae\",\"modung\",\n",
    "                       \"momentum\",\"monitoring\",\"morfologi\",\"mosaic\",\"mosaikpanoramik\",\"moving\",\"mpc\",\"mse\",\"multiatribute\",\n",
    "                       \"multimedia\",\"multiobjective\",\"multiple\",\"naive\",\"nave\",\"nbc\",\"negaranegara\",\"network\",\"neural\",\"ngram\",\n",
    "                       \"node\",\"nomor\",\"non\",\"npc\",\"number\",\"numberxd\",\"nya\",\"obatobatan\",\"objective\",\"obyek\",\"obyektif\",\"of\",\n",
    "                       \"offline\",\"ofr\",\"oldinary\",\"ols\",\"omax\",\"ontologi\",\"ontology\",\"open\",\"optical\",\"optimized\",\"optimiztion\",\n",
    "                       \"optimum\",\"ordered\",\"organizing\",\"oriented\",\"orl\",\"output\",\"owl\",\"panoramic\",\"panoramik\",\"panoteng\",\n",
    "                       \"parameterparameter\",\"parsing\",\"part\",\"particle\",\"pasienxd\",\"pattern\",\"pca\",\"pe\",\"pejualan\",\n",
    "                       \"pelajarsantri\",\"pelevelan\",\"pemvalidasian\",\n",
    "                       \"penjadwaln\",\"perankingan\",\"perankingannya\",\"percentage\",\"perconbaan\",\"performance\",\n",
    "                       \"periodeperiode\",\"permasalaha\",\"perusahaanxd\",\"pihakpihak\",\"pihakxd\",\"pixel\",\"pixels\",\"plainteks\",\n",
    "                       \"plasmodium\",\"plastec\",\"platform\",\"playable\",\"player\",\"pmg\",\"podhek\",\"point\",\"pose\",\"ppa\",\"prakandidat\",\n",
    "                       \"precision\",\"preference\",\"presentase\",\"preshion\",\"prevention\",\"prim\",\"principal\",\"prinsipnya\",\"print\",\n",
    "                       \"prism\",\"probabilitasmetode\",\"process\",\"processing\",\"produksipada\",\"produktivitas\",\"profitabilitas\",\n",
    "                       \"programing\",\"programming\",\"programprogram\",\"project\",\"prosentase\",\"prosesnya\",\"pso\",\"pt\",\"ptxd\",\n",
    "                       \"quantity\",\"quantization\",\"query\",\"rangkebbhan\",\"rank\",\"ranks\",\"raskin\",\"ratarata\",\"rate\",\"rater\",\n",
    "                       \"rating\",\"ratus\",\"rbfn\",\"rbfnn\",\"rbfnnxd\",\"rc\",\"rdf\",\"reading\",\"real\",\"realistisxd\",\"realitas\",\"reality\",\n",
    "                       \"realtime\",\"recall\",\"recognition\",\"rekomndasi\",\"relative\",\"release\",\"resource\",\"resources\",\"responden\",\n",
    "                       \"retrieval\",\"reuse\",\"ridge\",\"riilxd\",\"rill\",\"riwayatxd\",\"rehabilitasi\",\"roughness\",\"rts\",\"run\",\"saaty\",\n",
    "                       \"salafiyah\",\"roughness\",\"sales\",\"sasaranxd\",\"satunya\",\"satunya\",\"scale\",\"scm\",\"scorecard\",\"scoring\",\n",
    "                       \"screen\",\"sdk\",\"sdkxd\",\"sdlc\",\"sdm\",\"search\",\"second\",\"security\",\"segmentasinya\",\"seharihari\",\n",
    "                       \"sekuensial\",\"self\",\"semantic\",\"sencitivity\",\"seolaholah\",\"separation\",\"seringkali\",\"server\",\"service\",\n",
    "                       \"ses\",\"seseorangxd\",\"shop\",\"shortest\",\"sift\",\"sikannya\",\"similar\",\"similaritas\",\"similarity\",\"simple\",\n",
    "                       \"simtak\",\"single\",\"singular\",\"sistemxd\",\"skenarioskenario\",\"sky\",\"sma\",\"smarter\",\"smartphone\",\n",
    "                       \"smoothing\",\"smooting\",\"smp\",\"sms\",\"snort\",\"software\",\"solusinya\",\"solusinyaxd\",\"solution\",\"som\",\"sort\",\n",
    "                       \"source\",\"spare\",\"spasial\",\"spci\",\"speaking\",\"specificity\",\"speech\",\"spk\",\"square\",\"stakeholder\",\"state\",\n",
    "                       \"statistik\",\"statusxd\",\"stemmer\",\"stemming\",\"stockpile\",\"strategi\",\"strategy\",\"straw\",\"stripping\",\n",
    "                       \"style\",\"sub\",\"subkriteria\",\"subset\",\"subsistem\",\"subtropics\",\"subyektivitas\",\"sumenep\",\"suplier\",\n",
    "                       \"supplier\",\"supply\",\"swarm\",\"syafiiyah\",\"system\",\"tab\",\"tamansepanjang\",\"technique\",\"telekomunikasi\",\n",
    "                       \"terater\",\"terhadapxd\",\"termination\",\"terpisahpisah\",\"tersebutxd\",\"tertentuumumnya\",\"test\",\"testes\",\n",
    "                       \"testing\",\"thinning\",\"thomas\",\"threshold\",\"tiaptiap\",\"time\",\"tinggixd\",\"titiktitik\",\"tnpk\",\"to\",\"toba\",\n",
    "                       \"toefl\",\"toeflxd\",\"togaf\",\"tool\",\"tools\",\"tooltool\",\"topsis\",\"traffic\",\"tragah\",\"training\",\"transform\",\n",
    "                       \"treshold\",\"truth\",\"tsai\",\"tujuansetelah\",\"tulangan\",\"tuneup\",\"two\",\"ujicoba\",\"userxd\",\"utnuk\",\n",
    "                       \"validitas\",\"value\",\"vector\",\"velocity\",\"vii\",\"virtual\",\"vision\",\"vr\",\"wachid\",\"waktuxd\",\"waterfall\",\n",
    "                       \"watershed\",\"wavelet\",\"web\",\"website\",\"webxd\",\"wide\",\"window\",\"winnowing\",\"world\",\"www\",\"xd\",\"xna\",\n",
    "                       \"yakersuda\",\"yangxd\",'baiknya', 'berkali', 'kali', 'kurangnya', 'mata', 'olah', 'sekurang', 'setidak', 'tama', 'tidaknya'])\n",
    "# Mengubah List ke dictionary\n",
    "list_stopwords = set(list_stopwords)"
   ]
  },
  {
   "cell_type": "code",
   "execution_count": null,
   "id": "c9547f60",
   "metadata": {
    "scrolled": false
   },
   "outputs": [],
   "source": [
    "dataPTA.head()"
   ]
  },
  {
   "cell_type": "code",
   "execution_count": null,
   "id": "ee4c2dd6",
   "metadata": {},
   "outputs": [],
   "source": [
    "vect =TfidfVectorizer(stop_words=list_stopwords,max_features=1000) \n",
    "vect_text=vect.fit_transform(dataPTA['Abstrak'])\n",
    "print(vect_text.shape)\n",
    "print(vect_text)\n"
   ]
  },
  {
   "cell_type": "code",
   "execution_count": null,
   "id": "077ed306",
   "metadata": {},
   "outputs": [],
   "source": [
    "lsa_model = TruncatedSVD(n_components=10, algorithm='randomized', n_iter=10, random_state=42)\n",
    "\n",
    "lsa_top=lsa_model.fit_transform(vect_text)"
   ]
  },
  {
   "cell_type": "code",
   "execution_count": null,
   "id": "3e8aa9b5",
   "metadata": {},
   "outputs": [],
   "source": [
    "print(lsa_top)\n",
    "print(lsa_top.shape)  # (no_of_doc*no_of_topics)"
   ]
  },
  {
   "cell_type": "code",
   "execution_count": null,
   "id": "35bdd2e4",
   "metadata": {},
   "outputs": [],
   "source": [
    "l=lsa_top[0]\n",
    "print(\"Document 0 :\")\n",
    "for i,topic in enumerate(l):\n",
    "  print(\"Topic \",i,\" : \",topic*100)"
   ]
  },
  {
   "cell_type": "code",
   "execution_count": null,
   "id": "d5c755b5",
   "metadata": {},
   "outputs": [],
   "source": [
    "print(lsa_model.components_.shape) # (no_of_topics*no_of_words)\n",
    "print(lsa_model.components_)"
   ]
  },
  {
   "cell_type": "code",
   "execution_count": null,
   "id": "889d28c4",
   "metadata": {},
   "outputs": [],
   "source": [
    "# most important words for each topic\n",
    "vocab = vect.get_feature_names()\n",
    "\n",
    "for i, comp in enumerate(lsa_model.components_):\n",
    "    vocab_comp = zip(vocab, comp)\n",
    "    sorted_words = sorted(vocab_comp, key= lambda x:x[1], reverse=True)[:10]\n",
    "    print(\"Topic \"+str(i)+\": \")\n",
    "    for t in sorted_words:\n",
    "        print(t[0],end=\" \")\n",
    "    print(\"\\n\")"
   ]
  },
  {
   "cell_type": "code",
   "execution_count": null,
   "id": "530878cc",
   "metadata": {},
   "outputs": [],
   "source": []
  }
 ],
 "metadata": {
  "kernelspec": {
   "display_name": "Python 3 (ipykernel)",
   "language": "python",
   "name": "python3"
  },
  "language_info": {
   "codemirror_mode": {
    "name": "ipython",
    "version": 3
   },
   "file_extension": ".py",
   "mimetype": "text/x-python",
   "name": "python",
   "nbconvert_exporter": "python",
   "pygments_lexer": "ipython3",
   "version": "3.9.10"
  }
 },
 "nbformat": 4,
 "nbformat_minor": 5
}
